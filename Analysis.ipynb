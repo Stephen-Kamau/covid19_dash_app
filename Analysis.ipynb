{
 "cells": [
  {
   "cell_type": "code",
   "execution_count": 1,
   "metadata": {},
   "outputs": [],
   "source": [
    "#import libs for processing>\n",
    "import pandas as pd\n",
    "import numpy as np \n",
    "import seaborn as sns\n",
    "import plotly.express as px\n",
    "import matplotlib.pyplot as plt\n",
    "import warnings\n",
    "warnings.filterwarnings('ignore')\n",
    "%matplotlib inline\n",
    "pd.set_option('display.max_columns',50)\n",
    "sns.set(style = 'darkgrid')"
   ]
  },
  {
   "cell_type": "code",
   "execution_count": 2,
   "metadata": {},
   "outputs": [],
   "source": [
    "cases = pd.read_csv(\"https://data.humdata.org/hxlproxy/api/data-preview.csv?url=https%3A%2F%2Fraw.githubusercontent.com%2FCSSEGISandData%2FCOVID-19%2Fmaster%2Fcsse_covid_19_data%2Fcsse_covid_19_time_series%2Ftime_series_covid19_confirmed_global.csv&filename=time_series_covid19_confirmed_global.csv\")\n",
    "deaths = pd.read_csv('https://data.humdata.org/hxlproxy/api/data-preview.csv?url=https%3A%2F%2Fraw.githubusercontent.com%2FCSSEGISandData%2FCOVID-19%2Fmaster%2Fcsse_covid_19_data%2Fcsse_covid_19_time_series%2Ftime_series_covid19_deaths_global.csv&filename=time_series_covid19_deaths_global.csv')\n",
    "recover = pd.read_csv(\"https://data.humdata.org/hxlproxy/api/data-preview.csv?url=https%3A%2F%2Fraw.githubusercontent.com%2FCSSEGISandData%2FCOVID-19%2Fmaster%2Fcsse_covid_19_data%2Fcsse_covid_19_time_series%2Ftime_series_covid19_recovered_global.csv&filename=time_series_covid19_recovered_global.csv\")"
   ]
  },
  {
   "cell_type": "code",
   "execution_count": 3,
   "metadata": {},
   "outputs": [],
   "source": [
    "# #lets drop the province/state col since it contains mostly nulls in all dfs\n",
    "# cases.drop('Province/State' , axis =1 , inplace = True)\n",
    "# recover.drop('Province/State' , axis =1 , inplace = True)\n",
    "# deaths.drop('Province/State' , axis =1 , inplace = True)"
   ]
  },
  {
   "cell_type": "code",
   "execution_count": 4,
   "metadata": {},
   "outputs": [],
   "source": [
    "#renaming the country/region column withsingle word\n",
    "country_rn = {\"Country/Region\":\"Country\"}\n",
    "cases.rename(columns =country_rn , inplace = True)\n",
    "recover.rename(columns =country_rn , inplace = True)\n",
    "deaths.rename(columns =country_rn , inplace = True)"
   ]
  },
  {
   "cell_type": "code",
   "execution_count": 5,
   "metadata": {},
   "outputs": [],
   "source": [
    "#renaming the country/region column withsingle word\n",
    "state_rn = {\"Province/State\":\"state\"}\n",
    "cases.rename(columns =state_rn , inplace = True)\n",
    "recover.rename(columns =state_rn , inplace = True)\n",
    "deaths.rename(columns =state_rn , inplace = True)"
   ]
  },
  {
   "cell_type": "code",
   "execution_count": 6,
   "metadata": {},
   "outputs": [
    {
     "data": {
      "text/html": [
       "<div>\n",
       "<style scoped>\n",
       "    .dataframe tbody tr th:only-of-type {\n",
       "        vertical-align: middle;\n",
       "    }\n",
       "\n",
       "    .dataframe tbody tr th {\n",
       "        vertical-align: top;\n",
       "    }\n",
       "\n",
       "    .dataframe thead th {\n",
       "        text-align: right;\n",
       "    }\n",
       "</style>\n",
       "<table border=\"1\" class=\"dataframe\">\n",
       "  <thead>\n",
       "    <tr style=\"text-align: right;\">\n",
       "      <th></th>\n",
       "      <th>state</th>\n",
       "      <th>Country</th>\n",
       "      <th>Lat</th>\n",
       "      <th>Long</th>\n",
       "      <th>1/22/20</th>\n",
       "      <th>1/23/20</th>\n",
       "      <th>1/24/20</th>\n",
       "      <th>1/25/20</th>\n",
       "      <th>1/26/20</th>\n",
       "      <th>1/27/20</th>\n",
       "      <th>1/28/20</th>\n",
       "      <th>1/29/20</th>\n",
       "      <th>1/30/20</th>\n",
       "      <th>1/31/20</th>\n",
       "      <th>2/1/20</th>\n",
       "      <th>2/2/20</th>\n",
       "      <th>2/3/20</th>\n",
       "      <th>2/4/20</th>\n",
       "      <th>2/5/20</th>\n",
       "      <th>2/6/20</th>\n",
       "      <th>2/7/20</th>\n",
       "      <th>2/8/20</th>\n",
       "      <th>2/9/20</th>\n",
       "      <th>2/10/20</th>\n",
       "      <th>2/11/20</th>\n",
       "      <th>...</th>\n",
       "      <th>4/15/21</th>\n",
       "      <th>4/16/21</th>\n",
       "      <th>4/17/21</th>\n",
       "      <th>4/18/21</th>\n",
       "      <th>4/19/21</th>\n",
       "      <th>4/20/21</th>\n",
       "      <th>4/21/21</th>\n",
       "      <th>4/22/21</th>\n",
       "      <th>4/23/21</th>\n",
       "      <th>4/24/21</th>\n",
       "      <th>4/25/21</th>\n",
       "      <th>4/26/21</th>\n",
       "      <th>4/27/21</th>\n",
       "      <th>4/28/21</th>\n",
       "      <th>4/29/21</th>\n",
       "      <th>4/30/21</th>\n",
       "      <th>5/1/21</th>\n",
       "      <th>5/2/21</th>\n",
       "      <th>5/3/21</th>\n",
       "      <th>5/4/21</th>\n",
       "      <th>5/5/21</th>\n",
       "      <th>5/6/21</th>\n",
       "      <th>5/7/21</th>\n",
       "      <th>5/8/21</th>\n",
       "      <th>5/9/21</th>\n",
       "    </tr>\n",
       "  </thead>\n",
       "  <tbody>\n",
       "    <tr>\n",
       "      <th>0</th>\n",
       "      <td>NaN</td>\n",
       "      <td>Afghanistan</td>\n",
       "      <td>33.93911</td>\n",
       "      <td>67.709953</td>\n",
       "      <td>0</td>\n",
       "      <td>0</td>\n",
       "      <td>0</td>\n",
       "      <td>0</td>\n",
       "      <td>0</td>\n",
       "      <td>0</td>\n",
       "      <td>0</td>\n",
       "      <td>0</td>\n",
       "      <td>0</td>\n",
       "      <td>0</td>\n",
       "      <td>0</td>\n",
       "      <td>0</td>\n",
       "      <td>0</td>\n",
       "      <td>0</td>\n",
       "      <td>0</td>\n",
       "      <td>0</td>\n",
       "      <td>0</td>\n",
       "      <td>0</td>\n",
       "      <td>0</td>\n",
       "      <td>0</td>\n",
       "      <td>0</td>\n",
       "      <td>...</td>\n",
       "      <td>57534</td>\n",
       "      <td>57612</td>\n",
       "      <td>57721</td>\n",
       "      <td>57793</td>\n",
       "      <td>57898</td>\n",
       "      <td>58037</td>\n",
       "      <td>58214</td>\n",
       "      <td>58312</td>\n",
       "      <td>58542</td>\n",
       "      <td>58730</td>\n",
       "      <td>58843</td>\n",
       "      <td>59015</td>\n",
       "      <td>59225</td>\n",
       "      <td>59370</td>\n",
       "      <td>59576</td>\n",
       "      <td>59745</td>\n",
       "      <td>59939</td>\n",
       "      <td>60122</td>\n",
       "      <td>60300</td>\n",
       "      <td>60563</td>\n",
       "      <td>60797</td>\n",
       "      <td>61162</td>\n",
       "      <td>61455</td>\n",
       "      <td>61755</td>\n",
       "      <td>61842</td>\n",
       "    </tr>\n",
       "    <tr>\n",
       "      <th>1</th>\n",
       "      <td>NaN</td>\n",
       "      <td>Albania</td>\n",
       "      <td>41.15330</td>\n",
       "      <td>20.168300</td>\n",
       "      <td>0</td>\n",
       "      <td>0</td>\n",
       "      <td>0</td>\n",
       "      <td>0</td>\n",
       "      <td>0</td>\n",
       "      <td>0</td>\n",
       "      <td>0</td>\n",
       "      <td>0</td>\n",
       "      <td>0</td>\n",
       "      <td>0</td>\n",
       "      <td>0</td>\n",
       "      <td>0</td>\n",
       "      <td>0</td>\n",
       "      <td>0</td>\n",
       "      <td>0</td>\n",
       "      <td>0</td>\n",
       "      <td>0</td>\n",
       "      <td>0</td>\n",
       "      <td>0</td>\n",
       "      <td>0</td>\n",
       "      <td>0</td>\n",
       "      <td>...</td>\n",
       "      <td>129128</td>\n",
       "      <td>129307</td>\n",
       "      <td>129456</td>\n",
       "      <td>129594</td>\n",
       "      <td>129694</td>\n",
       "      <td>129842</td>\n",
       "      <td>129980</td>\n",
       "      <td>130114</td>\n",
       "      <td>130270</td>\n",
       "      <td>130409</td>\n",
       "      <td>130537</td>\n",
       "      <td>130606</td>\n",
       "      <td>130736</td>\n",
       "      <td>130859</td>\n",
       "      <td>130977</td>\n",
       "      <td>131085</td>\n",
       "      <td>131185</td>\n",
       "      <td>131238</td>\n",
       "      <td>131276</td>\n",
       "      <td>131327</td>\n",
       "      <td>131419</td>\n",
       "      <td>131510</td>\n",
       "      <td>131577</td>\n",
       "      <td>131666</td>\n",
       "      <td>131723</td>\n",
       "    </tr>\n",
       "  </tbody>\n",
       "</table>\n",
       "<p>2 rows × 478 columns</p>\n",
       "</div>"
      ],
      "text/plain": [
       "  state      Country       Lat       Long  1/22/20  1/23/20  1/24/20  1/25/20  \\\n",
       "0   NaN  Afghanistan  33.93911  67.709953        0        0        0        0   \n",
       "1   NaN      Albania  41.15330  20.168300        0        0        0        0   \n",
       "\n",
       "   1/26/20  1/27/20  1/28/20  1/29/20  1/30/20  1/31/20  2/1/20  2/2/20  \\\n",
       "0        0        0        0        0        0        0       0       0   \n",
       "1        0        0        0        0        0        0       0       0   \n",
       "\n",
       "   2/3/20  2/4/20  2/5/20  2/6/20  2/7/20  2/8/20  2/9/20  2/10/20  2/11/20  \\\n",
       "0       0       0       0       0       0       0       0        0        0   \n",
       "1       0       0       0       0       0       0       0        0        0   \n",
       "\n",
       "   ...  4/15/21  4/16/21  4/17/21  4/18/21  4/19/21  4/20/21  4/21/21  \\\n",
       "0  ...    57534    57612    57721    57793    57898    58037    58214   \n",
       "1  ...   129128   129307   129456   129594   129694   129842   129980   \n",
       "\n",
       "   4/22/21  4/23/21  4/24/21  4/25/21  4/26/21  4/27/21  4/28/21  4/29/21  \\\n",
       "0    58312    58542    58730    58843    59015    59225    59370    59576   \n",
       "1   130114   130270   130409   130537   130606   130736   130859   130977   \n",
       "\n",
       "   4/30/21  5/1/21  5/2/21  5/3/21  5/4/21  5/5/21  5/6/21  5/7/21  5/8/21  \\\n",
       "0    59745   59939   60122   60300   60563   60797   61162   61455   61755   \n",
       "1   131085  131185  131238  131276  131327  131419  131510  131577  131666   \n",
       "\n",
       "   5/9/21  \n",
       "0   61842  \n",
       "1  131723  \n",
       "\n",
       "[2 rows x 478 columns]"
      ]
     },
     "execution_count": 6,
     "metadata": {},
     "output_type": "execute_result"
    }
   ],
   "source": [
    "cases.head(2)"
   ]
  },
  {
   "cell_type": "code",
   "execution_count": 7,
   "metadata": {},
   "outputs": [
    {
     "data": {
      "text/plain": [
       "((275, 478), (275, 478), (260, 478))"
      ]
     },
     "execution_count": 7,
     "metadata": {},
     "output_type": "execute_result"
    }
   ],
   "source": [
    "cases.shape , deaths.shape , recover.shape"
   ]
  },
  {
   "cell_type": "code",
   "execution_count": 8,
   "metadata": {},
   "outputs": [],
   "source": [
    "# melt the date column\n",
    "\n",
    "case_date = cases.columns[4:]\n",
    "deaths_date = deaths.columns[4:]\n",
    "recover_date = recover.columns[4:]"
   ]
  },
  {
   "cell_type": "code",
   "execution_count": 9,
   "metadata": {},
   "outputs": [],
   "source": [
    "# melt the colum\n",
    "all_cases = pd.melt(cases, id_vars =['Country' , \"Lat\" , \"Long\"], \n",
    "                    value_vars =case_date , \n",
    "                    var_name='date' , \n",
    "                    value_name=\"confirmed\")\n",
    "\n",
    "all_recover = pd.melt(recover, id_vars =['Country' , \"Lat\" , \"Long\"], \n",
    "                    value_vars =recover_date , \n",
    "                    var_name='date' , \n",
    "                    value_name=\"recovery\")\n",
    "\n",
    "all_deaths = pd.melt(deaths, id_vars =[ 'Country' , \"Lat\" , \"Long\"], \n",
    "                    value_vars =deaths_date , \n",
    "                    var_name='date' , \n",
    "                    value_name=\"deaths\")"
   ]
  },
  {
   "cell_type": "code",
   "execution_count": 10,
   "metadata": {},
   "outputs": [
    {
     "data": {
      "text/html": [
       "<div>\n",
       "<style scoped>\n",
       "    .dataframe tbody tr th:only-of-type {\n",
       "        vertical-align: middle;\n",
       "    }\n",
       "\n",
       "    .dataframe tbody tr th {\n",
       "        vertical-align: top;\n",
       "    }\n",
       "\n",
       "    .dataframe thead th {\n",
       "        text-align: right;\n",
       "    }\n",
       "</style>\n",
       "<table border=\"1\" class=\"dataframe\">\n",
       "  <thead>\n",
       "    <tr style=\"text-align: right;\">\n",
       "      <th></th>\n",
       "      <th>Country</th>\n",
       "      <th>Lat</th>\n",
       "      <th>Long</th>\n",
       "      <th>date</th>\n",
       "      <th>deaths</th>\n",
       "    </tr>\n",
       "  </thead>\n",
       "  <tbody>\n",
       "    <tr>\n",
       "      <th>130345</th>\n",
       "      <td>Vietnam</td>\n",
       "      <td>14.058324</td>\n",
       "      <td>108.277199</td>\n",
       "      <td>5/9/21</td>\n",
       "      <td>35</td>\n",
       "    </tr>\n",
       "    <tr>\n",
       "      <th>130346</th>\n",
       "      <td>West Bank and Gaza</td>\n",
       "      <td>31.952200</td>\n",
       "      <td>35.233200</td>\n",
       "      <td>5/9/21</td>\n",
       "      <td>3358</td>\n",
       "    </tr>\n",
       "    <tr>\n",
       "      <th>130347</th>\n",
       "      <td>Yemen</td>\n",
       "      <td>15.552727</td>\n",
       "      <td>48.516388</td>\n",
       "      <td>5/9/21</td>\n",
       "      <td>1271</td>\n",
       "    </tr>\n",
       "    <tr>\n",
       "      <th>130348</th>\n",
       "      <td>Zambia</td>\n",
       "      <td>-13.133897</td>\n",
       "      <td>27.849332</td>\n",
       "      <td>5/9/21</td>\n",
       "      <td>1257</td>\n",
       "    </tr>\n",
       "    <tr>\n",
       "      <th>130349</th>\n",
       "      <td>Zimbabwe</td>\n",
       "      <td>-19.015438</td>\n",
       "      <td>29.154857</td>\n",
       "      <td>5/9/21</td>\n",
       "      <td>1576</td>\n",
       "    </tr>\n",
       "  </tbody>\n",
       "</table>\n",
       "</div>"
      ],
      "text/plain": [
       "                   Country        Lat        Long    date  deaths\n",
       "130345             Vietnam  14.058324  108.277199  5/9/21      35\n",
       "130346  West Bank and Gaza  31.952200   35.233200  5/9/21    3358\n",
       "130347               Yemen  15.552727   48.516388  5/9/21    1271\n",
       "130348              Zambia -13.133897   27.849332  5/9/21    1257\n",
       "130349            Zimbabwe -19.015438   29.154857  5/9/21    1576"
      ]
     },
     "execution_count": 10,
     "metadata": {},
     "output_type": "execute_result"
    }
   ],
   "source": [
    "all_deaths.tail()"
   ]
  },
  {
   "cell_type": "code",
   "execution_count": 30,
   "metadata": {},
   "outputs": [],
   "source": [
    "# merge the whole dataset\n",
    "x = all_cases.merge(right=all_recover ,\n",
    "                    how='left' , \n",
    "                    on = ['Country' , \"Lat\" , \"Long\" , \"date\"])\n",
    "\n",
    "df =x.merge(right=all_deaths ,\n",
    "                    how='left' , \n",
    "                    on = ['Country' , \"Lat\" , \"Long\" , \"date\"])\n"
   ]
  },
  {
   "cell_type": "code",
   "execution_count": 31,
   "metadata": {},
   "outputs": [
    {
     "data": {
      "text/plain": [
       "Country          0\n",
       "Lat            948\n",
       "Long           948\n",
       "date             0\n",
       "confirmed        0\n",
       "recovery     10428\n",
       "deaths           0\n",
       "dtype: int64"
      ]
     },
     "execution_count": 31,
     "metadata": {},
     "output_type": "execute_result"
    }
   ],
   "source": [
    "df.isna().sum()"
   ]
  },
  {
   "cell_type": "code",
   "execution_count": 32,
   "metadata": {},
   "outputs": [],
   "source": [
    "# fill na for recovery with 0\n",
    "\n",
    "df['recovery'].fillna(0 , inplace=True)"
   ]
  },
  {
   "cell_type": "code",
   "execution_count": 33,
   "metadata": {},
   "outputs": [],
   "source": [
    "# chanege date column to date time format\n",
    "\n",
    "df['date'] = pd.to_datetime(df['date'])"
   ]
  },
  {
   "cell_type": "code",
   "execution_count": 34,
   "metadata": {},
   "outputs": [
    {
     "data": {
      "text/plain": [
       "Country              object\n",
       "Lat                 float64\n",
       "Long                float64\n",
       "date         datetime64[ns]\n",
       "confirmed             int64\n",
       "recovery            float64\n",
       "deaths                int64\n",
       "dtype: object"
      ]
     },
     "execution_count": 34,
     "metadata": {},
     "output_type": "execute_result"
    }
   ],
   "source": [
    "df.dtypes"
   ]
  },
  {
   "cell_type": "code",
   "execution_count": 35,
   "metadata": {},
   "outputs": [],
   "source": [
    "# change count to string\n",
    "\n",
    "df['Country'] = df['Country'].astype('str')"
   ]
  },
  {
   "cell_type": "code",
   "execution_count": 36,
   "metadata": {},
   "outputs": [],
   "source": [
    "# get a new column active cases\n",
    "\n",
    "df['active'] = df['confirmed']-df['deaths']-df['recovery']"
   ]
  },
  {
   "cell_type": "code",
   "execution_count": 37,
   "metadata": {},
   "outputs": [
    {
     "data": {
      "text/html": [
       "<div>\n",
       "<style scoped>\n",
       "    .dataframe tbody tr th:only-of-type {\n",
       "        vertical-align: middle;\n",
       "    }\n",
       "\n",
       "    .dataframe tbody tr th {\n",
       "        vertical-align: top;\n",
       "    }\n",
       "\n",
       "    .dataframe thead th {\n",
       "        text-align: right;\n",
       "    }\n",
       "</style>\n",
       "<table border=\"1\" class=\"dataframe\">\n",
       "  <thead>\n",
       "    <tr style=\"text-align: right;\">\n",
       "      <th></th>\n",
       "      <th>Country</th>\n",
       "      <th>Lat</th>\n",
       "      <th>Long</th>\n",
       "      <th>date</th>\n",
       "      <th>confirmed</th>\n",
       "      <th>recovery</th>\n",
       "      <th>deaths</th>\n",
       "      <th>active</th>\n",
       "    </tr>\n",
       "  </thead>\n",
       "  <tbody>\n",
       "    <tr>\n",
       "      <th>0</th>\n",
       "      <td>Afghanistan</td>\n",
       "      <td>33.93911</td>\n",
       "      <td>67.709953</td>\n",
       "      <td>2020-01-22</td>\n",
       "      <td>0</td>\n",
       "      <td>0.0</td>\n",
       "      <td>0</td>\n",
       "      <td>0.0</td>\n",
       "    </tr>\n",
       "    <tr>\n",
       "      <th>1</th>\n",
       "      <td>Albania</td>\n",
       "      <td>41.15330</td>\n",
       "      <td>20.168300</td>\n",
       "      <td>2020-01-22</td>\n",
       "      <td>0</td>\n",
       "      <td>0.0</td>\n",
       "      <td>0</td>\n",
       "      <td>0.0</td>\n",
       "    </tr>\n",
       "    <tr>\n",
       "      <th>2</th>\n",
       "      <td>Algeria</td>\n",
       "      <td>28.03390</td>\n",
       "      <td>1.659600</td>\n",
       "      <td>2020-01-22</td>\n",
       "      <td>0</td>\n",
       "      <td>0.0</td>\n",
       "      <td>0</td>\n",
       "      <td>0.0</td>\n",
       "    </tr>\n",
       "    <tr>\n",
       "      <th>3</th>\n",
       "      <td>Andorra</td>\n",
       "      <td>42.50630</td>\n",
       "      <td>1.521800</td>\n",
       "      <td>2020-01-22</td>\n",
       "      <td>0</td>\n",
       "      <td>0.0</td>\n",
       "      <td>0</td>\n",
       "      <td>0.0</td>\n",
       "    </tr>\n",
       "    <tr>\n",
       "      <th>4</th>\n",
       "      <td>Angola</td>\n",
       "      <td>-11.20270</td>\n",
       "      <td>17.873900</td>\n",
       "      <td>2020-01-22</td>\n",
       "      <td>0</td>\n",
       "      <td>0.0</td>\n",
       "      <td>0</td>\n",
       "      <td>0.0</td>\n",
       "    </tr>\n",
       "  </tbody>\n",
       "</table>\n",
       "</div>"
      ],
      "text/plain": [
       "       Country       Lat       Long       date  confirmed  recovery  deaths  \\\n",
       "0  Afghanistan  33.93911  67.709953 2020-01-22          0       0.0       0   \n",
       "1      Albania  41.15330  20.168300 2020-01-22          0       0.0       0   \n",
       "2      Algeria  28.03390   1.659600 2020-01-22          0       0.0       0   \n",
       "3      Andorra  42.50630   1.521800 2020-01-22          0       0.0       0   \n",
       "4       Angola -11.20270  17.873900 2020-01-22          0       0.0       0   \n",
       "\n",
       "   active  \n",
       "0     0.0  \n",
       "1     0.0  \n",
       "2     0.0  \n",
       "3     0.0  \n",
       "4     0.0  "
      ]
     },
     "execution_count": 37,
     "metadata": {},
     "output_type": "execute_result"
    }
   ],
   "source": [
    "df.head()"
   ]
  },
  {
   "cell_type": "code",
   "execution_count": 38,
   "metadata": {},
   "outputs": [],
   "source": [
    "# group by date\n",
    "\n",
    "df1 = df.groupby('date')['confirmed' , 'recovery' , 'deaths' , \"active\"].sum().reset_index(drop = False)"
   ]
  },
  {
   "cell_type": "code",
   "execution_count": 39,
   "metadata": {},
   "outputs": [
    {
     "data": {
      "text/html": [
       "<div>\n",
       "<style scoped>\n",
       "    .dataframe tbody tr th:only-of-type {\n",
       "        vertical-align: middle;\n",
       "    }\n",
       "\n",
       "    .dataframe tbody tr th {\n",
       "        vertical-align: top;\n",
       "    }\n",
       "\n",
       "    .dataframe thead th {\n",
       "        text-align: right;\n",
       "    }\n",
       "</style>\n",
       "<table border=\"1\" class=\"dataframe\">\n",
       "  <thead>\n",
       "    <tr style=\"text-align: right;\">\n",
       "      <th></th>\n",
       "      <th>date</th>\n",
       "      <th>confirmed</th>\n",
       "      <th>recovery</th>\n",
       "      <th>deaths</th>\n",
       "      <th>active</th>\n",
       "    </tr>\n",
       "  </thead>\n",
       "  <tbody>\n",
       "    <tr>\n",
       "      <th>0</th>\n",
       "      <td>2020-01-22</td>\n",
       "      <td>557</td>\n",
       "      <td>30.0</td>\n",
       "      <td>17</td>\n",
       "      <td>510.0</td>\n",
       "    </tr>\n",
       "    <tr>\n",
       "      <th>1</th>\n",
       "      <td>2020-01-23</td>\n",
       "      <td>655</td>\n",
       "      <td>32.0</td>\n",
       "      <td>18</td>\n",
       "      <td>605.0</td>\n",
       "    </tr>\n",
       "    <tr>\n",
       "      <th>2</th>\n",
       "      <td>2020-01-24</td>\n",
       "      <td>941</td>\n",
       "      <td>39.0</td>\n",
       "      <td>26</td>\n",
       "      <td>876.0</td>\n",
       "    </tr>\n",
       "    <tr>\n",
       "      <th>3</th>\n",
       "      <td>2020-01-25</td>\n",
       "      <td>1433</td>\n",
       "      <td>42.0</td>\n",
       "      <td>42</td>\n",
       "      <td>1349.0</td>\n",
       "    </tr>\n",
       "    <tr>\n",
       "      <th>4</th>\n",
       "      <td>2020-01-26</td>\n",
       "      <td>2118</td>\n",
       "      <td>56.0</td>\n",
       "      <td>56</td>\n",
       "      <td>2006.0</td>\n",
       "    </tr>\n",
       "  </tbody>\n",
       "</table>\n",
       "</div>"
      ],
      "text/plain": [
       "        date  confirmed  recovery  deaths  active\n",
       "0 2020-01-22        557      30.0      17   510.0\n",
       "1 2020-01-23        655      32.0      18   605.0\n",
       "2 2020-01-24        941      39.0      26   876.0\n",
       "3 2020-01-25       1433      42.0      42  1349.0\n",
       "4 2020-01-26       2118      56.0      56  2006.0"
      ]
     },
     "execution_count": 39,
     "metadata": {},
     "output_type": "execute_result"
    }
   ],
   "source": [
    "df1.head()"
   ]
  },
  {
   "cell_type": "code",
   "execution_count": 40,
   "metadata": {},
   "outputs": [],
   "source": [
    "# frop by country and date\n",
    "\n",
    "df2 = df.groupby(['Country' , 'date'])['confirmed' , 'recovery' , 'deaths' , \"active\"].sum().reset_index(drop = False)"
   ]
  },
  {
   "cell_type": "code",
   "execution_count": 41,
   "metadata": {},
   "outputs": [
    {
     "data": {
      "text/html": [
       "<div>\n",
       "<style scoped>\n",
       "    .dataframe tbody tr th:only-of-type {\n",
       "        vertical-align: middle;\n",
       "    }\n",
       "\n",
       "    .dataframe tbody tr th {\n",
       "        vertical-align: top;\n",
       "    }\n",
       "\n",
       "    .dataframe thead th {\n",
       "        text-align: right;\n",
       "    }\n",
       "</style>\n",
       "<table border=\"1\" class=\"dataframe\">\n",
       "  <thead>\n",
       "    <tr style=\"text-align: right;\">\n",
       "      <th></th>\n",
       "      <th>Country</th>\n",
       "      <th>date</th>\n",
       "      <th>confirmed</th>\n",
       "      <th>recovery</th>\n",
       "      <th>deaths</th>\n",
       "      <th>active</th>\n",
       "    </tr>\n",
       "  </thead>\n",
       "  <tbody>\n",
       "    <tr>\n",
       "      <th>0</th>\n",
       "      <td>Afghanistan</td>\n",
       "      <td>2020-01-22</td>\n",
       "      <td>0</td>\n",
       "      <td>0.0</td>\n",
       "      <td>0</td>\n",
       "      <td>0.0</td>\n",
       "    </tr>\n",
       "    <tr>\n",
       "      <th>1</th>\n",
       "      <td>Afghanistan</td>\n",
       "      <td>2020-01-23</td>\n",
       "      <td>0</td>\n",
       "      <td>0.0</td>\n",
       "      <td>0</td>\n",
       "      <td>0.0</td>\n",
       "    </tr>\n",
       "    <tr>\n",
       "      <th>2</th>\n",
       "      <td>Afghanistan</td>\n",
       "      <td>2020-01-24</td>\n",
       "      <td>0</td>\n",
       "      <td>0.0</td>\n",
       "      <td>0</td>\n",
       "      <td>0.0</td>\n",
       "    </tr>\n",
       "    <tr>\n",
       "      <th>3</th>\n",
       "      <td>Afghanistan</td>\n",
       "      <td>2020-01-25</td>\n",
       "      <td>0</td>\n",
       "      <td>0.0</td>\n",
       "      <td>0</td>\n",
       "      <td>0.0</td>\n",
       "    </tr>\n",
       "    <tr>\n",
       "      <th>4</th>\n",
       "      <td>Afghanistan</td>\n",
       "      <td>2020-01-26</td>\n",
       "      <td>0</td>\n",
       "      <td>0.0</td>\n",
       "      <td>0</td>\n",
       "      <td>0.0</td>\n",
       "    </tr>\n",
       "  </tbody>\n",
       "</table>\n",
       "</div>"
      ],
      "text/plain": [
       "       Country       date  confirmed  recovery  deaths  active\n",
       "0  Afghanistan 2020-01-22          0       0.0       0     0.0\n",
       "1  Afghanistan 2020-01-23          0       0.0       0     0.0\n",
       "2  Afghanistan 2020-01-24          0       0.0       0     0.0\n",
       "3  Afghanistan 2020-01-25          0       0.0       0     0.0\n",
       "4  Afghanistan 2020-01-26          0       0.0       0     0.0"
      ]
     },
     "execution_count": 41,
     "metadata": {},
     "output_type": "execute_result"
    }
   ],
   "source": [
    "df2.head()"
   ]
  },
  {
   "cell_type": "code",
   "execution_count": 42,
   "metadata": {},
   "outputs": [
    {
     "data": {
      "text/html": [
       "<div>\n",
       "<style scoped>\n",
       "    .dataframe tbody tr th:only-of-type {\n",
       "        vertical-align: middle;\n",
       "    }\n",
       "\n",
       "    .dataframe tbody tr th {\n",
       "        vertical-align: top;\n",
       "    }\n",
       "\n",
       "    .dataframe thead th {\n",
       "        text-align: right;\n",
       "    }\n",
       "</style>\n",
       "<table border=\"1\" class=\"dataframe\">\n",
       "  <thead>\n",
       "    <tr style=\"text-align: right;\">\n",
       "      <th></th>\n",
       "      <th>Country</th>\n",
       "      <th>Lat</th>\n",
       "      <th>Long</th>\n",
       "      <th>date</th>\n",
       "      <th>confirmed</th>\n",
       "      <th>recovery</th>\n",
       "      <th>deaths</th>\n",
       "      <th>active</th>\n",
       "    </tr>\n",
       "  </thead>\n",
       "  <tbody>\n",
       "    <tr>\n",
       "      <th>0</th>\n",
       "      <td>Afghanistan</td>\n",
       "      <td>33.93911</td>\n",
       "      <td>67.709953</td>\n",
       "      <td>2020-01-22</td>\n",
       "      <td>0</td>\n",
       "      <td>0.0</td>\n",
       "      <td>0</td>\n",
       "      <td>0.0</td>\n",
       "    </tr>\n",
       "    <tr>\n",
       "      <th>1</th>\n",
       "      <td>Albania</td>\n",
       "      <td>41.15330</td>\n",
       "      <td>20.168300</td>\n",
       "      <td>2020-01-22</td>\n",
       "      <td>0</td>\n",
       "      <td>0.0</td>\n",
       "      <td>0</td>\n",
       "      <td>0.0</td>\n",
       "    </tr>\n",
       "    <tr>\n",
       "      <th>2</th>\n",
       "      <td>Algeria</td>\n",
       "      <td>28.03390</td>\n",
       "      <td>1.659600</td>\n",
       "      <td>2020-01-22</td>\n",
       "      <td>0</td>\n",
       "      <td>0.0</td>\n",
       "      <td>0</td>\n",
       "      <td>0.0</td>\n",
       "    </tr>\n",
       "    <tr>\n",
       "      <th>3</th>\n",
       "      <td>Andorra</td>\n",
       "      <td>42.50630</td>\n",
       "      <td>1.521800</td>\n",
       "      <td>2020-01-22</td>\n",
       "      <td>0</td>\n",
       "      <td>0.0</td>\n",
       "      <td>0</td>\n",
       "      <td>0.0</td>\n",
       "    </tr>\n",
       "    <tr>\n",
       "      <th>4</th>\n",
       "      <td>Angola</td>\n",
       "      <td>-11.20270</td>\n",
       "      <td>17.873900</td>\n",
       "      <td>2020-01-22</td>\n",
       "      <td>0</td>\n",
       "      <td>0.0</td>\n",
       "      <td>0</td>\n",
       "      <td>0.0</td>\n",
       "    </tr>\n",
       "  </tbody>\n",
       "</table>\n",
       "</div>"
      ],
      "text/plain": [
       "       Country       Lat       Long       date  confirmed  recovery  deaths  \\\n",
       "0  Afghanistan  33.93911  67.709953 2020-01-22          0       0.0       0   \n",
       "1      Albania  41.15330  20.168300 2020-01-22          0       0.0       0   \n",
       "2      Algeria  28.03390   1.659600 2020-01-22          0       0.0       0   \n",
       "3      Andorra  42.50630   1.521800 2020-01-22          0       0.0       0   \n",
       "4       Angola -11.20270  17.873900 2020-01-22          0       0.0       0   \n",
       "\n",
       "   active  \n",
       "0     0.0  \n",
       "1     0.0  \n",
       "2     0.0  \n",
       "3     0.0  \n",
       "4     0.0  "
      ]
     },
     "execution_count": 42,
     "metadata": {},
     "output_type": "execute_result"
    }
   ],
   "source": [
    "df.head()"
   ]
  },
  {
   "cell_type": "code",
   "execution_count": 43,
   "metadata": {},
   "outputs": [],
   "source": [
    "import plotly.express as px"
   ]
  },
  {
   "cell_type": "code",
   "execution_count": null,
   "metadata": {},
   "outputs": [],
   "source": []
  },
  {
   "cell_type": "code",
   "execution_count": null,
   "metadata": {},
   "outputs": [],
   "source": []
  },
  {
   "cell_type": "code",
   "execution_count": 44,
   "metadata": {},
   "outputs": [],
   "source": [
    "df5 = df.groupby(['Long' , 'Lat' ,\"Country\"])[['confirmed' , 'deaths' , 'active' , 'recovery']].max().reset_index(drop =False)\n",
    "\n"
   ]
  },
  {
   "cell_type": "code",
   "execution_count": 58,
   "metadata": {},
   "outputs": [
    {
     "data": {
      "application/vnd.plotly.v1+json": {
       "config": {
        "plotlyServerURL": "https://plot.ly"
       },
       "data": [
        {
         "hoverinfo": "text",
         "hovertext": [
          "<b>Country : </b>  France<br><b>Longitude :</b> -178.1165<br><b>Latitude :</b> -14.2938<br><b>Confirmed : </b> 445 <br><b>Recoverd : </b> 44 <br><b>Deaths : </b> 7 <br><b>Active : </b> 394 <br>",
          "<b>Country : </b>  Samoa<br><b>Longitude :</b> -172.1046<br><b>Latitude :</b> -13.759<br><b>Confirmed : </b> 3 <br><b>Recoverd : </b> 2 <br><b>Deaths : </b> 0 <br><b>Active : </b> 2 <br>",
          "<b>Country : </b>  Canada<br><b>Longitude :</b> -135.0<br><b>Latitude :</b> 64.2823<br><b>Confirmed : </b> 82 <br><b>Recoverd : </b> 0 <br><b>Deaths : </b> 2 <br><b>Active : </b> 80 <br>",
          "<b>Country : </b>  Canada<br><b>Longitude :</b> -127.6476<br><b>Latitude :</b> 53.7267<br><b>Confirmed : </b> 134,341 <br><b>Recoverd : </b> 0 <br><b>Deaths : </b> 1,602 <br><b>Active : </b> 132,739 <br>",
          "<b>Country : </b>  Canada<br><b>Longitude :</b> -124.8457<br><b>Latitude :</b> 64.8255<br><b>Confirmed : </b> 105 <br><b>Recoverd : </b> 0 <br><b>Deaths : </b> 0 <br><b>Active : </b> 105 <br>",
          "<b>Country : </b>  Canada<br><b>Longitude :</b> -116.5765<br><b>Latitude :</b> 53.9333<br><b>Confirmed : </b> 208,790 <br><b>Recoverd : </b> 0 <br><b>Deaths : </b> 2,110 <br><b>Active : </b> 206,680 <br>",
          "<b>Country : </b>  Canada<br><b>Longitude :</b> -106.4509<br><b>Latitude :</b> 52.9399<br><b>Confirmed : </b> 43,141 <br><b>Recoverd : </b> 0 <br><b>Deaths : </b> 502 <br><b>Active : </b> 42,639 <br>",
          "<b>Country : </b>  Mexico<br><b>Longitude :</b> -102.5528<br><b>Latitude :</b> 23.6345<br><b>Confirmed : </b> 2,365,792 <br><b>Recoverd : </b> 1,886,233 <br><b>Deaths : </b> 218,985 <br><b>Active : </b> 300,329 <br>",
          "<b>Country : </b>  US<br><b>Longitude :</b> -100.0<br><b>Latitude :</b> 40.0<br><b>Confirmed : </b> 32,707,750 <br><b>Recoverd : </b> 6,298,082 <br><b>Deaths : </b> 581,754 <br><b>Active : </b> 32,125,996 <br>",
          "<b>Country : </b>  Canada<br><b>Longitude :</b> -98.8139<br><b>Latitude :</b> 53.7609<br><b>Confirmed : </b> 41,953 <br><b>Recoverd : </b> 0 <br><b>Deaths : </b> 993 <br><b>Active : </b> 40,960 <br>",
          "<b>Country : </b>  Guatemala<br><b>Longitude :</b> -90.2308<br><b>Latitude :</b> 15.7835<br><b>Confirmed : </b> 235,098 <br><b>Recoverd : </b> 213,641 <br><b>Deaths : </b> 7,733 <br><b>Active : </b> 27,377 <br>",
          "<b>Country : </b>  El Salvador<br><b>Longitude :</b> -88.8965<br><b>Latitude :</b> 13.7942<br><b>Confirmed : </b> 70,380 <br><b>Recoverd : </b> 65,921 <br><b>Deaths : </b> 2,154 <br><b>Active : </b> 11,773 <br>",
          "<b>Country : </b>  Belize<br><b>Longitude :</b> -88.4976<br><b>Latitude :</b> 17.1899<br><b>Confirmed : </b> 12,686 <br><b>Recoverd : </b> 12,288 <br><b>Deaths : </b> 323 <br><b>Active : </b> 4,832 <br>",
          "<b>Country : </b>  Honduras<br><b>Longitude :</b> -86.2419<br><b>Latitude :</b> 15.2<br><b>Confirmed : </b> 219,288 <br><b>Recoverd : </b> 81,382 <br><b>Deaths : </b> 5,617 <br><b>Active : </b> 132,289 <br>",
          "<b>Country : </b>  Canada<br><b>Longitude :</b> -85.3232<br><b>Latitude :</b> 51.2538<br><b>Confirmed : </b> 499,246 <br><b>Recoverd : </b> 0 <br><b>Deaths : </b> 8,258 <br><b>Active : </b> 490,988 <br>",
          "<b>Country : </b>  Nicaragua<br><b>Longitude :</b> -85.207229<br><b>Latitude :</b> 12.865416<br><b>Confirmed : </b> 6,989 <br><b>Recoverd : </b> 4,225 <br><b>Deaths : </b> 183 <br><b>Active : </b> 2,581 <br>",
          "<b>Country : </b>  Costa Rica<br><b>Longitude :</b> -83.7534<br><b>Latitude :</b> 9.7489<br><b>Confirmed : </b> 265,486 <br><b>Recoverd : </b> 212,525 <br><b>Deaths : </b> 3,365 <br><b>Active : </b> 51,375 <br>",
          "<b>Country : </b>  Canada<br><b>Longitude :</b> -83.1076<br><b>Latitude :</b> 70.2998<br><b>Confirmed : </b> 565 <br><b>Recoverd : </b> 0 <br><b>Deaths : </b> 4 <br><b>Active : </b> 561 <br>",
          "<b>Country : </b>  United Kingdom<br><b>Longitude :</b> -81.2546<br><b>Latitude :</b> 19.3133<br><b>Confirmed : </b> 548 <br><b>Recoverd : </b> 537 <br><b>Deaths : </b> 2 <br><b>Active : </b> 77 <br>",
          "<b>Country : </b>  Panama<br><b>Longitude :</b> -80.7821<br><b>Latitude :</b> 8.538<br><b>Confirmed : </b> 367,656 <br><b>Recoverd : </b> 357,101 <br><b>Deaths : </b> 6,271 <br><b>Active : </b> 56,897 <br>",
          "<b>Country : </b>  Ecuador<br><b>Longitude :</b> -78.1834<br><b>Latitude :</b> -1.8312<br><b>Confirmed : </b> 400,296 <br><b>Recoverd : </b> 342,878 <br><b>Deaths : </b> 19,222 <br><b>Active : </b> 50,202 <br>",
          "<b>Country : </b>  Bahamas<br><b>Longitude :</b> -78.035889<br><b>Latitude :</b> 25.025885<br><b>Confirmed : </b> 10,773 <br><b>Recoverd : </b> 9,781 <br><b>Deaths : </b> 212 <br><b>Active : </b> 2,343 <br>",
          "<b>Country : </b>  Cuba<br><b>Longitude :</b> -77.78116700000001<br><b>Latitude :</b> 21.521757<br><b>Confirmed : </b> 115,981 <br><b>Recoverd : </b> 109,363 <br><b>Deaths : </b> 732 <br><b>Active : </b> 5,886 <br>",
          "<b>Country : </b>  Jamaica<br><b>Longitude :</b> -77.2975<br><b>Latitude :</b> 18.1096<br><b>Confirmed : </b> 46,708 <br><b>Recoverd : </b> 22,268 <br><b>Deaths : </b> 806 <br><b>Active : </b> 23,845 <br>",
          "<b>Country : </b>  Peru<br><b>Longitude :</b> -75.0152<br><b>Latitude :</b> -9.19<br><b>Confirmed : </b> 1,850,290 <br><b>Recoverd : </b> 1,798,844 <br><b>Deaths : </b> 64,103 <br><b>Active : </b> 168,092 <br>",
          "<b>Country : </b>  Colombia<br><b>Longitude :</b> -74.2973<br><b>Latitude :</b> 4.5709<br><b>Confirmed : </b> 3,002,758 <br><b>Recoverd : </b> 2,819,874 <br><b>Deaths : </b> 77,854 <br><b>Active : </b> 169,326 <br>",
          "<b>Country : </b>  Canada<br><b>Longitude :</b> -73.5491<br><b>Latitude :</b> 52.9399<br><b>Confirmed : </b> 358,134 <br><b>Recoverd : </b> 0 <br><b>Deaths : </b> 10,987 <br><b>Active : </b> 347,147 <br>",
          "<b>Country : </b>  Haiti<br><b>Longitude :</b> -72.2852<br><b>Latitude :</b> 18.9712<br><b>Confirmed : </b> 13,164 <br><b>Recoverd : </b> 12,154 <br><b>Deaths : </b> 263 <br><b>Active : </b> 4,965 <br>",
          "<b>Country : </b>  United Kingdom<br><b>Longitude :</b> -71.7979<br><b>Latitude :</b> 21.694000000000003<br><b>Confirmed : </b> 2,402 <br><b>Recoverd : </b> 2,358 <br><b>Deaths : </b> 17 <br><b>Active : </b> 395 <br>",
          "<b>Country : </b>  Chile<br><b>Longitude :</b> -71.543<br><b>Latitude :</b> -35.6751<br><b>Confirmed : </b> 1,247,469 <br><b>Recoverd : </b> 1,183,155 <br><b>Deaths : </b> 27,218 <br><b>Active : </b> 82,961 <br>",
          "<b>Country : </b>  Dominican Republic<br><b>Longitude :</b> -70.1627<br><b>Latitude :</b> 18.7357<br><b>Confirmed : </b> 271,548 <br><b>Recoverd : </b> 231,645 <br><b>Deaths : </b> 3,532 <br><b>Active : </b> 54,304 <br>",
          "<b>Country : </b>  Netherlands<br><b>Longitude :</b> -69.9683<br><b>Latitude :</b> 12.5211<br><b>Confirmed : </b> 10,770 <br><b>Recoverd : </b> 10,573 <br><b>Deaths : </b> 101 <br><b>Active : </b> 1,630 <br>",
          "<b>Country : </b>  Netherlands<br><b>Longitude :</b> -68.99<br><b>Latitude :</b> 12.1696<br><b>Confirmed : </b> 12,235 <br><b>Recoverd : </b> 11,957 <br><b>Deaths : </b> 114 <br><b>Active : </b> 4,768 <br>",
          "<b>Country : </b>  Netherlands<br><b>Longitude :</b> -68.2385<br><b>Latitude :</b> 12.1784<br><b>Confirmed : </b> 1,581 <br><b>Recoverd : </b> 1,544 <br><b>Deaths : </b> 17 <br><b>Active : </b> 88 <br>",
          "<b>Country : </b>  Venezuela<br><b>Longitude :</b> -66.5897<br><b>Latitude :</b> 6.4238<br><b>Confirmed : </b> 207,870 <br><b>Recoverd : </b> 190,768 <br><b>Deaths : </b> 2,291 <br><b>Active : </b> 17,594 <br>",
          "<b>Country : </b>  Canada<br><b>Longitude :</b> -66.4619<br><b>Latitude :</b> 46.5653<br><b>Confirmed : </b> 2,002 <br><b>Recoverd : </b> 0 <br><b>Deaths : </b> 41 <br><b>Active : </b> 1,961 <br>",
          "<b>Country : </b>  United Kingdom<br><b>Longitude :</b> -64.7505<br><b>Latitude :</b> 32.3078<br><b>Confirmed : </b> 2,434 <br><b>Recoverd : </b> 2,095 <br><b>Deaths : </b> 30 <br><b>Active : </b> 904 <br>",
          "<b>Country : </b>  United Kingdom<br><b>Longitude :</b> -64.64<br><b>Latitude :</b> 18.4207<br><b>Confirmed : </b> 216 <br><b>Recoverd : </b> 191 <br><b>Deaths : </b> 1 <br><b>Active : </b> 52 <br>",
          "<b>Country : </b>  Canada<br><b>Longitude :</b> -63.7443<br><b>Latitude :</b> 44.681999999999995<br><b>Confirmed : </b> 3,919 <br><b>Recoverd : </b> 0 <br><b>Deaths : </b> 71 <br><b>Active : </b> 3,848 <br>",
          "<b>Country : </b>  Argentina<br><b>Longitude :</b> -63.6167<br><b>Latitude :</b> -38.4161<br><b>Confirmed : </b> 3,147,740 <br><b>Recoverd : </b> 2,817,165 <br><b>Deaths : </b> 67,325 <br><b>Active : </b> 288,962 <br>",
          "<b>Country : </b>  Bolivia<br><b>Longitude :</b> -63.5887<br><b>Latitude :</b> -16.2902<br><b>Confirmed : </b> 317,547 <br><b>Recoverd : </b> 260,438 <br><b>Deaths : </b> 13,205 <br><b>Active : </b> 60,928 <br>",
          "<b>Country : </b>  Canada<br><b>Longitude :</b> -63.4168<br><b>Latitude :</b> 46.5107<br><b>Confirmed : </b> 183 <br><b>Recoverd : </b> 0 <br><b>Deaths : </b> 1 <br><b>Active : </b> 183 <br>",
          "<b>Country : </b>  United Kingdom<br><b>Longitude :</b> -63.0686<br><b>Latitude :</b> 18.2206<br><b>Confirmed : </b> 99 <br><b>Recoverd : </b> 49 <br><b>Deaths : </b> 0 <br><b>Active : </b> 66 <br>",
          "<b>Country : </b>  Netherlands<br><b>Longitude :</b> -63.0548<br><b>Latitude :</b> 18.0425<br><b>Confirmed : </b> 2,260 <br><b>Recoverd : </b> 2,203 <br><b>Deaths : </b> 27 <br><b>Active : </b> 264 <br>",
          "<b>Country : </b>  France<br><b>Longitude :</b> -63.0501<br><b>Latitude :</b> 18.0708<br><b>Confirmed : </b> 1,773 <br><b>Recoverd : </b> 1,399 <br><b>Deaths : </b> 12 <br><b>Active : </b> 435 <br>",
          "<b>Country : </b>  France<br><b>Longitude :</b> -62.8333<br><b>Latitude :</b> 17.9<br><b>Confirmed : </b> 974 <br><b>Recoverd : </b> 462 <br><b>Deaths : </b> 1 <br><b>Active : </b> 511 <br>",
          "<b>Country : </b>  Saint Kitts and Nevis<br><b>Longitude :</b> -62.782998<br><b>Latitude :</b> 17.357822<br><b>Confirmed : </b> 45 <br><b>Recoverd : </b> 44 <br><b>Deaths : </b> 0 <br><b>Active : </b> 15 <br>",
          "<b>Country : </b>  United Kingdom<br><b>Longitude :</b> -62.187366000000004<br><b>Latitude :</b> 16.742498<br><b>Confirmed : </b> 20 <br><b>Recoverd : </b> 19 <br><b>Deaths : </b> 1 <br><b>Active : </b> 10 <br>",
          "<b>Country : </b>  Antigua and Barbuda<br><b>Longitude :</b> -61.7964<br><b>Latitude :</b> 17.0608<br><b>Confirmed : </b> 1,232 <br><b>Recoverd : </b> 1,168 <br><b>Deaths : </b> 32 <br><b>Active : </b> 448 <br>",
          "<b>Country : </b>  Grenada<br><b>Longitude :</b> -61.678999999999995<br><b>Latitude :</b> 12.1165<br><b>Confirmed : </b> 160 <br><b>Recoverd : </b> 158 <br><b>Deaths : </b> 1 <br><b>Active : </b> 56 <br>",
          "<b>Country : </b>  France<br><b>Longitude :</b> -61.551<br><b>Latitude :</b> 16.265<br><b>Confirmed : </b> 15,429 <br><b>Recoverd : </b> 2,242 <br><b>Deaths : </b> 236 <br><b>Active : </b> 12,951 <br>",
          "<b>Country : </b>  Dominica<br><b>Longitude :</b> -61.371<br><b>Latitude :</b> 15.415<br><b>Confirmed : </b> 175 <br><b>Recoverd : </b> 175 <br><b>Deaths : </b> 0 <br><b>Active : </b> 28 <br>",
          "<b>Country : </b>  Saint Vincent and the Grenadines<br><b>Longitude :</b> -61.2872<br><b>Latitude :</b> 12.9843<br><b>Confirmed : </b> 1,912 <br><b>Recoverd : </b> 1,741 <br><b>Deaths : </b> 12 <br><b>Active : </b> 897 <br>",
          "<b>Country : </b>  Trinidad and Tobago<br><b>Longitude :</b> -61.2225<br><b>Latitude :</b> 10.6918<br><b>Confirmed : </b> 13,355 <br><b>Recoverd : </b> 9,237 <br><b>Deaths : </b> 211 <br><b>Active : </b> 3,907 <br>",
          "<b>Country : </b>  France<br><b>Longitude :</b> -61.0242<br><b>Latitude :</b> 14.6415<br><b>Confirmed : </b> 11,490 <br><b>Recoverd : </b> 98 <br><b>Deaths : </b> 87 <br><b>Active : </b> 11,305 <br>",
          "<b>Country : </b>  Saint Lucia<br><b>Longitude :</b> -60.9789<br><b>Latitude :</b> 13.9094<br><b>Confirmed : </b> 4,654 <br><b>Recoverd : </b> 4,444 <br><b>Deaths : </b> 75 <br><b>Active : </b> 1,125 <br>",
          "<b>Country : </b>  Barbados<br><b>Longitude :</b> -59.5432<br><b>Latitude :</b> 13.1939<br><b>Confirmed : </b> 3,942 <br><b>Recoverd : </b> 3,856 <br><b>Deaths : </b> 45 <br><b>Active : </b> 811 <br>",
          "<b>Country : </b>  United Kingdom<br><b>Longitude :</b> -59.5236<br><b>Latitude :</b> -51.7963<br><b>Confirmed : </b> 63 <br><b>Recoverd : </b> 63 <br><b>Deaths : </b> 0 <br><b>Active : </b> 15 <br>",
          "<b>Country : </b>  Guyana<br><b>Longitude :</b> -58.93018000000001<br><b>Latitude :</b> 4.860416000000001<br><b>Confirmed : </b> 14,362 <br><b>Recoverd : </b> 12,154 <br><b>Deaths : </b> 325 <br><b>Active : </b> 1,883 <br>",
          "<b>Country : </b>  Paraguay<br><b>Longitude :</b> -58.4438<br><b>Latitude :</b> -23.4425<br><b>Confirmed : </b> 297,789 <br><b>Recoverd : </b> 246,680 <br><b>Deaths : </b> 7,130 <br><b>Active : </b> 44,461 <br>",
          "<b>Country : </b>  Canada<br><b>Longitude :</b> -57.6604<br><b>Latitude :</b> 53.1355<br><b>Confirmed : </b> 1,138 <br><b>Recoverd : </b> 0 <br><b>Deaths : </b> 6 <br><b>Active : </b> 1,132 <br>",
          "<b>Country : </b>  France<br><b>Longitude :</b> -56.3159<br><b>Latitude :</b> 46.8852<br><b>Confirmed : </b> 25 <br><b>Recoverd : </b> 25 <br><b>Deaths : </b> 0 <br><b>Active : </b> 10 <br>",
          "<b>Country : </b>  Suriname<br><b>Longitude :</b> -56.0278<br><b>Latitude :</b> 3.9193<br><b>Confirmed : </b> 11,112 <br><b>Recoverd : </b> 9,778 <br><b>Deaths : </b> 215 <br><b>Active : </b> 1,119 <br>",
          "<b>Country : </b>  Uruguay<br><b>Longitude :</b> -55.7658<br><b>Latitude :</b> -32.5228<br><b>Confirmed : </b> 220,683 <br><b>Recoverd : </b> 192,114 <br><b>Deaths : </b> 3,122 <br><b>Active : </b> 35,532 <br>",
          "<b>Country : </b>  France<br><b>Longitude :</b> -53.1258<br><b>Latitude :</b> 3.9339<br><b>Confirmed : </b> 20,366 <br><b>Recoverd : </b> 9,995 <br><b>Deaths : </b> 104 <br><b>Active : </b> 10,267 <br>",
          "<b>Country : </b>  Brazil<br><b>Longitude :</b> -51.9253<br><b>Latitude :</b> -14.235<br><b>Confirmed : </b> 15,184,790 <br><b>Recoverd : </b> 13,457,400 <br><b>Deaths : </b> 422,340 <br><b>Active : </b> 1,354,023 <br>",
          "<b>Country : </b>  Denmark<br><b>Longitude :</b> -42.6043<br><b>Latitude :</b> 71.7069<br><b>Confirmed : </b> 31 <br><b>Recoverd : </b> 31 <br><b>Deaths : </b> 0 <br><b>Active : </b> 8 <br>",
          "<b>Country : </b>  Cabo Verde<br><b>Longitude :</b> -23.0418<br><b>Latitude :</b> 16.5388<br><b>Confirmed : </b> 26,441 <br><b>Recoverd : </b> 23,037 <br><b>Deaths : </b> 232 <br><b>Active : </b> 3,283 <br>",
          "<b>Country : </b>  Iceland<br><b>Longitude :</b> -19.0208<br><b>Latitude :</b> 64.9631<br><b>Confirmed : </b> 6,506 <br><b>Recoverd : </b> 6,347 <br><b>Deaths : </b> 29 <br><b>Active : </b> 1,252 <br>",
          "<b>Country : </b>  Gambia<br><b>Longitude :</b> -15.3101<br><b>Latitude :</b> 13.4432<br><b>Confirmed : </b> 5,929 <br><b>Recoverd : </b> 5,598 <br><b>Deaths : </b> 175 <br><b>Active : </b> 2,108 <br>",
          "<b>Country : </b>  Guinea-Bissau<br><b>Longitude :</b> -15.1804<br><b>Latitude :</b> 11.8037<br><b>Confirmed : </b> 3,741 <br><b>Recoverd : </b> 3,400 <br><b>Deaths : </b> 67 <br><b>Active : </b> 1,401 <br>",
          "<b>Country : </b>  Senegal<br><b>Longitude :</b> -14.4524<br><b>Latitude :</b> 14.4974<br><b>Confirmed : </b> 40,692 <br><b>Recoverd : </b> 39,384 <br><b>Deaths : </b> 1,119 <br><b>Active : </b> 5,031 <br>",
          "<b>Country : </b>  United Kingdom<br><b>Longitude :</b> -14.3559<br><b>Latitude :</b> -7.9467<br><b>Confirmed : </b> 4 <br><b>Recoverd : </b> 4 <br><b>Deaths : </b> 1 <br><b>Active : </b> 2 <br>",
          "<b>Country : </b>  Sierra Leone<br><b>Longitude :</b> -11.779889<br><b>Latitude :</b> 8.460555000000001<br><b>Confirmed : </b> 4,068 <br><b>Recoverd : </b> 3,078 <br><b>Deaths : </b> 79 <br><b>Active : </b> 1,265 <br>",
          "<b>Country : </b>  Mauritania<br><b>Longitude :</b> -10.9408<br><b>Latitude :</b> 21.0079<br><b>Confirmed : </b> 18,667 <br><b>Recoverd : </b> 17,899 <br><b>Deaths : </b> 456 <br><b>Active : </b> 3,460 <br>",
          "<b>Country : </b>  Guinea<br><b>Longitude :</b> -9.6966<br><b>Latitude :</b> 9.9456<br><b>Confirmed : </b> 22,633 <br><b>Recoverd : </b> 20,231 <br><b>Deaths : </b> 150 <br><b>Active : </b> 3,318 <br>",
          "<b>Country : </b>  Liberia<br><b>Longitude :</b> -9.429499<br><b>Latitude :</b> 6.4280550000000005<br><b>Confirmed : </b> 2,114 <br><b>Recoverd : </b> 1,962 <br><b>Deaths : </b> 85 <br><b>Active : </b> 558 <br>",
          "<b>Country : </b>  Portugal<br><b>Longitude :</b> -8.2245<br><b>Latitude :</b> 39.3999<br><b>Confirmed : </b> 839,582 <br><b>Recoverd : </b> 800,277 <br><b>Deaths : </b> 16,992 <br><b>Active : </b> 181,811 <br>",
          "<b>Country : </b>  Ireland<br><b>Longitude :</b> -7.6921<br><b>Latitude :</b> 53.1424<br><b>Confirmed : </b> 252,809 <br><b>Recoverd : </b> 23,364 <br><b>Deaths : </b> 4,921 <br><b>Active : </b> 224,524 <br>",
          "<b>Country : </b>  Morocco<br><b>Longitude :</b> -7.0926<br><b>Latitude :</b> 31.7917<br><b>Confirmed : </b> 513,864 <br><b>Recoverd : </b> 500,914 <br><b>Deaths : </b> 9,072 <br><b>Active : </b> 49,800 <br>",
          "<b>Country : </b>  Denmark<br><b>Longitude :</b> -6.9118<br><b>Latitude :</b> 61.8926<br><b>Confirmed : </b> 668 <br><b>Recoverd : </b> 662 <br><b>Deaths : </b> 1 <br><b>Active : </b> 147 <br>",
          "<b>Country : </b>  Cote d'Ivoire<br><b>Longitude :</b> -5.5471<br><b>Latitude :</b> 7.54<br><b>Confirmed : </b> 46,442 <br><b>Recoverd : </b> 45,847 <br><b>Deaths : </b> 291 <br><b>Active : </b> 6,170 <br>",
          "<b>Country : </b>  United Kingdom<br><b>Longitude :</b> -5.3536<br><b>Latitude :</b> 36.1408<br><b>Confirmed : </b> 4,291 <br><b>Recoverd : </b> 4,189 <br><b>Deaths : </b> 94 <br><b>Active : </b> 1,317 <br>",
          "<b>Country : </b>  United Kingdom<br><b>Longitude :</b> -4.5481<br><b>Latitude :</b> 54.2361<br><b>Confirmed : </b> 1,590 <br><b>Recoverd : </b> 1,550 <br><b>Deaths : </b> 29 <br><b>Active : </b> 903 <br>",
          "<b>Country : </b>  Mali<br><b>Longitude :</b> -3.9961660000000006<br><b>Latitude :</b> 17.570692<br><b>Confirmed : </b> 14,108 <br><b>Recoverd : </b> 9,010 <br><b>Deaths : </b> 500 <br><b>Active : </b> 5,240 <br>",
          "<b>Country : </b>  Spain<br><b>Longitude :</b> -3.7492199999999998<br><b>Latitude :</b> 40.463667<br><b>Confirmed : </b> 3,567,408 <br><b>Recoverd : </b> 150,376 <br><b>Deaths : </b> 78,792 <br><b>Active : </b> 3,338,240 <br>",
          "<b>Country : </b>  United Kingdom<br><b>Longitude :</b> -3.4360000000000004<br><b>Latitude :</b> 55.3781<br><b>Confirmed : </b> 4,434,860 <br><b>Recoverd : </b> 344 <br><b>Deaths : </b> 127,605 <br><b>Active : </b> 4,307,255 <br>",
          "<b>Country : </b>  United Kingdom<br><b>Longitude :</b> -2.3644<br><b>Latitude :</b> 49.3723<br><b>Confirmed : </b> 4,111 <br><b>Recoverd : </b> 3,965 <br><b>Deaths : </b> 86 <br><b>Active : </b> 1,189 <br>",
          "<b>Country : </b>  Burkina Faso<br><b>Longitude :</b> -1.5616<br><b>Latitude :</b> 12.2383<br><b>Confirmed : </b> 13,379 <br><b>Recoverd : </b> 13,156 <br><b>Deaths : </b> 162 <br><b>Active : </b> 2,343 <br>",
          "<b>Country : </b>  Ghana<br><b>Longitude :</b> -1.0232<br><b>Latitude :</b> 7.9465<br><b>Confirmed : </b> 92,951 <br><b>Recoverd : </b> 90,568 <br><b>Deaths : </b> 783 <br><b>Active : </b> 8,585 <br>",
          "<b>Country : </b>  Canada<br><b>Longitude :</b> 0.0<br><b>Latitude :</b> 0.0<br><b>Confirmed : </b> 13 <br><b>Recoverd : </b> 0 <br><b>Deaths : </b> 1 <br><b>Active : </b> 13 <br>",
          "<b>Country : </b>  Diamond Princess<br><b>Longitude :</b> 0.0<br><b>Latitude :</b> 0.0<br><b>Confirmed : </b> 712 <br><b>Recoverd : </b> 699 <br><b>Deaths : </b> 13 <br><b>Active : </b> 691 <br>",
          "<b>Country : </b>  MS Zaandam<br><b>Longitude :</b> 0.0<br><b>Latitude :</b> 0.0<br><b>Confirmed : </b> 9 <br><b>Recoverd : </b> 7 <br><b>Deaths : </b> 2 <br><b>Active : </b> 7 <br>",
          "<b>Country : </b>  Togo<br><b>Longitude :</b> 0.8248<br><b>Latitude :</b> 8.6195<br><b>Confirmed : </b> 13,154 <br><b>Recoverd : </b> 11,691 <br><b>Deaths : </b> 124 <br><b>Active : </b> 2,829 <br>",
          "<b>Country : </b>  Andorra<br><b>Longitude :</b> 1.5218<br><b>Latitude :</b> 42.5063<br><b>Confirmed : </b> 13,423 <br><b>Recoverd : </b> 12,995 <br><b>Deaths : </b> 127 <br><b>Active : </b> 1,309 <br>",
          "<b>Country : </b>  Algeria<br><b>Longitude :</b> 1.6596<br><b>Latitude :</b> 28.0339<br><b>Confirmed : </b> 124,104 <br><b>Recoverd : </b> 86,420 <br><b>Deaths : </b> 3,328 <br><b>Active : </b> 34,356 <br>",
          "<b>Country : </b>  France<br><b>Longitude :</b> 2.2137<br><b>Latitude :</b> 46.2276<br><b>Confirmed : </b> 5,727,293 <br><b>Recoverd : </b> 315,726 <br><b>Deaths : </b> 105,645 <br><b>Active : </b> 5,305,922 <br>",
          "<b>Country : </b>  Benin<br><b>Longitude :</b> 2.3158<br><b>Latitude :</b> 9.3077<br><b>Confirmed : </b> 7,884 <br><b>Recoverd : </b> 7,652 <br><b>Deaths : </b> 100 <br><b>Active : </b> 1,458 <br>",
          "<b>Country : </b>  Belgium<br><b>Longitude :</b> 4.469936<br><b>Latitude :</b> 50.8333<br><b>Confirmed : </b> 1,016,609 <br><b>Recoverd : </b> 31,130 <br><b>Deaths : </b> 24,551 <br><b>Active : </b> 992,058 <br>",
          "<b>Country : </b>  Netherlands<br><b>Longitude :</b> 5.2913<br><b>Latitude :</b> 52.1326<br><b>Confirmed : </b> 1,560,022 <br><b>Recoverd : </b> 0 <br><b>Deaths : </b> 17,323 <br><b>Active : </b> 1,542,699 <br>",
          "<b>Country : </b>  Luxembourg<br><b>Longitude :</b> 6.1296<br><b>Latitude :</b> 49.8153<br><b>Confirmed : </b> 68,153 <br><b>Recoverd : </b> 64,943 <br><b>Deaths : </b> 801 <br><b>Active : </b> 10,284 <br>",
          "<b>Country : </b>  Sao Tome and Principe<br><b>Longitude :</b> 6.6131<br><b>Latitude :</b> 0.1864<br><b>Confirmed : </b> 2,318 <br><b>Recoverd : </b> 2,262 <br><b>Deaths : </b> 35 <br><b>Active : </b> 487 <br>",
          "<b>Country : </b>  Monaco<br><b>Longitude :</b> 7.4167<br><b>Latitude :</b> 43.7333<br><b>Confirmed : </b> 2,479 <br><b>Recoverd : </b> 2,413 <br><b>Deaths : </b> 32 <br><b>Active : </b> 266 <br>",
          "<b>Country : </b>  Niger<br><b>Longitude :</b> 8.081666<br><b>Latitude :</b> 17.607789<br><b>Confirmed : </b> 5,319 <br><b>Recoverd : </b> 4,885 <br><b>Deaths : </b> 192 <br><b>Active : </b> 1,469 <br>",
          "<b>Country : </b>  Switzerland<br><b>Longitude :</b> 8.2275<br><b>Latitude :</b> 46.8182<br><b>Confirmed : </b> 670,613 <br><b>Recoverd : </b> 317,600 <br><b>Deaths : </b> 10,706 <br><b>Active : </b> 342,311 <br>",
          "<b>Country : </b>  Norway<br><b>Longitude :</b> 8.4689<br><b>Latitude :</b> 60.472<br><b>Confirmed : </b> 116,365 <br><b>Recoverd : </b> 17,998 <br><b>Deaths : </b> 767 <br><b>Active : </b> 97,600 <br>",
          "<b>Country : </b>  Nigeria<br><b>Longitude :</b> 8.6753<br><b>Latitude :</b> 9.082<br><b>Confirmed : </b> 165,419 <br><b>Recoverd : </b> 156,297 <br><b>Deaths : </b> 2,065 <br><b>Active : </b> 25,267 <br>",
          "<b>Country : </b>  Denmark<br><b>Longitude :</b> 9.5018<br><b>Latitude :</b> 56.2639<br><b>Confirmed : </b> 259,056 <br><b>Recoverd : </b> 245,562 <br><b>Deaths : </b> 2,497 <br><b>Active : </b> 43,365 <br>",
          "<b>Country : </b>  Tunisia<br><b>Longitude :</b> 9.537499<br><b>Latitude :</b> 33.886917<br><b>Confirmed : </b> 320,813 <br><b>Recoverd : </b> 277,497 <br><b>Deaths : </b> 11,429 <br><b>Active : </b> 57,819 <br>",
          "<b>Country : </b>  Liechtenstein<br><b>Longitude :</b> 9.55<br><b>Latitude :</b> 47.14<br><b>Confirmed : </b> 2,970 <br><b>Recoverd : </b> 2,858 <br><b>Deaths : </b> 58 <br><b>Active : </b> 396 <br>",
          "<b>Country : </b>  Equatorial Guinea<br><b>Longitude :</b> 10.2679<br><b>Latitude :</b> 1.6508<br><b>Confirmed : </b> 7,694 <br><b>Recoverd : </b> 7,279 <br><b>Deaths : </b> 112 <br><b>Active : </b> 2,556 <br>",
          "<b>Country : </b>  Germany<br><b>Longitude :</b> 10.451526<br><b>Latitude :</b> 51.165690999999995<br><b>Confirmed : </b> 3,530,887 <br><b>Recoverd : </b> 3,187,100 <br><b>Deaths : </b> 84,844 <br><b>Active : </b> 380,989 <br>",
          "<b>Country : </b>  Cameroon<br><b>Longitude :</b> 11.5021<br><b>Latitude :</b> 3.8480000000000003<br><b>Confirmed : </b> 74,946 <br><b>Recoverd : </b> 35,261 <br><b>Deaths : </b> 1,152 <br><b>Active : </b> 38,533 <br>",
          "<b>Country : </b>  Gabon<br><b>Longitude :</b> 11.6094<br><b>Latitude :</b> -0.8037<br><b>Confirmed : </b> 23,432 <br><b>Recoverd : </b> 19,944 <br><b>Deaths : </b> 143 <br><b>Active : </b> 3,345 <br>",
          "<b>Country : </b>  Holy See<br><b>Longitude :</b> 12.4534<br><b>Latitude :</b> 41.9029<br><b>Confirmed : </b> 27 <br><b>Recoverd : </b> 15 <br><b>Deaths : </b> 0 <br><b>Active : </b> 14 <br>",
          "<b>Country : </b>  San Marino<br><b>Longitude :</b> 12.4578<br><b>Latitude :</b> 43.9424<br><b>Confirmed : </b> 5,067 <br><b>Recoverd : </b> 4,935 <br><b>Deaths : </b> 90 <br><b>Active : </b> 521 <br>",
          "<b>Country : </b>  Italy<br><b>Longitude :</b> 12.56738<br><b>Latitude :</b> 41.87194<br><b>Confirmed : </b> 4,111,210 <br><b>Recoverd : </b> 3,604,523 <br><b>Deaths : </b> 122,833 <br><b>Active : </b> 805,947 <br>",
          "<b>Country : </b>  Malta<br><b>Longitude :</b> 14.3754<br><b>Latitude :</b> 35.9375<br><b>Confirmed : </b> 30,447 <br><b>Recoverd : </b> 29,805 <br><b>Deaths : </b> 417 <br><b>Active : </b> 3,403 <br>",
          "<b>Country : </b>  Austria<br><b>Longitude :</b> 14.5501<br><b>Latitude :</b> 47.5162<br><b>Confirmed : </b> 631,076 <br><b>Recoverd : </b> 603,901 <br><b>Deaths : </b> 10,382 <br><b>Active : </b> 77,130 <br>",
          "<b>Country : </b>  Slovenia<br><b>Longitude :</b> 14.9955<br><b>Latitude :</b> 46.1512<br><b>Confirmed : </b> 246,082 <br><b>Recoverd : </b> 232,798 <br><b>Deaths : </b> 4,293 <br><b>Active : </b> 24,419 <br>",
          "<b>Country : </b>  Croatia<br><b>Longitude :</b> 15.2<br><b>Latitude :</b> 45.1<br><b>Confirmed : </b> 344,494 <br><b>Recoverd : </b> 327,404 <br><b>Deaths : </b> 7,469 <br><b>Active : </b> 25,270 <br>",
          "<b>Country : </b>  Czechia<br><b>Longitude :</b> 15.472999999999999<br><b>Latitude :</b> 49.8175<br><b>Confirmed : </b> 1,645,061 <br><b>Recoverd : </b> 1,575,449 <br><b>Deaths : </b> 29,667 <br><b>Active : </b> 208,415 <br>",
          "<b>Country : </b>  Congo (Brazzaville)<br><b>Longitude :</b> 15.8277<br><b>Latitude :</b> -0.228<br><b>Confirmed : </b> 11,147 <br><b>Recoverd : </b> 8,208 <br><b>Deaths : </b> 148 <br><b>Active : </b> 2,791 <br>",
          "<b>Country : </b>  Libya<br><b>Longitude :</b> 17.228331<br><b>Latitude :</b> 26.3351<br><b>Confirmed : </b> 179,970 <br><b>Recoverd : </b> 166,340 <br><b>Deaths : </b> 3,070 <br><b>Active : </b> 28,894 <br>",
          "<b>Country : </b>  Bosnia and Herzegovina<br><b>Longitude :</b> 17.6791<br><b>Latitude :</b> 43.9159<br><b>Confirmed : </b> 200,693 <br><b>Recoverd : </b> 164,717 <br><b>Deaths : </b> 8,790 <br><b>Active : </b> 36,198 <br>",
          "<b>Country : </b>  Angola<br><b>Longitude :</b> 17.8739<br><b>Latitude :</b> -11.2027<br><b>Confirmed : </b> 28,740 <br><b>Recoverd : </b> 24,717 <br><b>Deaths : </b> 633 <br><b>Active : </b> 7,000 <br>",
          "<b>Country : </b>  Namibia<br><b>Longitude :</b> 18.4904<br><b>Latitude :</b> -22.9576<br><b>Confirmed : </b> 50,070 <br><b>Recoverd : </b> 47,300 <br><b>Deaths : </b> 689 <br><b>Active : </b> 4,913 <br>",
          "<b>Country : </b>  Sweden<br><b>Longitude :</b> 18.643501<br><b>Latitude :</b> 60.128161<br><b>Confirmed : </b> 1,007,792 <br><b>Recoverd : </b> 0 <br><b>Deaths : </b> 14,173 <br><b>Active : </b> 993,619 <br>",
          "<b>Country : </b>  Chad<br><b>Longitude :</b> 18.7322<br><b>Latitude :</b> 15.4542<br><b>Confirmed : </b> 4,877 <br><b>Recoverd : </b> 4,649 <br><b>Deaths : </b> 171 <br><b>Active : </b> 829 <br>",
          "<b>Country : </b>  Poland<br><b>Longitude :</b> 19.1451<br><b>Latitude :</b> 51.9194<br><b>Confirmed : </b> 2,833,052 <br><b>Recoverd : </b> 2,569,501 <br><b>Deaths : </b> 70,012 <br><b>Active : </b> 440,035 <br>",
          "<b>Country : </b>  Montenegro<br><b>Longitude :</b> 19.37439<br><b>Latitude :</b> 42.708678000000006<br><b>Confirmed : </b> 98,303 <br><b>Recoverd : </b> 94,963 <br><b>Deaths : </b> 1,540 <br><b>Active : </b> 11,177 <br>",
          "<b>Country : </b>  Hungary<br><b>Longitude :</b> 19.5033<br><b>Latitude :</b> 47.1625<br><b>Confirmed : </b> 791,709 <br><b>Recoverd : </b> 568,329 <br><b>Deaths : </b> 28,602 <br><b>Active : </b> 272,974 <br>",
          "<b>Country : </b>  Slovakia<br><b>Longitude :</b> 19.699<br><b>Latitude :</b> 48.669<br><b>Confirmed : </b> 385,475 <br><b>Recoverd : </b> 255,300 <br><b>Deaths : </b> 12,019 <br><b>Active : </b> 118,156 <br>",
          "<b>Country : </b>  Albania<br><b>Longitude :</b> 20.1683<br><b>Latitude :</b> 41.1533<br><b>Confirmed : </b> 131,723 <br><b>Recoverd : </b> 117,089 <br><b>Deaths : </b> 2,412 <br><b>Active : </b> 35,815 <br>",
          "<b>Country : </b>  Kosovo<br><b>Longitude :</b> 20.902977<br><b>Latitude :</b> 42.602636<br><b>Confirmed : </b> 105,784 <br><b>Recoverd : </b> 96,841 <br><b>Deaths : </b> 2,207 <br><b>Active : </b> 13,688 <br>",
          "<b>Country : </b>  Central African Republic<br><b>Longitude :</b> 20.9394<br><b>Latitude :</b> 6.6111<br><b>Confirmed : </b> 6,674 <br><b>Recoverd : </b> 5,112 <br><b>Deaths : </b> 93 <br><b>Active : </b> 3,095 <br>",
          "<b>Country : </b>  Serbia<br><b>Longitude :</b> 21.0059<br><b>Latitude :</b> 44.0165<br><b>Confirmed : </b> 700,408 <br><b>Recoverd : </b> 15,564 <br><b>Deaths : </b> 6,558 <br><b>Active : </b> 693,850 <br>",
          "<b>Country : </b>  North Macedonia<br><b>Longitude :</b> 21.7453<br><b>Latitude :</b> 41.6086<br><b>Confirmed : </b> 154,026 <br><b>Recoverd : </b> 137,962 <br><b>Deaths : </b> 5,093 <br><b>Active : </b> 22,538 <br>",
          "<b>Country : </b>  Congo (Kinshasa)<br><b>Longitude :</b> 21.7587<br><b>Latitude :</b> -4.0383<br><b>Confirmed : </b> 30,323 <br><b>Recoverd : </b> 26,434 <br><b>Deaths : </b> 772 <br><b>Active : </b> 8,533 <br>",
          "<b>Country : </b>  Greece<br><b>Longitude :</b> 21.8243<br><b>Latitude :</b> 39.0742<br><b>Confirmed : </b> 362,004 <br><b>Recoverd : </b> 93,764 <br><b>Deaths : </b> 11,029 <br><b>Active : </b> 257,211 <br>",
          "<b>Country : </b>  South Africa<br><b>Longitude :</b> 22.9375<br><b>Latitude :</b> -30.5595<br><b>Confirmed : </b> 1,596,595 <br><b>Recoverd : </b> 1,516,256 <br><b>Deaths : </b> 54,735 <br><b>Active : </b> 239,799 <br>",
          "<b>Country : </b>  Lithuania<br><b>Longitude :</b> 23.8813<br><b>Latitude :</b> 55.1694<br><b>Confirmed : </b> 257,827 <br><b>Recoverd : </b> 232,076 <br><b>Deaths : </b> 4,034 <br><b>Active : </b> 48,776 <br>",
          "<b>Country : </b>  Latvia<br><b>Longitude :</b> 24.6032<br><b>Latitude :</b> 56.8796<br><b>Confirmed : </b> 123,963 <br><b>Recoverd : </b> 113,214 <br><b>Deaths : </b> 2,212 <br><b>Active : </b> 22,856 <br>",
          "<b>Country : </b>  Botswana<br><b>Longitude :</b> 24.6849<br><b>Latitude :</b> -22.3285<br><b>Confirmed : </b> 48,417 <br><b>Recoverd : </b> 46,226 <br><b>Deaths : </b> 734 <br><b>Active : </b> 5,511 <br>",
          "<b>Country : </b>  Romania<br><b>Longitude :</b> 24.9668<br><b>Latitude :</b> 45.9432<br><b>Confirmed : </b> 1,066,111 <br><b>Recoverd : </b> 1,013,666 <br><b>Deaths : </b> 28,966 <br><b>Active : </b> 120,307 <br>",
          "<b>Country : </b>  Estonia<br><b>Longitude :</b> 25.0136<br><b>Latitude :</b> 58.5953<br><b>Confirmed : </b> 125,126 <br><b>Recoverd : </b> 115,908 <br><b>Deaths : </b> 1,201 <br><b>Active : </b> 28,715 <br>",
          "<b>Country : </b>  Bulgaria<br><b>Longitude :</b> 25.4858<br><b>Latitude :</b> 42.7339<br><b>Confirmed : </b> 410,202 <br><b>Recoverd : </b> 348,392 <br><b>Deaths : </b> 16,929 <br><b>Active : </b> 95,442 <br>",
          "<b>Country : </b>  Finland<br><b>Longitude :</b> 25.748151<br><b>Latitude :</b> 61.92411<br><b>Confirmed : </b> 88,723 <br><b>Recoverd : </b> 46,000 <br><b>Deaths : </b> 922 <br><b>Active : </b> 41,801 <br>",
          "<b>Country : </b>  Zambia<br><b>Longitude :</b> 27.849332<br><b>Latitude :</b> -13.133897<br><b>Confirmed : </b> 92,092 <br><b>Recoverd : </b> 90,428 <br><b>Deaths : </b> 1,257 <br><b>Active : </b> 10,900 <br>",
          "<b>Country : </b>  Belarus<br><b>Longitude :</b> 27.9534<br><b>Latitude :</b> 53.7098<br><b>Confirmed : </b> 368,888 <br><b>Recoverd : </b> 359,687 <br><b>Deaths : </b> 2,632 <br><b>Active : </b> 25,477 <br>",
          "<b>Country : </b>  Lesotho<br><b>Longitude :</b> 28.2336<br><b>Latitude :</b> -29.61<br><b>Confirmed : </b> 10,773 <br><b>Recoverd : </b> 6,427 <br><b>Deaths : </b> 319 <br><b>Active : </b> 7,101 <br>",
          "<b>Country : </b>  Moldova<br><b>Longitude :</b> 28.3699<br><b>Latitude :</b> 47.4116<br><b>Confirmed : </b> 252,749 <br><b>Recoverd : </b> 243,534 <br><b>Deaths : </b> 5,952 <br><b>Active : </b> 22,962 <br>",
          "<b>Country : </b>  Zimbabwe<br><b>Longitude :</b> 29.154857<br><b>Latitude :</b> -19.015438<br><b>Confirmed : </b> 38,419 <br><b>Recoverd : </b> 36,063 <br><b>Deaths : </b> 1,576 <br><b>Active : </b> 10,326 <br>",
          "<b>Country : </b>  Rwanda<br><b>Longitude :</b> 29.8739<br><b>Latitude :</b> -1.9403<br><b>Confirmed : </b> 25,652 <br><b>Recoverd : </b> 24,153 <br><b>Deaths : </b> 338 <br><b>Active : </b> 5,121 <br>",
          "<b>Country : </b>  Burundi<br><b>Longitude :</b> 29.9189<br><b>Latitude :</b> -3.3731<br><b>Confirmed : </b> 4,177 <br><b>Recoverd : </b> 773 <br><b>Deaths : </b> 6 <br><b>Active : </b> 3,398 <br>",
          "<b>Country : </b>  Sudan<br><b>Longitude :</b> 30.2176<br><b>Latitude :</b> 12.8628<br><b>Confirmed : </b> 34,461 <br><b>Recoverd : </b> 27,247 <br><b>Deaths : </b> 2,365 <br><b>Active : </b> 12,776 <br>",
          "<b>Country : </b>  Egypt<br><b>Longitude :</b> 30.802497999999996<br><b>Latitude :</b> 26.820553000000004<br><b>Confirmed : </b> 237,410 <br><b>Recoverd : </b> 176,763 <br><b>Deaths : </b> 13,904 <br><b>Active : </b> 55,230 <br>",
          "<b>Country : </b>  Ukraine<br><b>Longitude :</b> 31.1656<br><b>Latitude :</b> 48.3794<br><b>Confirmed : </b> 2,175,151 <br><b>Recoverd : </b> 1,811,171 <br><b>Deaths : </b> 48,294 <br><b>Active : </b> 427,565 <br>",
          "<b>Country : </b>  South Sudan<br><b>Longitude :</b> 31.307<br><b>Latitude :</b> 6.877000000000001<br><b>Confirmed : </b> 10,637 <br><b>Recoverd : </b> 10,312 <br><b>Deaths : </b> 115 <br><b>Active : </b> 4,347 <br>",
          "<b>Country : </b>  Eswatini<br><b>Longitude :</b> 31.4659<br><b>Latitude :</b> -26.5225<br><b>Confirmed : </b> 18,480 <br><b>Recoverd : </b> 17,783 <br><b>Deaths : </b> 671 <br><b>Active : </b> 4,912 <br>",
          "<b>Country : </b>  Uganda<br><b>Longitude :</b> 32.290275<br><b>Latitude :</b> 1.373333<br><b>Confirmed : </b> 42,355 <br><b>Recoverd : </b> 41,924 <br><b>Deaths : </b> 346 <br><b>Active : </b> 25,385 <br>",
          "<b>Country : </b>  Cyprus<br><b>Longitude :</b> 33.4299<br><b>Latitude :</b> 35.1264<br><b>Confirmed : </b> 69,432 <br><b>Recoverd : </b> 39,061 <br><b>Deaths : </b> 336 <br><b>Active : </b> 47,663 <br>",
          "<b>Country : </b>  Malawi<br><b>Longitude :</b> 34.3015<br><b>Latitude :</b> -13.2543<br><b>Confirmed : </b> 34,171 <br><b>Recoverd : </b> 32,159 <br><b>Deaths : </b> 1,153 <br><b>Active : </b> 14,874 <br>",
          "<b>Country : </b>  Israel<br><b>Longitude :</b> 34.851612<br><b>Latitude :</b> 31.046051000000002<br><b>Confirmed : </b> 838,894 <br><b>Recoverd : </b> 831,576 <br><b>Deaths : </b> 6,377 <br><b>Active : </b> 85,014 <br>",
          "<b>Country : </b>  Tanzania<br><b>Longitude :</b> 34.888822<br><b>Latitude :</b> -6.369028<br><b>Confirmed : </b> 509 <br><b>Recoverd : </b> 183 <br><b>Deaths : </b> 21 <br><b>Active : </b> 305 <br>",
          "<b>Country : </b>  West Bank and Gaza<br><b>Longitude :</b> 35.2332<br><b>Latitude :</b> 31.9522<br><b>Confirmed : </b> 301,751 <br><b>Recoverd : </b> 286,385 <br><b>Deaths : </b> 3,358 <br><b>Active : </b> 33,275 <br>",
          "<b>Country : </b>  Turkey<br><b>Longitude :</b> 35.2433<br><b>Latitude :</b> 38.9637<br><b>Confirmed : </b> 5,031,332 <br><b>Recoverd : </b> 4,716,918 <br><b>Deaths : </b> 43,029 <br><b>Active : </b> 1,306,587 <br>",
          "<b>Country : </b>  Mozambique<br><b>Longitude :</b> 35.529562<br><b>Latitude :</b> -18.665695<br><b>Confirmed : </b> 70,212 <br><b>Recoverd : </b> 0 <br><b>Deaths : </b> 823 <br><b>Active : </b> 69,389 <br>",
          "<b>Country : </b>  Lebanon<br><b>Longitude :</b> 35.8623<br><b>Latitude :</b> 33.8547<br><b>Confirmed : </b> 532,839 <br><b>Recoverd : </b> 481,968 <br><b>Deaths : </b> 7,486 <br><b>Active : </b> 119,050 <br>",
          "<b>Country : </b>  Jordan<br><b>Longitude :</b> 36.51<br><b>Latitude :</b> 31.24<br><b>Confirmed : </b> 719,233 <br><b>Recoverd : </b> 703,577 <br><b>Deaths : </b> 9,076 <br><b>Active : </b> 137,385 <br>",
          "<b>Country : </b>  Kenya<br><b>Longitude :</b> 37.9062<br><b>Latitude :</b> -0.0236<br><b>Confirmed : </b> 163,554 <br><b>Recoverd : </b> 111,191 <br><b>Deaths : </b> 2,895 <br><b>Active : </b> 49,468 <br>",
          "<b>Country : </b>  Syria<br><b>Longitude :</b> 38.996815000000005<br><b>Latitude :</b> 34.802075<br><b>Confirmed : </b> 23,379 <br><b>Recoverd : </b> 0 <br><b>Deaths : </b> 1,657 <br><b>Active : </b> 21,722 <br>",
          "<b>Country : </b>  Eritrea<br><b>Longitude :</b> 39.7823<br><b>Latitude :</b> 15.1794<br><b>Confirmed : </b> 3,742 <br><b>Recoverd : </b> 3,602 <br><b>Deaths : </b> 12 <br><b>Active : </b> 810 <br>",
          "<b>Country : </b>  Ethiopia<br><b>Longitude :</b> 40.4897<br><b>Latitude :</b> 9.145<br><b>Confirmed : </b> 262,702 <br><b>Recoverd : </b> 210,030 <br><b>Deaths : </b> 3,888 <br><b>Active : </b> 59,781 <br>",
          "<b>Country : </b>  Djibouti<br><b>Longitude :</b> 42.5903<br><b>Latitude :</b> 11.8251<br><b>Confirmed : </b> 11,335 <br><b>Recoverd : </b> 11,041 <br><b>Deaths : </b> 149 <br><b>Active : </b> 2,390 <br>",
          "<b>Country : </b>  Comoros<br><b>Longitude :</b> 43.3333<br><b>Latitude :</b> -11.6455<br><b>Confirmed : </b> 3,854 <br><b>Recoverd : </b> 3,682 <br><b>Deaths : </b> 146 <br><b>Active : </b> 975 <br>",
          "<b>Country : </b>  Georgia<br><b>Longitude :</b> 43.3569<br><b>Latitude :</b> 42.3154<br><b>Confirmed : </b> 321,919 <br><b>Recoverd : </b> 300,989 <br><b>Deaths : </b> 4,281 <br><b>Active : </b> 31,021 <br>",
          "<b>Country : </b>  Iraq<br><b>Longitude :</b> 43.679291<br><b>Latitude :</b> 33.223191<br><b>Confirmed : </b> 1,112,725 <br><b>Recoverd : </b> 1,005,369 <br><b>Deaths : </b> 15,771 <br><b>Active : </b> 112,140 <br>",
          "<b>Country : </b>  Armenia<br><b>Longitude :</b> 45.0382<br><b>Latitude :</b> 40.0691<br><b>Confirmed : </b> 219,270 <br><b>Recoverd : </b> 204,578 <br><b>Deaths : </b> 4,234 <br><b>Active : </b> 40,976 <br>",
          "<b>Country : </b>  Saudi Arabia<br><b>Longitude :</b> 45.079162<br><b>Latitude :</b> 23.885942<br><b>Confirmed : </b> 426,384 <br><b>Recoverd : </b> 409,740 <br><b>Deaths : </b> 7,072 <br><b>Active : </b> 63,026 <br>",
          "<b>Country : </b>  France<br><b>Longitude :</b> 45.166244<br><b>Latitude :</b> -12.8275<br><b>Confirmed : </b> 20,134 <br><b>Recoverd : </b> 2,964 <br><b>Deaths : </b> 170 <br><b>Active : </b> 17,000 <br>",
          "<b>Country : </b>  Somalia<br><b>Longitude :</b> 46.199616<br><b>Latitude :</b> 5.152149<br><b>Confirmed : </b> 14,415 <br><b>Recoverd : </b> 6,191 <br><b>Deaths : </b> 747 <br><b>Active : </b> 7,477 <br>",
          "<b>Country : </b>  Madagascar<br><b>Longitude :</b> 46.869107<br><b>Latitude :</b> -18.766947000000002<br><b>Confirmed : </b> 39,012 <br><b>Recoverd : </b> 36,022 <br><b>Deaths : </b> 722 <br><b>Active : </b> 6,718 <br>",
          "<b>Country : </b>  Kuwait<br><b>Longitude :</b> 47.481766<br><b>Latitude :</b> 29.311659999999996<br><b>Confirmed : </b> 285,068 <br><b>Recoverd : </b> 269,633 <br><b>Deaths : </b> 1,645 <br><b>Active : </b> 15,831 <br>",
          "<b>Country : </b>  Azerbaijan<br><b>Longitude :</b> 47.5769<br><b>Latitude :</b> 40.1431<br><b>Confirmed : </b> 326,716 <br><b>Recoverd : </b> 306,119 <br><b>Deaths : </b> 4,680 <br><b>Active : </b> 62,427 <br>",
          "<b>Country : </b>  Yemen<br><b>Longitude :</b> 48.516388<br><b>Latitude :</b> 15.552726999999999<br><b>Confirmed : </b> 6,482 <br><b>Recoverd : </b> 2,992 <br><b>Deaths : </b> 1,271 <br><b>Active : </b> 2,504 <br>",
          "<b>Country : </b>  Bahrain<br><b>Longitude :</b> 50.55<br><b>Latitude :</b> 26.0275<br><b>Confirmed : </b> 189,356 <br><b>Recoverd : </b> 175,332 <br><b>Deaths : </b> 685 <br><b>Active : </b> 13,339 <br>",
          "<b>Country : </b>  Qatar<br><b>Longitude :</b> 51.1839<br><b>Latitude :</b> 25.3548<br><b>Confirmed : </b> 210,992 <br><b>Recoverd : </b> 201,530 <br><b>Deaths : </b> 508 <br><b>Active : </b> 35,634 <br>",
          "<b>Country : </b>  Iran<br><b>Longitude :</b> 53.68804599999999<br><b>Latitude :</b> 32.427908<br><b>Confirmed : </b> 2,654,811 <br><b>Recoverd : </b> 2,109,702 <br><b>Deaths : </b> 74,910 <br><b>Active : </b> 479,932 <br>",
          "<b>Country : </b>  United Arab Emirates<br><b>Longitude :</b> 53.847818000000004<br><b>Latitude :</b> 23.424076<br><b>Confirmed : </b> 536,017 <br><b>Recoverd : </b> 516,329 <br><b>Deaths : </b> 1,613 <br><b>Active : </b> 27,792 <br>",
          "<b>Country : </b>  Seychelles<br><b>Longitude :</b> 55.492<br><b>Latitude :</b> -4.6796<br><b>Confirmed : </b> 6,373 <br><b>Recoverd : </b> 5,277 <br><b>Deaths : </b> 28 <br><b>Active : </b> 1,068 <br>",
          "<b>Country : </b>  France<br><b>Longitude :</b> 55.5364<br><b>Latitude :</b> -21.1151<br><b>Confirmed : </b> 21,451 <br><b>Recoverd : </b> 19,848 <br><b>Deaths : </b> 150 <br><b>Active : </b> 2,155 <br>",
          "<b>Country : </b>  Oman<br><b>Longitude :</b> 55.923255000000005<br><b>Latitude :</b> 21.512583<br><b>Confirmed : </b> 201,350 <br><b>Recoverd : </b> 184,647 <br><b>Deaths : </b> 2,120 <br><b>Active : </b> 23,276 <br>",
          "<b>Country : </b>  Mauritius<br><b>Longitude :</b> 57.552152<br><b>Latitude :</b> -20.348404000000002<br><b>Confirmed : </b> 1,246 <br><b>Recoverd : </b> 1,123 <br><b>Deaths : </b> 17 <br><b>Active : </b> 448 <br>",
          "<b>Country : </b>  Uzbekistan<br><b>Longitude :</b> 64.585262<br><b>Latitude :</b> 41.377491<br><b>Confirmed : </b> 94,397 <br><b>Recoverd : </b> 90,053 <br><b>Deaths : </b> 662 <br><b>Active : </b> 9,549 <br>",
          "<b>Country : </b>  Kazakhstan<br><b>Longitude :</b> 66.9237<br><b>Latitude :</b> 48.0196<br><b>Confirmed : </b> 398,272 <br><b>Recoverd : </b> 351,768 <br><b>Deaths : </b> 3,371 <br><b>Active : </b> 46,234 <br>",
          "<b>Country : </b>  Afghanistan<br><b>Longitude :</b> 67.709953<br><b>Latitude :</b> 33.93911<br><b>Confirmed : </b> 61,842 <br><b>Recoverd : </b> 54,222 <br><b>Deaths : </b> 2,686 <br><b>Active : </b> 20,311 <br>",
          "<b>Country : </b>  Pakistan<br><b>Longitude :</b> 69.3451<br><b>Latitude :</b> 30.3753<br><b>Confirmed : </b> 858,026 <br><b>Recoverd : </b> 757,281 <br><b>Deaths : </b> 18,915 <br><b>Active : </b> 108,642 <br>",
          "<b>Country : </b>  Tajikistan<br><b>Longitude :</b> 71.2761<br><b>Latitude :</b> 38.861<br><b>Confirmed : </b> 13,308 <br><b>Recoverd : </b> 13,218 <br><b>Deaths : </b> 90 <br><b>Active : </b> 1,895 <br>",
          "<b>Country : </b>  Maldives<br><b>Longitude :</b> 73.2207<br><b>Latitude :</b> 3.2028<br><b>Confirmed : </b> 35,815 <br><b>Recoverd : </b> 26,299 <br><b>Deaths : </b> 84 <br><b>Active : </b> 9,432 <br>",
          "<b>Country : </b>  Kyrgyzstan<br><b>Longitude :</b> 74.766098<br><b>Latitude :</b> 41.20438<br><b>Confirmed : </b> 98,400 <br><b>Recoverd : </b> 91,559 <br><b>Deaths : </b> 1,655 <br><b>Active : </b> 13,002 <br>",
          "<b>Country : </b>  India<br><b>Longitude :</b> 78.96288<br><b>Latitude :</b> 20.593684<br><b>Confirmed : </b> 22,662,575 <br><b>Recoverd : </b> 18,671,222 <br><b>Deaths : </b> 246,116 <br><b>Active : </b> 3,745,237 <br>",
          "<b>Country : </b>  Sri Lanka<br><b>Longitude :</b> 80.77179699999999<br><b>Latitude :</b> 7.873054<br><b>Confirmed : </b> 125,906 <br><b>Recoverd : </b> 104,463 <br><b>Deaths : </b> 801 <br><b>Active : </b> 20,642 <br>",
          "<b>Country : </b>  Nepal<br><b>Longitude :</b> 84.25<br><b>Latitude :</b> 28.1667<br><b>Confirmed : </b> 394,667 <br><b>Recoverd : </b> 302,787 <br><b>Deaths : </b> 3,720 <br><b>Active : </b> 88,160 <br>",
          "<b>Country : </b>  China<br><b>Longitude :</b> 85.2401<br><b>Latitude :</b> 41.1129<br><b>Confirmed : </b> 980 <br><b>Recoverd : </b> 977 <br><b>Deaths : </b> 3 <br><b>Active : </b> 643 <br>",
          "<b>Country : </b>  China<br><b>Longitude :</b> 88.0924<br><b>Latitude :</b> 31.6927<br><b>Confirmed : </b> 1 <br><b>Recoverd : </b> 1 <br><b>Deaths : </b> 0 <br><b>Active : </b> 1 <br>",
          "<b>Country : </b>  Bangladesh<br><b>Longitude :</b> 90.3563<br><b>Latitude :</b> 23.685<br><b>Confirmed : </b> 773,513 <br><b>Recoverd : </b> 710,162 <br><b>Deaths : </b> 11,934 <br><b>Active : </b> 115,779 <br>",
          "<b>Country : </b>  Bhutan<br><b>Longitude :</b> 90.4336<br><b>Latitude :</b> 27.5142<br><b>Confirmed : </b> 1,221 <br><b>Recoverd : </b> 1,067 <br><b>Deaths : </b> 1 <br><b>Active : </b> 355 <br>",
          "<b>Country : </b>  Burma<br><b>Longitude :</b> 95.956<br><b>Latitude :</b> 21.9162<br><b>Confirmed : </b> 142,947 <br><b>Recoverd : </b> 132,013 <br><b>Deaths : </b> 3,210 <br><b>Active : </b> 19,859 <br>",
          "<b>Country : </b>  China<br><b>Longitude :</b> 95.9956<br><b>Latitude :</b> 35.7452<br><b>Confirmed : </b> 18 <br><b>Recoverd : </b> 18 <br><b>Deaths : </b> 0 <br><b>Active : </b> 15 <br>",
          "<b>Country : </b>  Thailand<br><b>Longitude :</b> 100.992541<br><b>Latitude :</b> 15.870032<br><b>Confirmed : </b> 83,375 <br><b>Recoverd : </b> 26,873 <br><b>Deaths : </b> 399 <br><b>Active : </b> 56,103 <br>",
          "<b>Country : </b>  China<br><b>Longitude :</b> 101.48700000000001<br><b>Latitude :</b> 24.974<br><b>Confirmed : </b> 348 <br><b>Recoverd : </b> 304 <br><b>Deaths : </b> 2 <br><b>Active : </b> 133 <br>",
          "<b>Country : </b>  Malaysia<br><b>Longitude :</b> 101.97576600000001<br><b>Latitude :</b> 4.210483999999999<br><b>Confirmed : </b> 440,677 <br><b>Recoverd : </b> 401,934 <br><b>Deaths : </b> 1,683 <br><b>Active : </b> 52,186 <br>",
          "<b>Country : </b>  Laos<br><b>Longitude :</b> 102.495496<br><b>Latitude :</b> 19.856270000000002<br><b>Confirmed : </b> 1,302 <br><b>Recoverd : </b> 232 <br><b>Deaths : </b> 1 <br><b>Active : </b> 1,083 <br>",
          "<b>Country : </b>  China<br><b>Longitude :</b> 102.7103<br><b>Latitude :</b> 30.6171<br><b>Confirmed : </b> 993 <br><b>Recoverd : </b> 959 <br><b>Deaths : </b> 3 <br><b>Active : </b> 350 <br>",
          "<b>Country : </b>  Singapore<br><b>Longitude :</b> 103.8333<br><b>Latitude :</b> 1.2833<br><b>Confirmed : </b> 61,359 <br><b>Recoverd : </b> 60,933 <br><b>Deaths : </b> 31 <br><b>Active : </b> 20,799 <br>",
          "<b>Country : </b>  Mongolia<br><b>Longitude :</b> 103.8467<br><b>Latitude :</b> 46.8625<br><b>Confirmed : </b> 45,459 <br><b>Recoverd : </b> 32,660 <br><b>Deaths : </b> 170 <br><b>Active : </b> 16,489 <br>",
          "<b>Country : </b>  China<br><b>Longitude :</b> 104.2861<br><b>Latitude :</b> 35.7518<br><b>Confirmed : </b> 193 <br><b>Recoverd : </b> 191 <br><b>Deaths : </b> 2 <br><b>Active : </b> 66 <br>",
          "<b>Country : </b>  Cambodia<br><b>Longitude :</b> 104.9167<br><b>Latitude :</b> 11.55<br><b>Confirmed : </b> 19,237 <br><b>Recoverd : </b> 7,641 <br><b>Deaths : </b> 120 <br><b>Active : </b> 11,476 <br>",
          "<b>Country : </b>  Russia<br><b>Longitude :</b> 105.31875600000001<br><b>Latitude :</b> 61.52401<br><b>Confirmed : </b> 4,824,621 <br><b>Recoverd : </b> 4,444,712 <br><b>Deaths : </b> 111,425 <br><b>Active : </b> 558,147 <br>",
          "<b>Country : </b>  China<br><b>Longitude :</b> 106.1655<br><b>Latitude :</b> 37.2692<br><b>Confirmed : </b> 76 <br><b>Recoverd : </b> 75 <br><b>Deaths : </b> 0 <br><b>Active : </b> 43 <br>",
          "<b>Country : </b>  China<br><b>Longitude :</b> 106.8748<br><b>Latitude :</b> 26.8154<br><b>Confirmed : </b> 147 <br><b>Recoverd : </b> 145 <br><b>Deaths : </b> 2 <br><b>Active : </b> 114 <br>",
          "<b>Country : </b>  China<br><b>Longitude :</b> 107.874<br><b>Latitude :</b> 30.0572<br><b>Confirmed : </b> 597 <br><b>Recoverd : </b> 585 <br><b>Deaths : </b> 6 <br><b>Active : </b> 423 <br>",
          "<b>Country : </b>  Vietnam<br><b>Longitude :</b> 108.277199<br><b>Latitude :</b> 14.058323999999999<br><b>Confirmed : </b> 3,412 <br><b>Recoverd : </b> 2,602 <br><b>Deaths : </b> 35 <br><b>Active : </b> 775 <br>",
          "<b>Country : </b>  China<br><b>Longitude :</b> 108.7881<br><b>Latitude :</b> 23.8298<br><b>Confirmed : </b> 275 <br><b>Recoverd : </b> 267 <br><b>Deaths : </b> 2 <br><b>Active : </b> 189 <br>",
          "<b>Country : </b>  China<br><b>Longitude :</b> 108.8701<br><b>Latitude :</b> 35.1917<br><b>Confirmed : </b> 594 <br><b>Recoverd : </b> 584 <br><b>Deaths : </b> 3 <br><b>Active : </b> 187 <br>",
          "<b>Country : </b>  China<br><b>Longitude :</b> 109.7453<br><b>Latitude :</b> 19.1959<br><b>Confirmed : </b> 188 <br><b>Recoverd : </b> 168 <br><b>Deaths : </b> 6 <br><b>Active : </b> 126 <br>",
          "<b>Country : </b>  China<br><b>Longitude :</b> 111.7088<br><b>Latitude :</b> 27.6104<br><b>Confirmed : </b> 1,045 <br><b>Recoverd : </b> 1,039 <br><b>Deaths : </b> 4 <br><b>Active : </b> 670 <br>",
          "<b>Country : </b>  China<br><b>Longitude :</b> 112.2707<br><b>Latitude :</b> 30.9756<br><b>Confirmed : </b> 68,158 <br><b>Recoverd : </b> 64,435 <br><b>Deaths : </b> 4,512 <br><b>Active : </b> 50,633 <br>",
          "<b>Country : </b>  China<br><b>Longitude :</b> 112.2922<br><b>Latitude :</b> 37.5777<br><b>Confirmed : </b> 251 <br><b>Recoverd : </b> 244 <br><b>Deaths : </b> 0 <br><b>Active : </b> 94 <br>",
          "<b>Country : </b>  China<br><b>Longitude :</b> 113.4244<br><b>Latitude :</b> 23.3417<br><b>Confirmed : </b> 2,372 <br><b>Recoverd : </b> 2,314 <br><b>Deaths : </b> 8 <br><b>Active : </b> 991 <br>",
          "<b>Country : </b>  China<br><b>Longitude :</b> 113.55<br><b>Latitude :</b> 22.1667<br><b>Confirmed : </b> 49 <br><b>Recoverd : </b> 49 <br><b>Deaths : </b> 0 <br><b>Active : </b> 35 <br>",
          "<b>Country : </b>  Indonesia<br><b>Longitude :</b> 113.9213<br><b>Latitude :</b> -0.7893<br><b>Confirmed : </b> 1,713,684 <br><b>Recoverd : </b> 1,568,277 <br><b>Deaths : </b> 47,012 <br><b>Active : </b> 176,672 <br>",
          "<b>Country : </b>  China<br><b>Longitude :</b> 113.9448<br><b>Latitude :</b> 44.0935<br><b>Confirmed : </b> 382 <br><b>Recoverd : </b> 378 <br><b>Deaths : </b> 1 <br><b>Active : </b> 106 <br>",
          "<b>Country : </b>  China<br><b>Longitude :</b> 114.2<br><b>Latitude :</b> 22.3<br><b>Confirmed : </b> 11,807 <br><b>Recoverd : </b> 11,493 <br><b>Deaths : </b> 210 <br><b>Active : </b> 1,517 <br>",
          "<b>Country : </b>  Brunei<br><b>Longitude :</b> 114.7277<br><b>Latitude :</b> 4.5353<br><b>Confirmed : </b> 230 <br><b>Recoverd : </b> 218 <br><b>Deaths : </b> 3 <br><b>Active : </b> 109 <br>",
          "<b>Country : </b>  China<br><b>Longitude :</b> 114.9042<br><b>Latitude :</b> 37.8957<br><b>Confirmed : </b> 1,312 <br><b>Recoverd : </b> 1,310 <br><b>Deaths : </b> 22 <br><b>Active : </b> 1,113 <br>",
          "<b>Country : </b>  China<br><b>Longitude :</b> 115.7221<br><b>Latitude :</b> 27.614<br><b>Confirmed : </b> 937 <br><b>Recoverd : </b> 936 <br><b>Deaths : </b> 1 <br><b>Active : </b> 712 <br>",
          "<b>Country : </b>  Australia<br><b>Longitude :</b> 115.8605<br><b>Latitude :</b> -31.9505<br><b>Confirmed : </b> 1,013 <br><b>Recoverd : </b> 986 <br><b>Deaths : </b> 9 <br><b>Active : </b> 358 <br>",
          "<b>Country : </b>  China<br><b>Longitude :</b> 116.1306<br><b>Latitude :</b> 39.549<br><b>Confirmed : </b> 1,317 <br><b>Recoverd : </b> 0 <br><b>Deaths : </b> 7 <br><b>Active : </b> 1,310 <br>",
          "<b>Country : </b>  China<br><b>Longitude :</b> 116.4142<br><b>Latitude :</b> 40.1824<br><b>Confirmed : </b> 1,057 <br><b>Recoverd : </b> 1,046 <br><b>Deaths : </b> 9 <br><b>Active : </b> 326 <br>",
          "<b>Country : </b>  China<br><b>Longitude :</b> 117.2264<br><b>Latitude :</b> 31.8257<br><b>Confirmed : </b> 994 <br><b>Recoverd : </b> 988 <br><b>Deaths : </b> 6 <br><b>Active : </b> 758 <br>",
          "<b>Country : </b>  China<br><b>Longitude :</b> 117.323<br><b>Latitude :</b> 39.3054<br><b>Confirmed : </b> 387 <br><b>Recoverd : </b> 378 <br><b>Deaths : </b> 3 <br><b>Active : </b> 99 <br>",
          "<b>Country : </b>  China<br><b>Longitude :</b> 117.9874<br><b>Latitude :</b> 26.0789<br><b>Confirmed : </b> 595 <br><b>Recoverd : </b> 569 <br><b>Deaths : </b> 1 <br><b>Active : </b> 222 <br>",
          "<b>Country : </b>  China<br><b>Longitude :</b> 118.1498<br><b>Latitude :</b> 36.3427<br><b>Confirmed : </b> 879 <br><b>Recoverd : </b> 869 <br><b>Deaths : </b> 7 <br><b>Active : </b> 464 <br>",
          "<b>Country : </b>  China<br><b>Longitude :</b> 119.455<br><b>Latitude :</b> 32.9711<br><b>Confirmed : </b> 720 <br><b>Recoverd : </b> 712 <br><b>Deaths : </b> 0 <br><b>Active : </b> 436 <br>",
          "<b>Country : </b>  China<br><b>Longitude :</b> 120.0934<br><b>Latitude :</b> 29.1832<br><b>Confirmed : </b> 1,346 <br><b>Recoverd : </b> 1,322 <br><b>Deaths : </b> 1 <br><b>Active : </b> 883 <br>",
          "<b>Country : </b>  Taiwan*<br><b>Longitude :</b> 121.0<br><b>Latitude :</b> 23.7<br><b>Confirmed : </b> 1,184 <br><b>Recoverd : </b> 1,089 <br><b>Deaths : </b> 12 <br><b>Active : </b> 314 <br>",
          "<b>Country : </b>  China<br><b>Longitude :</b> 121.4491<br><b>Latitude :</b> 31.201999999999998<br><b>Confirmed : </b> 2,016 <br><b>Recoverd : </b> 1,950 <br><b>Deaths : </b> 7 <br><b>Active : </b> 253 <br>",
          "<b>Country : </b>  Philippines<br><b>Longitude :</b> 121.77401699999999<br><b>Latitude :</b> 12.879721<br><b>Confirmed : </b> 1,101,990 <br><b>Recoverd : </b> 1,022,224 <br><b>Deaths : </b> 18,472 <br><b>Active : </b> 203,710 <br>",
          "<b>Country : </b>  China<br><b>Longitude :</b> 122.6085<br><b>Latitude :</b> 41.2956<br><b>Confirmed : </b> 408 <br><b>Recoverd : </b> 406 <br><b>Deaths : </b> 2 <br><b>Active : </b> 97 <br>",
          "<b>Country : </b>  Timor-Leste<br><b>Longitude :</b> 125.727539<br><b>Latitude :</b> -8.874217<br><b>Confirmed : </b> 3,227 <br><b>Recoverd : </b> 0 <br><b>Deaths : </b> 4 <br><b>Active : </b> 3,223 <br>",
          "<b>Country : </b>  China<br><b>Longitude :</b> 126.1923<br><b>Latitude :</b> 43.6661<br><b>Confirmed : </b> 573 <br><b>Recoverd : </b> 570 <br><b>Deaths : </b> 3 <br><b>Active : </b> 350 <br>",
          "<b>Country : </b>  China<br><b>Longitude :</b> 127.7615<br><b>Latitude :</b> 47.861999999999995<br><b>Confirmed : </b> 1,610 <br><b>Recoverd : </b> 1,597 <br><b>Deaths : </b> 13 <br><b>Active : </b> 527 <br>",
          "<b>Country : </b>  Korea, South<br><b>Longitude :</b> 127.766922<br><b>Latitude :</b> 35.907757000000004<br><b>Confirmed : </b> 127,772 <br><b>Recoverd : </b> 117,844 <br><b>Deaths : </b> 1,875 <br><b>Active : </b> 18,073 <br>",
          "<b>Country : </b>  Australia<br><b>Longitude :</b> 130.8456<br><b>Latitude :</b> -12.4634<br><b>Confirmed : </b> 167 <br><b>Recoverd : </b> 155 <br><b>Deaths : </b> 0 <br><b>Active : </b> 53 <br>",
          "<b>Country : </b>  Japan<br><b>Longitude :</b> 138.252924<br><b>Latitude :</b> 36.204824<br><b>Confirmed : </b> 642,146 <br><b>Recoverd : </b> 555,245 <br><b>Deaths : </b> 10,860 <br><b>Active : </b> 78,740 <br>",
          "<b>Country : </b>  Australia<br><b>Longitude :</b> 138.6007<br><b>Latitude :</b> -34.9285<br><b>Confirmed : </b> 740 <br><b>Recoverd : </b> 710 <br><b>Deaths : </b> 4 <br><b>Active : </b> 361 <br>",
          "<b>Country : </b>  Papua New Guinea<br><b>Longitude :</b> 143.95555<br><b>Latitude :</b> -6.314993<br><b>Confirmed : </b> 11,630 <br><b>Recoverd : </b> 10,312 <br><b>Deaths : </b> 121 <br><b>Active : </b> 9,015 <br>",
          "<b>Country : </b>  Australia<br><b>Longitude :</b> 144.9631<br><b>Latitude :</b> -37.8136<br><b>Confirmed : </b> 20,535 <br><b>Recoverd : </b> 19,692 <br><b>Deaths : </b> 820 <br><b>Active : </b> 8,490 <br>",
          "<b>Country : </b>  Australia<br><b>Longitude :</b> 147.3272<br><b>Latitude :</b> -42.8821<br><b>Confirmed : </b> 234 <br><b>Recoverd : </b> 221 <br><b>Deaths : </b> 13 <br><b>Active : </b> 122 <br>",
          "<b>Country : </b>  Australia<br><b>Longitude :</b> 149.0124<br><b>Latitude :</b> -35.4735<br><b>Confirmed : </b> 124 <br><b>Recoverd : </b> 121 <br><b>Deaths : </b> 3 <br><b>Active : </b> 76 <br>",
          "<b>Country : </b>  France<br><b>Longitude :</b> 149.4068<br><b>Latitude :</b> -17.6797<br><b>Confirmed : </b> 18,790 <br><b>Recoverd : </b> 18,617 <br><b>Deaths : </b> 141 <br><b>Active : </b> 13,775 <br>",
          "<b>Country : </b>  Micronesia<br><b>Longitude :</b> 150.5508<br><b>Latitude :</b> 7.4256<br><b>Confirmed : </b> 1 <br><b>Recoverd : </b> 1 <br><b>Deaths : </b> 0 <br><b>Active : </b> 1 <br>",
          "<b>Country : </b>  Australia<br><b>Longitude :</b> 151.2093<br><b>Latitude :</b> -33.8688<br><b>Confirmed : </b> 5,538 <br><b>Recoverd : </b> 2,997 <br><b>Deaths : </b> 54 <br><b>Active : </b> 5,484 <br>",
          "<b>Country : </b>  Australia<br><b>Longitude :</b> 153.0251<br><b>Latitude :</b> -27.4698<br><b>Confirmed : </b> 1,580 <br><b>Recoverd : </b> 1,552 <br><b>Deaths : </b> 7 <br><b>Active : </b> 895 <br>",
          "<b>Country : </b>  Solomon Islands<br><b>Longitude :</b> 160.1562<br><b>Latitude :</b> -9.6457<br><b>Confirmed : </b> 20 <br><b>Recoverd : </b> 20 <br><b>Deaths : </b> 0 <br><b>Active : </b> 12 <br>",
          "<b>Country : </b>  France<br><b>Longitude :</b> 165.618042<br><b>Latitude :</b> -20.904304999999997<br><b>Confirmed : </b> 124 <br><b>Recoverd : </b> 58 <br><b>Deaths : </b> 0 <br><b>Active : </b> 66 <br>",
          "<b>Country : </b>  Vanuatu<br><b>Longitude :</b> 166.9592<br><b>Latitude :</b> -15.3767<br><b>Confirmed : </b> 4 <br><b>Recoverd : </b> 3 <br><b>Deaths : </b> 1 <br><b>Active : </b> 2 <br>",
          "<b>Country : </b>  Marshall Islands<br><b>Longitude :</b> 171.1845<br><b>Latitude :</b> 7.1315<br><b>Confirmed : </b> 4 <br><b>Recoverd : </b> 4 <br><b>Deaths : </b> 0 <br><b>Active : </b> 3 <br>",
          "<b>Country : </b>  New Zealand<br><b>Longitude :</b> 174.886<br><b>Latitude :</b> -40.9006<br><b>Confirmed : </b> 2,644 <br><b>Recoverd : </b> 2,591 <br><b>Deaths : </b> 26 <br><b>Active : </b> 929 <br>",
          "<b>Country : </b>  Fiji<br><b>Longitude :</b> 178.065<br><b>Latitude :</b> -17.7134<br><b>Confirmed : </b> 139 <br><b>Recoverd : </b> 98 <br><b>Deaths : </b> 3 <br><b>Active : </b> 51 <br>"
         ],
         "lat": [
          -14.2938,
          -13.759,
          64.2823,
          53.7267,
          64.8255,
          53.9333,
          52.9399,
          23.6345,
          40,
          53.7609,
          15.7835,
          13.7942,
          17.1899,
          15.2,
          51.2538,
          12.865416,
          9.7489,
          70.2998,
          19.3133,
          8.538,
          -1.8312,
          25.025885,
          21.521757,
          18.1096,
          -9.19,
          4.5709,
          52.9399,
          18.9712,
          21.694000000000003,
          -35.6751,
          18.7357,
          12.5211,
          12.1696,
          12.1784,
          6.4238,
          46.5653,
          32.3078,
          18.4207,
          44.681999999999995,
          -38.4161,
          -16.2902,
          46.5107,
          18.2206,
          18.0425,
          18.0708,
          17.9,
          17.357822,
          16.742498,
          17.0608,
          12.1165,
          16.265,
          15.415,
          12.9843,
          10.6918,
          14.6415,
          13.9094,
          13.1939,
          -51.7963,
          4.860416000000001,
          -23.4425,
          53.1355,
          46.8852,
          3.9193,
          -32.5228,
          3.9339,
          -14.235,
          71.7069,
          16.5388,
          64.9631,
          13.4432,
          11.8037,
          14.4974,
          -7.9467,
          8.460555000000001,
          21.0079,
          9.9456,
          6.4280550000000005,
          39.3999,
          53.1424,
          31.7917,
          61.8926,
          7.54,
          36.1408,
          54.2361,
          17.570692,
          40.463667,
          55.3781,
          49.3723,
          12.2383,
          7.9465,
          0,
          0,
          0,
          8.6195,
          42.5063,
          28.0339,
          46.2276,
          9.3077,
          50.8333,
          52.1326,
          49.8153,
          0.1864,
          43.7333,
          17.607789,
          46.8182,
          60.472,
          9.082,
          56.2639,
          33.886917,
          47.14,
          1.6508,
          51.165690999999995,
          3.8480000000000003,
          -0.8037,
          41.9029,
          43.9424,
          41.87194,
          35.9375,
          47.5162,
          46.1512,
          45.1,
          49.8175,
          -0.228,
          26.3351,
          43.9159,
          -11.2027,
          -22.9576,
          60.128161,
          15.4542,
          51.9194,
          42.708678000000006,
          47.1625,
          48.669,
          41.1533,
          42.602636,
          6.6111,
          44.0165,
          41.6086,
          -4.0383,
          39.0742,
          -30.5595,
          55.1694,
          56.8796,
          -22.3285,
          45.9432,
          58.5953,
          42.7339,
          61.92411,
          -13.133897,
          53.7098,
          -29.61,
          47.4116,
          -19.015438,
          -1.9403,
          -3.3731,
          12.8628,
          26.820553000000004,
          48.3794,
          6.877000000000001,
          -26.5225,
          1.373333,
          35.1264,
          -13.2543,
          31.046051000000002,
          -6.369028,
          31.9522,
          38.9637,
          -18.665695,
          33.8547,
          31.24,
          -0.0236,
          34.802075,
          15.1794,
          9.145,
          11.8251,
          -11.6455,
          42.3154,
          33.223191,
          40.0691,
          23.885942,
          -12.8275,
          5.152149,
          -18.766947000000002,
          29.311659999999996,
          40.1431,
          15.552726999999999,
          26.0275,
          25.3548,
          32.427908,
          23.424076,
          -4.6796,
          -21.1151,
          21.512583,
          -20.348404000000002,
          41.377491,
          48.0196,
          33.93911,
          30.3753,
          38.861,
          3.2028,
          41.20438,
          20.593684,
          7.873054,
          28.1667,
          41.1129,
          31.6927,
          23.685,
          27.5142,
          21.9162,
          35.7452,
          15.870032,
          24.974,
          4.210483999999999,
          19.856270000000002,
          30.6171,
          1.2833,
          46.8625,
          35.7518,
          11.55,
          61.52401,
          37.2692,
          26.8154,
          30.0572,
          14.058323999999999,
          23.8298,
          35.1917,
          19.1959,
          27.6104,
          30.9756,
          37.5777,
          23.3417,
          22.1667,
          -0.7893,
          44.0935,
          22.3,
          4.5353,
          37.8957,
          27.614,
          -31.9505,
          39.549,
          40.1824,
          31.8257,
          39.3054,
          26.0789,
          36.3427,
          32.9711,
          29.1832,
          23.7,
          31.201999999999998,
          12.879721,
          41.2956,
          -8.874217,
          43.6661,
          47.861999999999995,
          35.907757000000004,
          -12.4634,
          36.204824,
          -34.9285,
          -6.314993,
          -37.8136,
          -42.8821,
          -35.4735,
          -17.6797,
          7.4256,
          -33.8688,
          -27.4698,
          -9.6457,
          -20.904304999999997,
          -15.3767,
          7.1315,
          -40.9006,
          -17.7134
         ],
         "lon": [
          -178.1165,
          -172.1046,
          -135,
          -127.6476,
          -124.8457,
          -116.5765,
          -106.4509,
          -102.5528,
          -100,
          -98.8139,
          -90.2308,
          -88.8965,
          -88.4976,
          -86.2419,
          -85.3232,
          -85.207229,
          -83.7534,
          -83.1076,
          -81.2546,
          -80.7821,
          -78.1834,
          -78.035889,
          -77.78116700000001,
          -77.2975,
          -75.0152,
          -74.2973,
          -73.5491,
          -72.2852,
          -71.7979,
          -71.543,
          -70.1627,
          -69.9683,
          -68.99,
          -68.2385,
          -66.5897,
          -66.4619,
          -64.7505,
          -64.64,
          -63.7443,
          -63.6167,
          -63.5887,
          -63.4168,
          -63.0686,
          -63.0548,
          -63.0501,
          -62.8333,
          -62.782998,
          -62.187366000000004,
          -61.7964,
          -61.678999999999995,
          -61.551,
          -61.371,
          -61.2872,
          -61.2225,
          -61.0242,
          -60.9789,
          -59.5432,
          -59.5236,
          -58.93018000000001,
          -58.4438,
          -57.6604,
          -56.3159,
          -56.0278,
          -55.7658,
          -53.1258,
          -51.9253,
          -42.6043,
          -23.0418,
          -19.0208,
          -15.3101,
          -15.1804,
          -14.4524,
          -14.3559,
          -11.779889,
          -10.9408,
          -9.6966,
          -9.429499,
          -8.2245,
          -7.6921,
          -7.0926,
          -6.9118,
          -5.5471,
          -5.3536,
          -4.5481,
          -3.9961660000000006,
          -3.7492199999999998,
          -3.4360000000000004,
          -2.3644,
          -1.5616,
          -1.0232,
          0,
          0,
          0,
          0.8248,
          1.5218,
          1.6596,
          2.2137,
          2.3158,
          4.469936,
          5.2913,
          6.1296,
          6.6131,
          7.4167,
          8.081666,
          8.2275,
          8.4689,
          8.6753,
          9.5018,
          9.537499,
          9.55,
          10.2679,
          10.451526,
          11.5021,
          11.6094,
          12.4534,
          12.4578,
          12.56738,
          14.3754,
          14.5501,
          14.9955,
          15.2,
          15.472999999999999,
          15.8277,
          17.228331,
          17.6791,
          17.8739,
          18.4904,
          18.643501,
          18.7322,
          19.1451,
          19.37439,
          19.5033,
          19.699,
          20.1683,
          20.902977,
          20.9394,
          21.0059,
          21.7453,
          21.7587,
          21.8243,
          22.9375,
          23.8813,
          24.6032,
          24.6849,
          24.9668,
          25.0136,
          25.4858,
          25.748151,
          27.849332,
          27.9534,
          28.2336,
          28.3699,
          29.154857,
          29.8739,
          29.9189,
          30.2176,
          30.802497999999996,
          31.1656,
          31.307,
          31.4659,
          32.290275,
          33.4299,
          34.3015,
          34.851612,
          34.888822,
          35.2332,
          35.2433,
          35.529562,
          35.8623,
          36.51,
          37.9062,
          38.996815000000005,
          39.7823,
          40.4897,
          42.5903,
          43.3333,
          43.3569,
          43.679291,
          45.0382,
          45.079162,
          45.166244,
          46.199616,
          46.869107,
          47.481766,
          47.5769,
          48.516388,
          50.55,
          51.1839,
          53.68804599999999,
          53.847818000000004,
          55.492,
          55.5364,
          55.923255000000005,
          57.552152,
          64.585262,
          66.9237,
          67.709953,
          69.3451,
          71.2761,
          73.2207,
          74.766098,
          78.96288,
          80.77179699999999,
          84.25,
          85.2401,
          88.0924,
          90.3563,
          90.4336,
          95.956,
          95.9956,
          100.992541,
          101.48700000000001,
          101.97576600000001,
          102.495496,
          102.7103,
          103.8333,
          103.8467,
          104.2861,
          104.9167,
          105.31875600000001,
          106.1655,
          106.8748,
          107.874,
          108.277199,
          108.7881,
          108.8701,
          109.7453,
          111.7088,
          112.2707,
          112.2922,
          113.4244,
          113.55,
          113.9213,
          113.9448,
          114.2,
          114.7277,
          114.9042,
          115.7221,
          115.8605,
          116.1306,
          116.4142,
          117.2264,
          117.323,
          117.9874,
          118.1498,
          119.455,
          120.0934,
          121,
          121.4491,
          121.77401699999999,
          122.6085,
          125.727539,
          126.1923,
          127.7615,
          127.766922,
          130.8456,
          138.252924,
          138.6007,
          143.95555,
          144.9631,
          147.3272,
          149.0124,
          149.4068,
          150.5508,
          151.2093,
          153.0251,
          160.1562,
          165.618042,
          166.9592,
          171.1845,
          174.886,
          178.065
         ],
         "marker": {
          "color": [
           445,
           3,
           82,
           134341,
           105,
           208790,
           43141,
           2365792,
           32707750,
           41953,
           235098,
           70380,
           12686,
           219288,
           499246,
           6989,
           265486,
           565,
           548,
           367656,
           400296,
           10773,
           115981,
           46708,
           1850290,
           3002758,
           358134,
           13164,
           2402,
           1247469,
           271548,
           10770,
           12235,
           1581,
           207870,
           2002,
           2434,
           216,
           3919,
           3147740,
           317547,
           183,
           99,
           2260,
           1773,
           974,
           45,
           20,
           1232,
           160,
           15429,
           175,
           1912,
           13355,
           11490,
           4654,
           3942,
           63,
           14362,
           297789,
           1138,
           25,
           11112,
           220683,
           20366,
           15184790,
           31,
           26441,
           6506,
           5929,
           3741,
           40692,
           4,
           4068,
           18667,
           22633,
           2114,
           839582,
           252809,
           513864,
           668,
           46442,
           4291,
           1590,
           14108,
           3567408,
           4434860,
           4111,
           13379,
           92951,
           13,
           712,
           9,
           13154,
           13423,
           124104,
           5727293,
           7884,
           1016609,
           1560022,
           68153,
           2318,
           2479,
           5319,
           670613,
           116365,
           165419,
           259056,
           320813,
           2970,
           7694,
           3530887,
           74946,
           23432,
           27,
           5067,
           4111210,
           30447,
           631076,
           246082,
           344494,
           1645061,
           11147,
           179970,
           200693,
           28740,
           50070,
           1007792,
           4877,
           2833052,
           98303,
           791709,
           385475,
           131723,
           105784,
           6674,
           700408,
           154026,
           30323,
           362004,
           1596595,
           257827,
           123963,
           48417,
           1066111,
           125126,
           410202,
           88723,
           92092,
           368888,
           10773,
           252749,
           38419,
           25652,
           4177,
           34461,
           237410,
           2175151,
           10637,
           18480,
           42355,
           69432,
           34171,
           838894,
           509,
           301751,
           5031332,
           70212,
           532839,
           719233,
           163554,
           23379,
           3742,
           262702,
           11335,
           3854,
           321919,
           1112725,
           219270,
           426384,
           20134,
           14415,
           39012,
           285068,
           326716,
           6482,
           189356,
           210992,
           2654811,
           536017,
           6373,
           21451,
           201350,
           1246,
           94397,
           398272,
           61842,
           858026,
           13308,
           35815,
           98400,
           22662575,
           125906,
           394667,
           980,
           1,
           773513,
           1221,
           142947,
           18,
           83375,
           348,
           440677,
           1302,
           993,
           61359,
           45459,
           193,
           19237,
           4824621,
           76,
           147,
           597,
           3412,
           275,
           594,
           188,
           1045,
           68158,
           251,
           2372,
           49,
           1713684,
           382,
           11807,
           230,
           1312,
           937,
           1013,
           1317,
           1057,
           994,
           387,
           595,
           879,
           720,
           1346,
           1184,
           2016,
           1101990,
           408,
           3227,
           573,
           1610,
           127772,
           167,
           642146,
           740,
           11630,
           20535,
           234,
           124,
           18790,
           1,
           5538,
           1580,
           20,
           124,
           4,
           4,
           2644,
           139
          ],
          "colorscale": [
           [
            0,
            "#ff0000"
           ],
           [
            0.1111111111111111,
            "#ffa700"
           ],
           [
            0.2222222222222222,
            "#afff00"
           ],
           [
            0.3333333333333333,
            "#08ff00"
           ],
           [
            0.4444444444444444,
            "#00ff9f"
           ],
           [
            0.5555555555555556,
            "#00b7ff"
           ],
           [
            0.6666666666666666,
            "#0010ff"
           ],
           [
            0.7777777777777778,
            "#9700ff"
           ],
           [
            0.8888888888888888,
            "#ff00bf"
           ],
           [
            1,
            "#ff0000"
           ]
          ],
          "opacity": 0.3,
          "size": [
           0.2966666666666667,
           0.002,
           0.05466666666666667,
           89.56066666666666,
           0.07,
           139.19333333333333,
           28.760666666666665,
           1577.1946666666668,
           21805.166666666668,
           27.968666666666667,
           156.732,
           46.92,
           8.457333333333333,
           146.192,
           332.8306666666667,
           4.6593333333333335,
           176.99066666666667,
           0.37666666666666665,
           0.36533333333333334,
           245.104,
           266.864,
           7.182,
           77.32066666666667,
           31.138666666666666,
           1233.5266666666666,
           2001.8386666666668,
           238.756,
           8.776,
           1.6013333333333333,
           831.646,
           181.032,
           7.18,
           8.156666666666666,
           1.054,
           138.58,
           1.3346666666666667,
           1.6226666666666667,
           0.144,
           2.6126666666666667,
           2098.4933333333333,
           211.698,
           0.122,
           0.066,
           1.5066666666666666,
           1.182,
           0.6493333333333333,
           0.03,
           0.013333333333333334,
           0.8213333333333334,
           0.10666666666666667,
           10.286,
           0.11666666666666667,
           1.2746666666666666,
           8.903333333333334,
           7.66,
           3.1026666666666665,
           2.628,
           0.042,
           9.574666666666667,
           198.526,
           0.7586666666666667,
           0.016666666666666666,
           7.408,
           147.122,
           13.577333333333334,
           10123.193333333333,
           0.020666666666666667,
           17.627333333333333,
           4.3373333333333335,
           3.9526666666666666,
           2.494,
           27.128,
           0.0026666666666666666,
           2.712,
           12.444666666666667,
           15.088666666666667,
           1.4093333333333333,
           559.7213333333333,
           168.53933333333333,
           342.576,
           0.44533333333333336,
           30.961333333333332,
           2.8606666666666665,
           1.06,
           9.405333333333333,
           2378.272,
           2956.5733333333333,
           2.740666666666667,
           8.919333333333332,
           61.967333333333336,
           0.008666666666666666,
           0.4746666666666667,
           0.006,
           8.769333333333334,
           8.948666666666666,
           82.736,
           3818.195333333333,
           5.256,
           677.7393333333333,
           1040.0146666666667,
           45.43533333333333,
           1.5453333333333332,
           1.6526666666666667,
           3.546,
           447.07533333333333,
           77.57666666666667,
           110.27933333333333,
           172.704,
           213.87533333333334,
           1.98,
           5.129333333333333,
           2353.924666666667,
           49.964,
           15.621333333333334,
           0.018,
           3.378,
           2740.806666666667,
           20.298,
           420.71733333333333,
           164.05466666666666,
           229.66266666666667,
           1096.7073333333333,
           7.431333333333333,
           119.98,
           133.79533333333333,
           19.16,
           33.38,
           671.8613333333333,
           3.251333333333333,
           1888.7013333333334,
           65.53533333333333,
           527.806,
           256.98333333333335,
           87.81533333333333,
           70.52266666666667,
           4.449333333333334,
           466.9386666666667,
           102.684,
           20.215333333333334,
           241.336,
           1064.3966666666668,
           171.88466666666667,
           82.642,
           32.278,
           710.7406666666667,
           83.41733333333333,
           273.468,
           59.148666666666664,
           61.394666666666666,
           245.92533333333333,
           7.182,
           168.49933333333334,
           25.612666666666666,
           17.101333333333333,
           2.784666666666667,
           22.974,
           158.27333333333334,
           1450.1006666666667,
           7.091333333333333,
           12.32,
           28.236666666666668,
           46.288,
           22.780666666666665,
           559.2626666666666,
           0.3393333333333333,
           201.16733333333335,
           3354.2213333333334,
           46.808,
           355.226,
           479.4886666666667,
           109.036,
           15.586,
           2.494666666666667,
           175.13466666666667,
           7.556666666666667,
           2.5693333333333332,
           214.61266666666666,
           741.8166666666667,
           146.18,
           284.256,
           13.422666666666666,
           9.61,
           26.008,
           190.04533333333333,
           217.81066666666666,
           4.3213333333333335,
           126.23733333333334,
           140.66133333333335,
           1769.874,
           357.3446666666667,
           4.248666666666667,
           14.300666666666666,
           134.23333333333332,
           0.8306666666666667,
           62.931333333333335,
           265.51466666666664,
           41.228,
           572.0173333333333,
           8.872,
           23.876666666666665,
           65.6,
           15108.383333333333,
           83.93733333333333,
           263.11133333333333,
           0.6533333333333333,
           0.0006666666666666666,
           515.6753333333334,
           0.814,
           95.298,
           0.012,
           55.583333333333336,
           0.232,
           293.7846666666667,
           0.868,
           0.662,
           40.906,
           30.306,
           0.12866666666666668,
           12.824666666666667,
           3216.414,
           0.050666666666666665,
           0.098,
           0.398,
           2.2746666666666666,
           0.18333333333333332,
           0.396,
           0.12533333333333332,
           0.6966666666666667,
           45.43866666666667,
           0.16733333333333333,
           1.5813333333333333,
           0.03266666666666666,
           1142.456,
           0.25466666666666665,
           7.871333333333333,
           0.15333333333333332,
           0.8746666666666667,
           0.6246666666666667,
           0.6753333333333333,
           0.878,
           0.7046666666666667,
           0.6626666666666666,
           0.258,
           0.39666666666666667,
           0.586,
           0.48,
           0.8973333333333333,
           0.7893333333333333,
           1.344,
           734.66,
           0.272,
           2.1513333333333335,
           0.382,
           1.0733333333333333,
           85.18133333333333,
           0.11133333333333334,
           428.0973333333333,
           0.49333333333333335,
           7.753333333333333,
           13.69,
           0.156,
           0.08266666666666667,
           12.526666666666667,
           0.0006666666666666666,
           3.692,
           1.0533333333333332,
           0.013333333333333334,
           0.08266666666666667,
           0.0026666666666666666,
           0.0026666666666666666,
           1.7626666666666666,
           0.09266666666666666
          ],
          "sizemode": "area"
         },
         "mode": "markers",
         "type": "scattermapbox"
        }
       ],
       "layout": {
        "autosize": true,
        "mapbox": {
         "center": {
          "lat": -0.02,
          "lon": 37
         },
         "style": "stamen-terrain",
         "zoom": 1.3
        },
        "margin": {
         "b": 0,
         "l": 0,
         "r": 0
        },
        "showlegend": false,
        "template": {
         "data": {
          "bar": [
           {
            "error_x": {
             "color": "#2a3f5f"
            },
            "error_y": {
             "color": "#2a3f5f"
            },
            "marker": {
             "line": {
              "color": "#E5ECF6",
              "width": 0.5
             }
            },
            "type": "bar"
           }
          ],
          "barpolar": [
           {
            "marker": {
             "line": {
              "color": "#E5ECF6",
              "width": 0.5
             }
            },
            "type": "barpolar"
           }
          ],
          "carpet": [
           {
            "aaxis": {
             "endlinecolor": "#2a3f5f",
             "gridcolor": "white",
             "linecolor": "white",
             "minorgridcolor": "white",
             "startlinecolor": "#2a3f5f"
            },
            "baxis": {
             "endlinecolor": "#2a3f5f",
             "gridcolor": "white",
             "linecolor": "white",
             "minorgridcolor": "white",
             "startlinecolor": "#2a3f5f"
            },
            "type": "carpet"
           }
          ],
          "choropleth": [
           {
            "colorbar": {
             "outlinewidth": 0,
             "ticks": ""
            },
            "type": "choropleth"
           }
          ],
          "contour": [
           {
            "colorbar": {
             "outlinewidth": 0,
             "ticks": ""
            },
            "colorscale": [
             [
              0,
              "#0d0887"
             ],
             [
              0.1111111111111111,
              "#46039f"
             ],
             [
              0.2222222222222222,
              "#7201a8"
             ],
             [
              0.3333333333333333,
              "#9c179e"
             ],
             [
              0.4444444444444444,
              "#bd3786"
             ],
             [
              0.5555555555555556,
              "#d8576b"
             ],
             [
              0.6666666666666666,
              "#ed7953"
             ],
             [
              0.7777777777777778,
              "#fb9f3a"
             ],
             [
              0.8888888888888888,
              "#fdca26"
             ],
             [
              1,
              "#f0f921"
             ]
            ],
            "type": "contour"
           }
          ],
          "contourcarpet": [
           {
            "colorbar": {
             "outlinewidth": 0,
             "ticks": ""
            },
            "type": "contourcarpet"
           }
          ],
          "heatmap": [
           {
            "colorbar": {
             "outlinewidth": 0,
             "ticks": ""
            },
            "colorscale": [
             [
              0,
              "#0d0887"
             ],
             [
              0.1111111111111111,
              "#46039f"
             ],
             [
              0.2222222222222222,
              "#7201a8"
             ],
             [
              0.3333333333333333,
              "#9c179e"
             ],
             [
              0.4444444444444444,
              "#bd3786"
             ],
             [
              0.5555555555555556,
              "#d8576b"
             ],
             [
              0.6666666666666666,
              "#ed7953"
             ],
             [
              0.7777777777777778,
              "#fb9f3a"
             ],
             [
              0.8888888888888888,
              "#fdca26"
             ],
             [
              1,
              "#f0f921"
             ]
            ],
            "type": "heatmap"
           }
          ],
          "heatmapgl": [
           {
            "colorbar": {
             "outlinewidth": 0,
             "ticks": ""
            },
            "colorscale": [
             [
              0,
              "#0d0887"
             ],
             [
              0.1111111111111111,
              "#46039f"
             ],
             [
              0.2222222222222222,
              "#7201a8"
             ],
             [
              0.3333333333333333,
              "#9c179e"
             ],
             [
              0.4444444444444444,
              "#bd3786"
             ],
             [
              0.5555555555555556,
              "#d8576b"
             ],
             [
              0.6666666666666666,
              "#ed7953"
             ],
             [
              0.7777777777777778,
              "#fb9f3a"
             ],
             [
              0.8888888888888888,
              "#fdca26"
             ],
             [
              1,
              "#f0f921"
             ]
            ],
            "type": "heatmapgl"
           }
          ],
          "histogram": [
           {
            "marker": {
             "colorbar": {
              "outlinewidth": 0,
              "ticks": ""
             }
            },
            "type": "histogram"
           }
          ],
          "histogram2d": [
           {
            "colorbar": {
             "outlinewidth": 0,
             "ticks": ""
            },
            "colorscale": [
             [
              0,
              "#0d0887"
             ],
             [
              0.1111111111111111,
              "#46039f"
             ],
             [
              0.2222222222222222,
              "#7201a8"
             ],
             [
              0.3333333333333333,
              "#9c179e"
             ],
             [
              0.4444444444444444,
              "#bd3786"
             ],
             [
              0.5555555555555556,
              "#d8576b"
             ],
             [
              0.6666666666666666,
              "#ed7953"
             ],
             [
              0.7777777777777778,
              "#fb9f3a"
             ],
             [
              0.8888888888888888,
              "#fdca26"
             ],
             [
              1,
              "#f0f921"
             ]
            ],
            "type": "histogram2d"
           }
          ],
          "histogram2dcontour": [
           {
            "colorbar": {
             "outlinewidth": 0,
             "ticks": ""
            },
            "colorscale": [
             [
              0,
              "#0d0887"
             ],
             [
              0.1111111111111111,
              "#46039f"
             ],
             [
              0.2222222222222222,
              "#7201a8"
             ],
             [
              0.3333333333333333,
              "#9c179e"
             ],
             [
              0.4444444444444444,
              "#bd3786"
             ],
             [
              0.5555555555555556,
              "#d8576b"
             ],
             [
              0.6666666666666666,
              "#ed7953"
             ],
             [
              0.7777777777777778,
              "#fb9f3a"
             ],
             [
              0.8888888888888888,
              "#fdca26"
             ],
             [
              1,
              "#f0f921"
             ]
            ],
            "type": "histogram2dcontour"
           }
          ],
          "mesh3d": [
           {
            "colorbar": {
             "outlinewidth": 0,
             "ticks": ""
            },
            "type": "mesh3d"
           }
          ],
          "parcoords": [
           {
            "line": {
             "colorbar": {
              "outlinewidth": 0,
              "ticks": ""
             }
            },
            "type": "parcoords"
           }
          ],
          "pie": [
           {
            "automargin": true,
            "type": "pie"
           }
          ],
          "scatter": [
           {
            "marker": {
             "colorbar": {
              "outlinewidth": 0,
              "ticks": ""
             }
            },
            "type": "scatter"
           }
          ],
          "scatter3d": [
           {
            "line": {
             "colorbar": {
              "outlinewidth": 0,
              "ticks": ""
             }
            },
            "marker": {
             "colorbar": {
              "outlinewidth": 0,
              "ticks": ""
             }
            },
            "type": "scatter3d"
           }
          ],
          "scattercarpet": [
           {
            "marker": {
             "colorbar": {
              "outlinewidth": 0,
              "ticks": ""
             }
            },
            "type": "scattercarpet"
           }
          ],
          "scattergeo": [
           {
            "marker": {
             "colorbar": {
              "outlinewidth": 0,
              "ticks": ""
             }
            },
            "type": "scattergeo"
           }
          ],
          "scattergl": [
           {
            "marker": {
             "colorbar": {
              "outlinewidth": 0,
              "ticks": ""
             }
            },
            "type": "scattergl"
           }
          ],
          "scattermapbox": [
           {
            "marker": {
             "colorbar": {
              "outlinewidth": 0,
              "ticks": ""
             }
            },
            "type": "scattermapbox"
           }
          ],
          "scatterpolar": [
           {
            "marker": {
             "colorbar": {
              "outlinewidth": 0,
              "ticks": ""
             }
            },
            "type": "scatterpolar"
           }
          ],
          "scatterpolargl": [
           {
            "marker": {
             "colorbar": {
              "outlinewidth": 0,
              "ticks": ""
             }
            },
            "type": "scatterpolargl"
           }
          ],
          "scatterternary": [
           {
            "marker": {
             "colorbar": {
              "outlinewidth": 0,
              "ticks": ""
             }
            },
            "type": "scatterternary"
           }
          ],
          "surface": [
           {
            "colorbar": {
             "outlinewidth": 0,
             "ticks": ""
            },
            "colorscale": [
             [
              0,
              "#0d0887"
             ],
             [
              0.1111111111111111,
              "#46039f"
             ],
             [
              0.2222222222222222,
              "#7201a8"
             ],
             [
              0.3333333333333333,
              "#9c179e"
             ],
             [
              0.4444444444444444,
              "#bd3786"
             ],
             [
              0.5555555555555556,
              "#d8576b"
             ],
             [
              0.6666666666666666,
              "#ed7953"
             ],
             [
              0.7777777777777778,
              "#fb9f3a"
             ],
             [
              0.8888888888888888,
              "#fdca26"
             ],
             [
              1,
              "#f0f921"
             ]
            ],
            "type": "surface"
           }
          ],
          "table": [
           {
            "cells": {
             "fill": {
              "color": "#EBF0F8"
             },
             "line": {
              "color": "white"
             }
            },
            "header": {
             "fill": {
              "color": "#C8D4E3"
             },
             "line": {
              "color": "white"
             }
            },
            "type": "table"
           }
          ]
         },
         "layout": {
          "annotationdefaults": {
           "arrowcolor": "#2a3f5f",
           "arrowhead": 0,
           "arrowwidth": 1
          },
          "autotypenumbers": "strict",
          "coloraxis": {
           "colorbar": {
            "outlinewidth": 0,
            "ticks": ""
           }
          },
          "colorscale": {
           "diverging": [
            [
             0,
             "#8e0152"
            ],
            [
             0.1,
             "#c51b7d"
            ],
            [
             0.2,
             "#de77ae"
            ],
            [
             0.3,
             "#f1b6da"
            ],
            [
             0.4,
             "#fde0ef"
            ],
            [
             0.5,
             "#f7f7f7"
            ],
            [
             0.6,
             "#e6f5d0"
            ],
            [
             0.7,
             "#b8e186"
            ],
            [
             0.8,
             "#7fbc41"
            ],
            [
             0.9,
             "#4d9221"
            ],
            [
             1,
             "#276419"
            ]
           ],
           "sequential": [
            [
             0,
             "#0d0887"
            ],
            [
             0.1111111111111111,
             "#46039f"
            ],
            [
             0.2222222222222222,
             "#7201a8"
            ],
            [
             0.3333333333333333,
             "#9c179e"
            ],
            [
             0.4444444444444444,
             "#bd3786"
            ],
            [
             0.5555555555555556,
             "#d8576b"
            ],
            [
             0.6666666666666666,
             "#ed7953"
            ],
            [
             0.7777777777777778,
             "#fb9f3a"
            ],
            [
             0.8888888888888888,
             "#fdca26"
            ],
            [
             1,
             "#f0f921"
            ]
           ],
           "sequentialminus": [
            [
             0,
             "#0d0887"
            ],
            [
             0.1111111111111111,
             "#46039f"
            ],
            [
             0.2222222222222222,
             "#7201a8"
            ],
            [
             0.3333333333333333,
             "#9c179e"
            ],
            [
             0.4444444444444444,
             "#bd3786"
            ],
            [
             0.5555555555555556,
             "#d8576b"
            ],
            [
             0.6666666666666666,
             "#ed7953"
            ],
            [
             0.7777777777777778,
             "#fb9f3a"
            ],
            [
             0.8888888888888888,
             "#fdca26"
            ],
            [
             1,
             "#f0f921"
            ]
           ]
          },
          "colorway": [
           "#636efa",
           "#EF553B",
           "#00cc96",
           "#ab63fa",
           "#FFA15A",
           "#19d3f3",
           "#FF6692",
           "#B6E880",
           "#FF97FF",
           "#FECB52"
          ],
          "font": {
           "color": "#2a3f5f"
          },
          "geo": {
           "bgcolor": "white",
           "lakecolor": "white",
           "landcolor": "#E5ECF6",
           "showlakes": true,
           "showland": true,
           "subunitcolor": "white"
          },
          "hoverlabel": {
           "align": "left"
          },
          "hovermode": "closest",
          "mapbox": {
           "style": "light"
          },
          "paper_bgcolor": "white",
          "plot_bgcolor": "#E5ECF6",
          "polar": {
           "angularaxis": {
            "gridcolor": "white",
            "linecolor": "white",
            "ticks": ""
           },
           "bgcolor": "#E5ECF6",
           "radialaxis": {
            "gridcolor": "white",
            "linecolor": "white",
            "ticks": ""
           }
          },
          "scene": {
           "xaxis": {
            "backgroundcolor": "#E5ECF6",
            "gridcolor": "white",
            "gridwidth": 2,
            "linecolor": "white",
            "showbackground": true,
            "ticks": "",
            "zerolinecolor": "white"
           },
           "yaxis": {
            "backgroundcolor": "#E5ECF6",
            "gridcolor": "white",
            "gridwidth": 2,
            "linecolor": "white",
            "showbackground": true,
            "ticks": "",
            "zerolinecolor": "white"
           },
           "zaxis": {
            "backgroundcolor": "#E5ECF6",
            "gridcolor": "white",
            "gridwidth": 2,
            "linecolor": "white",
            "showbackground": true,
            "ticks": "",
            "zerolinecolor": "white"
           }
          },
          "shapedefaults": {
           "line": {
            "color": "#2a3f5f"
           }
          },
          "ternary": {
           "aaxis": {
            "gridcolor": "white",
            "linecolor": "white",
            "ticks": ""
           },
           "baxis": {
            "gridcolor": "white",
            "linecolor": "white",
            "ticks": ""
           },
           "bgcolor": "#E5ECF6",
           "caxis": {
            "gridcolor": "white",
            "linecolor": "white",
            "ticks": ""
           }
          },
          "title": {
           "x": 0.05
          },
          "xaxis": {
           "automargin": true,
           "gridcolor": "white",
           "linecolor": "white",
           "ticks": "",
           "title": {
            "standoff": 15
           },
           "zerolinecolor": "white",
           "zerolinewidth": 2
          },
          "yaxis": {
           "automargin": true,
           "gridcolor": "white",
           "linecolor": "white",
           "ticks": "",
           "title": {
            "standoff": 15
           },
           "zerolinecolor": "white",
           "zerolinewidth": 2
          }
         }
        }
       }
      },
      "image/png": "[encoded data removed]",
      "text/html": [
       "<div>                            <div id=\"4f2342bd-bf87-40c6-bb88-916611f7476e\" class=\"plotly-graph-div\" style=\"height:525px; width:100%;\"></div>            <script type=\"text/javascript\">                require([\"plotly\"], function(Plotly) {                    window.PLOTLYENV=window.PLOTLYENV || {};                                    if (document.getElementById(\"4f2342bd-bf87-40c6-bb88-916611f7476e\")) {                    Plotly.newPlot(                        \"4f2342bd-bf87-40c6-bb88-916611f7476e\",                        [{\"hoverinfo\": \"text\", \"hovertext\": [\"<b>Country : </b>  France<br><b>Longitude :</b> -178.1165<br><b>Latitude :</b> -14.2938<br><b>Confirmed : </b> 445 <br><b>Recoverd : </b> 44 <br><b>Deaths : </b> 7 <br><b>Active : </b> 394 <br>\", \"<b>Country : </b>  Samoa<br><b>Longitude :</b> -172.1046<br><b>Latitude :</b> -13.759<br><b>Confirmed : </b> 3 <br><b>Recoverd : </b> 2 <br><b>Deaths : </b> 0 <br><b>Active : </b> 2 <br>\", \"<b>Country : </b>  Canada<br><b>Longitude :</b> -135.0<br><b>Latitude :</b> 64.2823<br><b>Confirmed : </b> 82 <br><b>Recoverd : </b> 0 <br><b>Deaths : </b> 2 <br><b>Active : </b> 80 <br>\", \"<b>Country : </b>  Canada<br><b>Longitude :</b> -127.6476<br><b>Latitude :</b> 53.7267<br><b>Confirmed : </b> 134,341 <br><b>Recoverd : </b> 0 <br><b>Deaths : </b> 1,602 <br><b>Active : </b> 132,739 <br>\", \"<b>Country : </b>  Canada<br><b>Longitude :</b> -124.8457<br><b>Latitude :</b> 64.8255<br><b>Confirmed : </b> 105 <br><b>Recoverd : </b> 0 <br><b>Deaths : </b> 0 <br><b>Active : </b> 105 <br>\", \"<b>Country : </b>  Canada<br><b>Longitude :</b> -116.5765<br><b>Latitude :</b> 53.9333<br><b>Confirmed : </b> 208,790 <br><b>Recoverd : </b> 0 <br><b>Deaths : </b> 2,110 <br><b>Active : </b> 206,680 <br>\", \"<b>Country : </b>  Canada<br><b>Longitude :</b> -106.4509<br><b>Latitude :</b> 52.9399<br><b>Confirmed : </b> 43,141 <br><b>Recoverd : </b> 0 <br><b>Deaths : </b> 502 <br><b>Active : </b> 42,639 <br>\", \"<b>Country : </b>  Mexico<br><b>Longitude :</b> -102.5528<br><b>Latitude :</b> 23.6345<br><b>Confirmed : </b> 2,365,792 <br><b>Recoverd : </b> 1,886,233 <br><b>Deaths : </b> 218,985 <br><b>Active : </b> 300,329 <br>\", \"<b>Country : </b>  US<br><b>Longitude :</b> -100.0<br><b>Latitude :</b> 40.0<br><b>Confirmed : </b> 32,707,750 <br><b>Recoverd : </b> 6,298,082 <br><b>Deaths : </b> 581,754 <br><b>Active : </b> 32,125,996 <br>\", \"<b>Country : </b>  Canada<br><b>Longitude :</b> -98.8139<br><b>Latitude :</b> 53.7609<br><b>Confirmed : </b> 41,953 <br><b>Recoverd : </b> 0 <br><b>Deaths : </b> 993 <br><b>Active : </b> 40,960 <br>\", \"<b>Country : </b>  Guatemala<br><b>Longitude :</b> -90.2308<br><b>Latitude :</b> 15.7835<br><b>Confirmed : </b> 235,098 <br><b>Recoverd : </b> 213,641 <br><b>Deaths : </b> 7,733 <br><b>Active : </b> 27,377 <br>\", \"<b>Country : </b>  El Salvador<br><b>Longitude :</b> -88.8965<br><b>Latitude :</b> 13.7942<br><b>Confirmed : </b> 70,380 <br><b>Recoverd : </b> 65,921 <br><b>Deaths : </b> 2,154 <br><b>Active : </b> 11,773 <br>\", \"<b>Country : </b>  Belize<br><b>Longitude :</b> -88.4976<br><b>Latitude :</b> 17.1899<br><b>Confirmed : </b> 12,686 <br><b>Recoverd : </b> 12,288 <br><b>Deaths : </b> 323 <br><b>Active : </b> 4,832 <br>\", \"<b>Country : </b>  Honduras<br><b>Longitude :</b> -86.2419<br><b>Latitude :</b> 15.2<br><b>Confirmed : </b> 219,288 <br><b>Recoverd : </b> 81,382 <br><b>Deaths : </b> 5,617 <br><b>Active : </b> 132,289 <br>\", \"<b>Country : </b>  Canada<br><b>Longitude :</b> -85.3232<br><b>Latitude :</b> 51.2538<br><b>Confirmed : </b> 499,246 <br><b>Recoverd : </b> 0 <br><b>Deaths : </b> 8,258 <br><b>Active : </b> 490,988 <br>\", \"<b>Country : </b>  Nicaragua<br><b>Longitude :</b> -85.207229<br><b>Latitude :</b> 12.865416<br><b>Confirmed : </b> 6,989 <br><b>Recoverd : </b> 4,225 <br><b>Deaths : </b> 183 <br><b>Active : </b> 2,581 <br>\", \"<b>Country : </b>  Costa Rica<br><b>Longitude :</b> -83.7534<br><b>Latitude :</b> 9.7489<br><b>Confirmed : </b> 265,486 <br><b>Recoverd : </b> 212,525 <br><b>Deaths : </b> 3,365 <br><b>Active : </b> 51,375 <br>\", \"<b>Country : </b>  Canada<br><b>Longitude :</b> -83.1076<br><b>Latitude :</b> 70.2998<br><b>Confirmed : </b> 565 <br><b>Recoverd : </b> 0 <br><b>Deaths : </b> 4 <br><b>Active : </b> 561 <br>\", \"<b>Country : </b>  United Kingdom<br><b>Longitude :</b> -81.2546<br><b>Latitude :</b> 19.3133<br><b>Confirmed : </b> 548 <br><b>Recoverd : </b> 537 <br><b>Deaths : </b> 2 <br><b>Active : </b> 77 <br>\", \"<b>Country : </b>  Panama<br><b>Longitude :</b> -80.7821<br><b>Latitude :</b> 8.538<br><b>Confirmed : </b> 367,656 <br><b>Recoverd : </b> 357,101 <br><b>Deaths : </b> 6,271 <br><b>Active : </b> 56,897 <br>\", \"<b>Country : </b>  Ecuador<br><b>Longitude :</b> -78.1834<br><b>Latitude :</b> -1.8312<br><b>Confirmed : </b> 400,296 <br><b>Recoverd : </b> 342,878 <br><b>Deaths : </b> 19,222 <br><b>Active : </b> 50,202 <br>\", \"<b>Country : </b>  Bahamas<br><b>Longitude :</b> -78.035889<br><b>Latitude :</b> 25.025885<br><b>Confirmed : </b> 10,773 <br><b>Recoverd : </b> 9,781 <br><b>Deaths : </b> 212 <br><b>Active : </b> 2,343 <br>\", \"<b>Country : </b>  Cuba<br><b>Longitude :</b> -77.78116700000001<br><b>Latitude :</b> 21.521757<br><b>Confirmed : </b> 115,981 <br><b>Recoverd : </b> 109,363 <br><b>Deaths : </b> 732 <br><b>Active : </b> 5,886 <br>\", \"<b>Country : </b>  Jamaica<br><b>Longitude :</b> -77.2975<br><b>Latitude :</b> 18.1096<br><b>Confirmed : </b> 46,708 <br><b>Recoverd : </b> 22,268 <br><b>Deaths : </b> 806 <br><b>Active : </b> 23,845 <br>\", \"<b>Country : </b>  Peru<br><b>Longitude :</b> -75.0152<br><b>Latitude :</b> -9.19<br><b>Confirmed : </b> 1,850,290 <br><b>Recoverd : </b> 1,798,844 <br><b>Deaths : </b> 64,103 <br><b>Active : </b> 168,092 <br>\", \"<b>Country : </b>  Colombia<br><b>Longitude :</b> -74.2973<br><b>Latitude :</b> 4.5709<br><b>Confirmed : </b> 3,002,758 <br><b>Recoverd : </b> 2,819,874 <br><b>Deaths : </b> 77,854 <br><b>Active : </b> 169,326 <br>\", \"<b>Country : </b>  Canada<br><b>Longitude :</b> -73.5491<br><b>Latitude :</b> 52.9399<br><b>Confirmed : </b> 358,134 <br><b>Recoverd : </b> 0 <br><b>Deaths : </b> 10,987 <br><b>Active : </b> 347,147 <br>\", \"<b>Country : </b>  Haiti<br><b>Longitude :</b> -72.2852<br><b>Latitude :</b> 18.9712<br><b>Confirmed : </b> 13,164 <br><b>Recoverd : </b> 12,154 <br><b>Deaths : </b> 263 <br><b>Active : </b> 4,965 <br>\", \"<b>Country : </b>  United Kingdom<br><b>Longitude :</b> -71.7979<br><b>Latitude :</b> 21.694000000000003<br><b>Confirmed : </b> 2,402 <br><b>Recoverd : </b> 2,358 <br><b>Deaths : </b> 17 <br><b>Active : </b> 395 <br>\", \"<b>Country : </b>  Chile<br><b>Longitude :</b> -71.543<br><b>Latitude :</b> -35.6751<br><b>Confirmed : </b> 1,247,469 <br><b>Recoverd : </b> 1,183,155 <br><b>Deaths : </b> 27,218 <br><b>Active : </b> 82,961 <br>\", \"<b>Country : </b>  Dominican Republic<br><b>Longitude :</b> -70.1627<br><b>Latitude :</b> 18.7357<br><b>Confirmed : </b> 271,548 <br><b>Recoverd : </b> 231,645 <br><b>Deaths : </b> 3,532 <br><b>Active : </b> 54,304 <br>\", \"<b>Country : </b>  Netherlands<br><b>Longitude :</b> -69.9683<br><b>Latitude :</b> 12.5211<br><b>Confirmed : </b> 10,770 <br><b>Recoverd : </b> 10,573 <br><b>Deaths : </b> 101 <br><b>Active : </b> 1,630 <br>\", \"<b>Country : </b>  Netherlands<br><b>Longitude :</b> -68.99<br><b>Latitude :</b> 12.1696<br><b>Confirmed : </b> 12,235 <br><b>Recoverd : </b> 11,957 <br><b>Deaths : </b> 114 <br><b>Active : </b> 4,768 <br>\", \"<b>Country : </b>  Netherlands<br><b>Longitude :</b> -68.2385<br><b>Latitude :</b> 12.1784<br><b>Confirmed : </b> 1,581 <br><b>Recoverd : </b> 1,544 <br><b>Deaths : </b> 17 <br><b>Active : </b> 88 <br>\", \"<b>Country : </b>  Venezuela<br><b>Longitude :</b> -66.5897<br><b>Latitude :</b> 6.4238<br><b>Confirmed : </b> 207,870 <br><b>Recoverd : </b> 190,768 <br><b>Deaths : </b> 2,291 <br><b>Active : </b> 17,594 <br>\", \"<b>Country : </b>  Canada<br><b>Longitude :</b> -66.4619<br><b>Latitude :</b> 46.5653<br><b>Confirmed : </b> 2,002 <br><b>Recoverd : </b> 0 <br><b>Deaths : </b> 41 <br><b>Active : </b> 1,961 <br>\", \"<b>Country : </b>  United Kingdom<br><b>Longitude :</b> -64.7505<br><b>Latitude :</b> 32.3078<br><b>Confirmed : </b> 2,434 <br><b>Recoverd : </b> 2,095 <br><b>Deaths : </b> 30 <br><b>Active : </b> 904 <br>\", \"<b>Country : </b>  United Kingdom<br><b>Longitude :</b> -64.64<br><b>Latitude :</b> 18.4207<br><b>Confirmed : </b> 216 <br><b>Recoverd : </b> 191 <br><b>Deaths : </b> 1 <br><b>Active : </b> 52 <br>\", \"<b>Country : </b>  Canada<br><b>Longitude :</b> -63.7443<br><b>Latitude :</b> 44.681999999999995<br><b>Confirmed : </b> 3,919 <br><b>Recoverd : </b> 0 <br><b>Deaths : </b> 71 <br><b>Active : </b> 3,848 <br>\", \"<b>Country : </b>  Argentina<br><b>Longitude :</b> -63.6167<br><b>Latitude :</b> -38.4161<br><b>Confirmed : </b> 3,147,740 <br><b>Recoverd : </b> 2,817,165 <br><b>Deaths : </b> 67,325 <br><b>Active : </b> 288,962 <br>\", \"<b>Country : </b>  Bolivia<br><b>Longitude :</b> -63.5887<br><b>Latitude :</b> -16.2902<br><b>Confirmed : </b> 317,547 <br><b>Recoverd : </b> 260,438 <br><b>Deaths : </b> 13,205 <br><b>Active : </b> 60,928 <br>\", \"<b>Country : </b>  Canada<br><b>Longitude :</b> -63.4168<br><b>Latitude :</b> 46.5107<br><b>Confirmed : </b> 183 <br><b>Recoverd : </b> 0 <br><b>Deaths : </b> 1 <br><b>Active : </b> 183 <br>\", \"<b>Country : </b>  United Kingdom<br><b>Longitude :</b> -63.0686<br><b>Latitude :</b> 18.2206<br><b>Confirmed : </b> 99 <br><b>Recoverd : </b> 49 <br><b>Deaths : </b> 0 <br><b>Active : </b> 66 <br>\", \"<b>Country : </b>  Netherlands<br><b>Longitude :</b> -63.0548<br><b>Latitude :</b> 18.0425<br><b>Confirmed : </b> 2,260 <br><b>Recoverd : </b> 2,203 <br><b>Deaths : </b> 27 <br><b>Active : </b> 264 <br>\", \"<b>Country : </b>  France<br><b>Longitude :</b> -63.0501<br><b>Latitude :</b> 18.0708<br><b>Confirmed : </b> 1,773 <br><b>Recoverd : </b> 1,399 <br><b>Deaths : </b> 12 <br><b>Active : </b> 435 <br>\", \"<b>Country : </b>  France<br><b>Longitude :</b> -62.8333<br><b>Latitude :</b> 17.9<br><b>Confirmed : </b> 974 <br><b>Recoverd : </b> 462 <br><b>Deaths : </b> 1 <br><b>Active : </b> 511 <br>\", \"<b>Country : </b>  Saint Kitts and Nevis<br><b>Longitude :</b> -62.782998<br><b>Latitude :</b> 17.357822<br><b>Confirmed : </b> 45 <br><b>Recoverd : </b> 44 <br><b>Deaths : </b> 0 <br><b>Active : </b> 15 <br>\", \"<b>Country : </b>  United Kingdom<br><b>Longitude :</b> -62.187366000000004<br><b>Latitude :</b> 16.742498<br><b>Confirmed : </b> 20 <br><b>Recoverd : </b> 19 <br><b>Deaths : </b> 1 <br><b>Active : </b> 10 <br>\", \"<b>Country : </b>  Antigua and Barbuda<br><b>Longitude :</b> -61.7964<br><b>Latitude :</b> 17.0608<br><b>Confirmed : </b> 1,232 <br><b>Recoverd : </b> 1,168 <br><b>Deaths : </b> 32 <br><b>Active : </b> 448 <br>\", \"<b>Country : </b>  Grenada<br><b>Longitude :</b> -61.678999999999995<br><b>Latitude :</b> 12.1165<br><b>Confirmed : </b> 160 <br><b>Recoverd : </b> 158 <br><b>Deaths : </b> 1 <br><b>Active : </b> 56 <br>\", \"<b>Country : </b>  France<br><b>Longitude :</b> -61.551<br><b>Latitude :</b> 16.265<br><b>Confirmed : </b> 15,429 <br><b>Recoverd : </b> 2,242 <br><b>Deaths : </b> 236 <br><b>Active : </b> 12,951 <br>\", \"<b>Country : </b>  Dominica<br><b>Longitude :</b> -61.371<br><b>Latitude :</b> 15.415<br><b>Confirmed : </b> 175 <br><b>Recoverd : </b> 175 <br><b>Deaths : </b> 0 <br><b>Active : </b> 28 <br>\", \"<b>Country : </b>  Saint Vincent and the Grenadines<br><b>Longitude :</b> -61.2872<br><b>Latitude :</b> 12.9843<br><b>Confirmed : </b> 1,912 <br><b>Recoverd : </b> 1,741 <br><b>Deaths : </b> 12 <br><b>Active : </b> 897 <br>\", \"<b>Country : </b>  Trinidad and Tobago<br><b>Longitude :</b> -61.2225<br><b>Latitude :</b> 10.6918<br><b>Confirmed : </b> 13,355 <br><b>Recoverd : </b> 9,237 <br><b>Deaths : </b> 211 <br><b>Active : </b> 3,907 <br>\", \"<b>Country : </b>  France<br><b>Longitude :</b> -61.0242<br><b>Latitude :</b> 14.6415<br><b>Confirmed : </b> 11,490 <br><b>Recoverd : </b> 98 <br><b>Deaths : </b> 87 <br><b>Active : </b> 11,305 <br>\", \"<b>Country : </b>  Saint Lucia<br><b>Longitude :</b> -60.9789<br><b>Latitude :</b> 13.9094<br><b>Confirmed : </b> 4,654 <br><b>Recoverd : </b> 4,444 <br><b>Deaths : </b> 75 <br><b>Active : </b> 1,125 <br>\", \"<b>Country : </b>  Barbados<br><b>Longitude :</b> -59.5432<br><b>Latitude :</b> 13.1939<br><b>Confirmed : </b> 3,942 <br><b>Recoverd : </b> 3,856 <br><b>Deaths : </b> 45 <br><b>Active : </b> 811 <br>\", \"<b>Country : </b>  United Kingdom<br><b>Longitude :</b> -59.5236<br><b>Latitude :</b> -51.7963<br><b>Confirmed : </b> 63 <br><b>Recoverd : </b> 63 <br><b>Deaths : </b> 0 <br><b>Active : </b> 15 <br>\", \"<b>Country : </b>  Guyana<br><b>Longitude :</b> -58.93018000000001<br><b>Latitude :</b> 4.860416000000001<br><b>Confirmed : </b> 14,362 <br><b>Recoverd : </b> 12,154 <br><b>Deaths : </b> 325 <br><b>Active : </b> 1,883 <br>\", \"<b>Country : </b>  Paraguay<br><b>Longitude :</b> -58.4438<br><b>Latitude :</b> -23.4425<br><b>Confirmed : </b> 297,789 <br><b>Recoverd : </b> 246,680 <br><b>Deaths : </b> 7,130 <br><b>Active : </b> 44,461 <br>\", \"<b>Country : </b>  Canada<br><b>Longitude :</b> -57.6604<br><b>Latitude :</b> 53.1355<br><b>Confirmed : </b> 1,138 <br><b>Recoverd : </b> 0 <br><b>Deaths : </b> 6 <br><b>Active : </b> 1,132 <br>\", \"<b>Country : </b>  France<br><b>Longitude :</b> -56.3159<br><b>Latitude :</b> 46.8852<br><b>Confirmed : </b> 25 <br><b>Recoverd : </b> 25 <br><b>Deaths : </b> 0 <br><b>Active : </b> 10 <br>\", \"<b>Country : </b>  Suriname<br><b>Longitude :</b> -56.0278<br><b>Latitude :</b> 3.9193<br><b>Confirmed : </b> 11,112 <br><b>Recoverd : </b> 9,778 <br><b>Deaths : </b> 215 <br><b>Active : </b> 1,119 <br>\", \"<b>Country : </b>  Uruguay<br><b>Longitude :</b> -55.7658<br><b>Latitude :</b> -32.5228<br><b>Confirmed : </b> 220,683 <br><b>Recoverd : </b> 192,114 <br><b>Deaths : </b> 3,122 <br><b>Active : </b> 35,532 <br>\", \"<b>Country : </b>  France<br><b>Longitude :</b> -53.1258<br><b>Latitude :</b> 3.9339<br><b>Confirmed : </b> 20,366 <br><b>Recoverd : </b> 9,995 <br><b>Deaths : </b> 104 <br><b>Active : </b> 10,267 <br>\", \"<b>Country : </b>  Brazil<br><b>Longitude :</b> -51.9253<br><b>Latitude :</b> -14.235<br><b>Confirmed : </b> 15,184,790 <br><b>Recoverd : </b> 13,457,400 <br><b>Deaths : </b> 422,340 <br><b>Active : </b> 1,354,023 <br>\", \"<b>Country : </b>  Denmark<br><b>Longitude :</b> -42.6043<br><b>Latitude :</b> 71.7069<br><b>Confirmed : </b> 31 <br><b>Recoverd : </b> 31 <br><b>Deaths : </b> 0 <br><b>Active : </b> 8 <br>\", \"<b>Country : </b>  Cabo Verde<br><b>Longitude :</b> -23.0418<br><b>Latitude :</b> 16.5388<br><b>Confirmed : </b> 26,441 <br><b>Recoverd : </b> 23,037 <br><b>Deaths : </b> 232 <br><b>Active : </b> 3,283 <br>\", \"<b>Country : </b>  Iceland<br><b>Longitude :</b> -19.0208<br><b>Latitude :</b> 64.9631<br><b>Confirmed : </b> 6,506 <br><b>Recoverd : </b> 6,347 <br><b>Deaths : </b> 29 <br><b>Active : </b> 1,252 <br>\", \"<b>Country : </b>  Gambia<br><b>Longitude :</b> -15.3101<br><b>Latitude :</b> 13.4432<br><b>Confirmed : </b> 5,929 <br><b>Recoverd : </b> 5,598 <br><b>Deaths : </b> 175 <br><b>Active : </b> 2,108 <br>\", \"<b>Country : </b>  Guinea-Bissau<br><b>Longitude :</b> -15.1804<br><b>Latitude :</b> 11.8037<br><b>Confirmed : </b> 3,741 <br><b>Recoverd : </b> 3,400 <br><b>Deaths : </b> 67 <br><b>Active : </b> 1,401 <br>\", \"<b>Country : </b>  Senegal<br><b>Longitude :</b> -14.4524<br><b>Latitude :</b> 14.4974<br><b>Confirmed : </b> 40,692 <br><b>Recoverd : </b> 39,384 <br><b>Deaths : </b> 1,119 <br><b>Active : </b> 5,031 <br>\", \"<b>Country : </b>  United Kingdom<br><b>Longitude :</b> -14.3559<br><b>Latitude :</b> -7.9467<br><b>Confirmed : </b> 4 <br><b>Recoverd : </b> 4 <br><b>Deaths : </b> 1 <br><b>Active : </b> 2 <br>\", \"<b>Country : </b>  Sierra Leone<br><b>Longitude :</b> -11.779889<br><b>Latitude :</b> 8.460555000000001<br><b>Confirmed : </b> 4,068 <br><b>Recoverd : </b> 3,078 <br><b>Deaths : </b> 79 <br><b>Active : </b> 1,265 <br>\", \"<b>Country : </b>  Mauritania<br><b>Longitude :</b> -10.9408<br><b>Latitude :</b> 21.0079<br><b>Confirmed : </b> 18,667 <br><b>Recoverd : </b> 17,899 <br><b>Deaths : </b> 456 <br><b>Active : </b> 3,460 <br>\", \"<b>Country : </b>  Guinea<br><b>Longitude :</b> -9.6966<br><b>Latitude :</b> 9.9456<br><b>Confirmed : </b> 22,633 <br><b>Recoverd : </b> 20,231 <br><b>Deaths : </b> 150 <br><b>Active : </b> 3,318 <br>\", \"<b>Country : </b>  Liberia<br><b>Longitude :</b> -9.429499<br><b>Latitude :</b> 6.4280550000000005<br><b>Confirmed : </b> 2,114 <br><b>Recoverd : </b> 1,962 <br><b>Deaths : </b> 85 <br><b>Active : </b> 558 <br>\", \"<b>Country : </b>  Portugal<br><b>Longitude :</b> -8.2245<br><b>Latitude :</b> 39.3999<br><b>Confirmed : </b> 839,582 <br><b>Recoverd : </b> 800,277 <br><b>Deaths : </b> 16,992 <br><b>Active : </b> 181,811 <br>\", \"<b>Country : </b>  Ireland<br><b>Longitude :</b> -7.6921<br><b>Latitude :</b> 53.1424<br><b>Confirmed : </b> 252,809 <br><b>Recoverd : </b> 23,364 <br><b>Deaths : </b> 4,921 <br><b>Active : </b> 224,524 <br>\", \"<b>Country : </b>  Morocco<br><b>Longitude :</b> -7.0926<br><b>Latitude :</b> 31.7917<br><b>Confirmed : </b> 513,864 <br><b>Recoverd : </b> 500,914 <br><b>Deaths : </b> 9,072 <br><b>Active : </b> 49,800 <br>\", \"<b>Country : </b>  Denmark<br><b>Longitude :</b> -6.9118<br><b>Latitude :</b> 61.8926<br><b>Confirmed : </b> 668 <br><b>Recoverd : </b> 662 <br><b>Deaths : </b> 1 <br><b>Active : </b> 147 <br>\", \"<b>Country : </b>  Cote d'Ivoire<br><b>Longitude :</b> -5.5471<br><b>Latitude :</b> 7.54<br><b>Confirmed : </b> 46,442 <br><b>Recoverd : </b> 45,847 <br><b>Deaths : </b> 291 <br><b>Active : </b> 6,170 <br>\", \"<b>Country : </b>  United Kingdom<br><b>Longitude :</b> -5.3536<br><b>Latitude :</b> 36.1408<br><b>Confirmed : </b> 4,291 <br><b>Recoverd : </b> 4,189 <br><b>Deaths : </b> 94 <br><b>Active : </b> 1,317 <br>\", \"<b>Country : </b>  United Kingdom<br><b>Longitude :</b> -4.5481<br><b>Latitude :</b> 54.2361<br><b>Confirmed : </b> 1,590 <br><b>Recoverd : </b> 1,550 <br><b>Deaths : </b> 29 <br><b>Active : </b> 903 <br>\", \"<b>Country : </b>  Mali<br><b>Longitude :</b> -3.9961660000000006<br><b>Latitude :</b> 17.570692<br><b>Confirmed : </b> 14,108 <br><b>Recoverd : </b> 9,010 <br><b>Deaths : </b> 500 <br><b>Active : </b> 5,240 <br>\", \"<b>Country : </b>  Spain<br><b>Longitude :</b> -3.7492199999999998<br><b>Latitude :</b> 40.463667<br><b>Confirmed : </b> 3,567,408 <br><b>Recoverd : </b> 150,376 <br><b>Deaths : </b> 78,792 <br><b>Active : </b> 3,338,240 <br>\", \"<b>Country : </b>  United Kingdom<br><b>Longitude :</b> -3.4360000000000004<br><b>Latitude :</b> 55.3781<br><b>Confirmed : </b> 4,434,860 <br><b>Recoverd : </b> 344 <br><b>Deaths : </b> 127,605 <br><b>Active : </b> 4,307,255 <br>\", \"<b>Country : </b>  United Kingdom<br><b>Longitude :</b> -2.3644<br><b>Latitude :</b> 49.3723<br><b>Confirmed : </b> 4,111 <br><b>Recoverd : </b> 3,965 <br><b>Deaths : </b> 86 <br><b>Active : </b> 1,189 <br>\", \"<b>Country : </b>  Burkina Faso<br><b>Longitude :</b> -1.5616<br><b>Latitude :</b> 12.2383<br><b>Confirmed : </b> 13,379 <br><b>Recoverd : </b> 13,156 <br><b>Deaths : </b> 162 <br><b>Active : </b> 2,343 <br>\", \"<b>Country : </b>  Ghana<br><b>Longitude :</b> -1.0232<br><b>Latitude :</b> 7.9465<br><b>Confirmed : </b> 92,951 <br><b>Recoverd : </b> 90,568 <br><b>Deaths : </b> 783 <br><b>Active : </b> 8,585 <br>\", \"<b>Country : </b>  Canada<br><b>Longitude :</b> 0.0<br><b>Latitude :</b> 0.0<br><b>Confirmed : </b> 13 <br><b>Recoverd : </b> 0 <br><b>Deaths : </b> 1 <br><b>Active : </b> 13 <br>\", \"<b>Country : </b>  Diamond Princess<br><b>Longitude :</b> 0.0<br><b>Latitude :</b> 0.0<br><b>Confirmed : </b> 712 <br><b>Recoverd : </b> 699 <br><b>Deaths : </b> 13 <br><b>Active : </b> 691 <br>\", \"<b>Country : </b>  MS Zaandam<br><b>Longitude :</b> 0.0<br><b>Latitude :</b> 0.0<br><b>Confirmed : </b> 9 <br><b>Recoverd : </b> 7 <br><b>Deaths : </b> 2 <br><b>Active : </b> 7 <br>\", \"<b>Country : </b>  Togo<br><b>Longitude :</b> 0.8248<br><b>Latitude :</b> 8.6195<br><b>Confirmed : </b> 13,154 <br><b>Recoverd : </b> 11,691 <br><b>Deaths : </b> 124 <br><b>Active : </b> 2,829 <br>\", \"<b>Country : </b>  Andorra<br><b>Longitude :</b> 1.5218<br><b>Latitude :</b> 42.5063<br><b>Confirmed : </b> 13,423 <br><b>Recoverd : </b> 12,995 <br><b>Deaths : </b> 127 <br><b>Active : </b> 1,309 <br>\", \"<b>Country : </b>  Algeria<br><b>Longitude :</b> 1.6596<br><b>Latitude :</b> 28.0339<br><b>Confirmed : </b> 124,104 <br><b>Recoverd : </b> 86,420 <br><b>Deaths : </b> 3,328 <br><b>Active : </b> 34,356 <br>\", \"<b>Country : </b>  France<br><b>Longitude :</b> 2.2137<br><b>Latitude :</b> 46.2276<br><b>Confirmed : </b> 5,727,293 <br><b>Recoverd : </b> 315,726 <br><b>Deaths : </b> 105,645 <br><b>Active : </b> 5,305,922 <br>\", \"<b>Country : </b>  Benin<br><b>Longitude :</b> 2.3158<br><b>Latitude :</b> 9.3077<br><b>Confirmed : </b> 7,884 <br><b>Recoverd : </b> 7,652 <br><b>Deaths : </b> 100 <br><b>Active : </b> 1,458 <br>\", \"<b>Country : </b>  Belgium<br><b>Longitude :</b> 4.469936<br><b>Latitude :</b> 50.8333<br><b>Confirmed : </b> 1,016,609 <br><b>Recoverd : </b> 31,130 <br><b>Deaths : </b> 24,551 <br><b>Active : </b> 992,058 <br>\", \"<b>Country : </b>  Netherlands<br><b>Longitude :</b> 5.2913<br><b>Latitude :</b> 52.1326<br><b>Confirmed : </b> 1,560,022 <br><b>Recoverd : </b> 0 <br><b>Deaths : </b> 17,323 <br><b>Active : </b> 1,542,699 <br>\", \"<b>Country : </b>  Luxembourg<br><b>Longitude :</b> 6.1296<br><b>Latitude :</b> 49.8153<br><b>Confirmed : </b> 68,153 <br><b>Recoverd : </b> 64,943 <br><b>Deaths : </b> 801 <br><b>Active : </b> 10,284 <br>\", \"<b>Country : </b>  Sao Tome and Principe<br><b>Longitude :</b> 6.6131<br><b>Latitude :</b> 0.1864<br><b>Confirmed : </b> 2,318 <br><b>Recoverd : </b> 2,262 <br><b>Deaths : </b> 35 <br><b>Active : </b> 487 <br>\", \"<b>Country : </b>  Monaco<br><b>Longitude :</b> 7.4167<br><b>Latitude :</b> 43.7333<br><b>Confirmed : </b> 2,479 <br><b>Recoverd : </b> 2,413 <br><b>Deaths : </b> 32 <br><b>Active : </b> 266 <br>\", \"<b>Country : </b>  Niger<br><b>Longitude :</b> 8.081666<br><b>Latitude :</b> 17.607789<br><b>Confirmed : </b> 5,319 <br><b>Recoverd : </b> 4,885 <br><b>Deaths : </b> 192 <br><b>Active : </b> 1,469 <br>\", \"<b>Country : </b>  Switzerland<br><b>Longitude :</b> 8.2275<br><b>Latitude :</b> 46.8182<br><b>Confirmed : </b> 670,613 <br><b>Recoverd : </b> 317,600 <br><b>Deaths : </b> 10,706 <br><b>Active : </b> 342,311 <br>\", \"<b>Country : </b>  Norway<br><b>Longitude :</b> 8.4689<br><b>Latitude :</b> 60.472<br><b>Confirmed : </b> 116,365 <br><b>Recoverd : </b> 17,998 <br><b>Deaths : </b> 767 <br><b>Active : </b> 97,600 <br>\", \"<b>Country : </b>  Nigeria<br><b>Longitude :</b> 8.6753<br><b>Latitude :</b> 9.082<br><b>Confirmed : </b> 165,419 <br><b>Recoverd : </b> 156,297 <br><b>Deaths : </b> 2,065 <br><b>Active : </b> 25,267 <br>\", \"<b>Country : </b>  Denmark<br><b>Longitude :</b> 9.5018<br><b>Latitude :</b> 56.2639<br><b>Confirmed : </b> 259,056 <br><b>Recoverd : </b> 245,562 <br><b>Deaths : </b> 2,497 <br><b>Active : </b> 43,365 <br>\", \"<b>Country : </b>  Tunisia<br><b>Longitude :</b> 9.537499<br><b>Latitude :</b> 33.886917<br><b>Confirmed : </b> 320,813 <br><b>Recoverd : </b> 277,497 <br><b>Deaths : </b> 11,429 <br><b>Active : </b> 57,819 <br>\", \"<b>Country : </b>  Liechtenstein<br><b>Longitude :</b> 9.55<br><b>Latitude :</b> 47.14<br><b>Confirmed : </b> 2,970 <br><b>Recoverd : </b> 2,858 <br><b>Deaths : </b> 58 <br><b>Active : </b> 396 <br>\", \"<b>Country : </b>  Equatorial Guinea<br><b>Longitude :</b> 10.2679<br><b>Latitude :</b> 1.6508<br><b>Confirmed : </b> 7,694 <br><b>Recoverd : </b> 7,279 <br><b>Deaths : </b> 112 <br><b>Active : </b> 2,556 <br>\", \"<b>Country : </b>  Germany<br><b>Longitude :</b> 10.451526<br><b>Latitude :</b> 51.165690999999995<br><b>Confirmed : </b> 3,530,887 <br><b>Recoverd : </b> 3,187,100 <br><b>Deaths : </b> 84,844 <br><b>Active : </b> 380,989 <br>\", \"<b>Country : </b>  Cameroon<br><b>Longitude :</b> 11.5021<br><b>Latitude :</b> 3.8480000000000003<br><b>Confirmed : </b> 74,946 <br><b>Recoverd : </b> 35,261 <br><b>Deaths : </b> 1,152 <br><b>Active : </b> 38,533 <br>\", \"<b>Country : </b>  Gabon<br><b>Longitude :</b> 11.6094<br><b>Latitude :</b> -0.8037<br><b>Confirmed : </b> 23,432 <br><b>Recoverd : </b> 19,944 <br><b>Deaths : </b> 143 <br><b>Active : </b> 3,345 <br>\", \"<b>Country : </b>  Holy See<br><b>Longitude :</b> 12.4534<br><b>Latitude :</b> 41.9029<br><b>Confirmed : </b> 27 <br><b>Recoverd : </b> 15 <br><b>Deaths : </b> 0 <br><b>Active : </b> 14 <br>\", \"<b>Country : </b>  San Marino<br><b>Longitude :</b> 12.4578<br><b>Latitude :</b> 43.9424<br><b>Confirmed : </b> 5,067 <br><b>Recoverd : </b> 4,935 <br><b>Deaths : </b> 90 <br><b>Active : </b> 521 <br>\", \"<b>Country : </b>  Italy<br><b>Longitude :</b> 12.56738<br><b>Latitude :</b> 41.87194<br><b>Confirmed : </b> 4,111,210 <br><b>Recoverd : </b> 3,604,523 <br><b>Deaths : </b> 122,833 <br><b>Active : </b> 805,947 <br>\", \"<b>Country : </b>  Malta<br><b>Longitude :</b> 14.3754<br><b>Latitude :</b> 35.9375<br><b>Confirmed : </b> 30,447 <br><b>Recoverd : </b> 29,805 <br><b>Deaths : </b> 417 <br><b>Active : </b> 3,403 <br>\", \"<b>Country : </b>  Austria<br><b>Longitude :</b> 14.5501<br><b>Latitude :</b> 47.5162<br><b>Confirmed : </b> 631,076 <br><b>Recoverd : </b> 603,901 <br><b>Deaths : </b> 10,382 <br><b>Active : </b> 77,130 <br>\", \"<b>Country : </b>  Slovenia<br><b>Longitude :</b> 14.9955<br><b>Latitude :</b> 46.1512<br><b>Confirmed : </b> 246,082 <br><b>Recoverd : </b> 232,798 <br><b>Deaths : </b> 4,293 <br><b>Active : </b> 24,419 <br>\", \"<b>Country : </b>  Croatia<br><b>Longitude :</b> 15.2<br><b>Latitude :</b> 45.1<br><b>Confirmed : </b> 344,494 <br><b>Recoverd : </b> 327,404 <br><b>Deaths : </b> 7,469 <br><b>Active : </b> 25,270 <br>\", \"<b>Country : </b>  Czechia<br><b>Longitude :</b> 15.472999999999999<br><b>Latitude :</b> 49.8175<br><b>Confirmed : </b> 1,645,061 <br><b>Recoverd : </b> 1,575,449 <br><b>Deaths : </b> 29,667 <br><b>Active : </b> 208,415 <br>\", \"<b>Country : </b>  Congo (Brazzaville)<br><b>Longitude :</b> 15.8277<br><b>Latitude :</b> -0.228<br><b>Confirmed : </b> 11,147 <br><b>Recoverd : </b> 8,208 <br><b>Deaths : </b> 148 <br><b>Active : </b> 2,791 <br>\", \"<b>Country : </b>  Libya<br><b>Longitude :</b> 17.228331<br><b>Latitude :</b> 26.3351<br><b>Confirmed : </b> 179,970 <br><b>Recoverd : </b> 166,340 <br><b>Deaths : </b> 3,070 <br><b>Active : </b> 28,894 <br>\", \"<b>Country : </b>  Bosnia and Herzegovina<br><b>Longitude :</b> 17.6791<br><b>Latitude :</b> 43.9159<br><b>Confirmed : </b> 200,693 <br><b>Recoverd : </b> 164,717 <br><b>Deaths : </b> 8,790 <br><b>Active : </b> 36,198 <br>\", \"<b>Country : </b>  Angola<br><b>Longitude :</b> 17.8739<br><b>Latitude :</b> -11.2027<br><b>Confirmed : </b> 28,740 <br><b>Recoverd : </b> 24,717 <br><b>Deaths : </b> 633 <br><b>Active : </b> 7,000 <br>\", \"<b>Country : </b>  Namibia<br><b>Longitude :</b> 18.4904<br><b>Latitude :</b> -22.9576<br><b>Confirmed : </b> 50,070 <br><b>Recoverd : </b> 47,300 <br><b>Deaths : </b> 689 <br><b>Active : </b> 4,913 <br>\", \"<b>Country : </b>  Sweden<br><b>Longitude :</b> 18.643501<br><b>Latitude :</b> 60.128161<br><b>Confirmed : </b> 1,007,792 <br><b>Recoverd : </b> 0 <br><b>Deaths : </b> 14,173 <br><b>Active : </b> 993,619 <br>\", \"<b>Country : </b>  Chad<br><b>Longitude :</b> 18.7322<br><b>Latitude :</b> 15.4542<br><b>Confirmed : </b> 4,877 <br><b>Recoverd : </b> 4,649 <br><b>Deaths : </b> 171 <br><b>Active : </b> 829 <br>\", \"<b>Country : </b>  Poland<br><b>Longitude :</b> 19.1451<br><b>Latitude :</b> 51.9194<br><b>Confirmed : </b> 2,833,052 <br><b>Recoverd : </b> 2,569,501 <br><b>Deaths : </b> 70,012 <br><b>Active : </b> 440,035 <br>\", \"<b>Country : </b>  Montenegro<br><b>Longitude :</b> 19.37439<br><b>Latitude :</b> 42.708678000000006<br><b>Confirmed : </b> 98,303 <br><b>Recoverd : </b> 94,963 <br><b>Deaths : </b> 1,540 <br><b>Active : </b> 11,177 <br>\", \"<b>Country : </b>  Hungary<br><b>Longitude :</b> 19.5033<br><b>Latitude :</b> 47.1625<br><b>Confirmed : </b> 791,709 <br><b>Recoverd : </b> 568,329 <br><b>Deaths : </b> 28,602 <br><b>Active : </b> 272,974 <br>\", \"<b>Country : </b>  Slovakia<br><b>Longitude :</b> 19.699<br><b>Latitude :</b> 48.669<br><b>Confirmed : </b> 385,475 <br><b>Recoverd : </b> 255,300 <br><b>Deaths : </b> 12,019 <br><b>Active : </b> 118,156 <br>\", \"<b>Country : </b>  Albania<br><b>Longitude :</b> 20.1683<br><b>Latitude :</b> 41.1533<br><b>Confirmed : </b> 131,723 <br><b>Recoverd : </b> 117,089 <br><b>Deaths : </b> 2,412 <br><b>Active : </b> 35,815 <br>\", \"<b>Country : </b>  Kosovo<br><b>Longitude :</b> 20.902977<br><b>Latitude :</b> 42.602636<br><b>Confirmed : </b> 105,784 <br><b>Recoverd : </b> 96,841 <br><b>Deaths : </b> 2,207 <br><b>Active : </b> 13,688 <br>\", \"<b>Country : </b>  Central African Republic<br><b>Longitude :</b> 20.9394<br><b>Latitude :</b> 6.6111<br><b>Confirmed : </b> 6,674 <br><b>Recoverd : </b> 5,112 <br><b>Deaths : </b> 93 <br><b>Active : </b> 3,095 <br>\", \"<b>Country : </b>  Serbia<br><b>Longitude :</b> 21.0059<br><b>Latitude :</b> 44.0165<br><b>Confirmed : </b> 700,408 <br><b>Recoverd : </b> 15,564 <br><b>Deaths : </b> 6,558 <br><b>Active : </b> 693,850 <br>\", \"<b>Country : </b>  North Macedonia<br><b>Longitude :</b> 21.7453<br><b>Latitude :</b> 41.6086<br><b>Confirmed : </b> 154,026 <br><b>Recoverd : </b> 137,962 <br><b>Deaths : </b> 5,093 <br><b>Active : </b> 22,538 <br>\", \"<b>Country : </b>  Congo (Kinshasa)<br><b>Longitude :</b> 21.7587<br><b>Latitude :</b> -4.0383<br><b>Confirmed : </b> 30,323 <br><b>Recoverd : </b> 26,434 <br><b>Deaths : </b> 772 <br><b>Active : </b> 8,533 <br>\", \"<b>Country : </b>  Greece<br><b>Longitude :</b> 21.8243<br><b>Latitude :</b> 39.0742<br><b>Confirmed : </b> 362,004 <br><b>Recoverd : </b> 93,764 <br><b>Deaths : </b> 11,029 <br><b>Active : </b> 257,211 <br>\", \"<b>Country : </b>  South Africa<br><b>Longitude :</b> 22.9375<br><b>Latitude :</b> -30.5595<br><b>Confirmed : </b> 1,596,595 <br><b>Recoverd : </b> 1,516,256 <br><b>Deaths : </b> 54,735 <br><b>Active : </b> 239,799 <br>\", \"<b>Country : </b>  Lithuania<br><b>Longitude :</b> 23.8813<br><b>Latitude :</b> 55.1694<br><b>Confirmed : </b> 257,827 <br><b>Recoverd : </b> 232,076 <br><b>Deaths : </b> 4,034 <br><b>Active : </b> 48,776 <br>\", \"<b>Country : </b>  Latvia<br><b>Longitude :</b> 24.6032<br><b>Latitude :</b> 56.8796<br><b>Confirmed : </b> 123,963 <br><b>Recoverd : </b> 113,214 <br><b>Deaths : </b> 2,212 <br><b>Active : </b> 22,856 <br>\", \"<b>Country : </b>  Botswana<br><b>Longitude :</b> 24.6849<br><b>Latitude :</b> -22.3285<br><b>Confirmed : </b> 48,417 <br><b>Recoverd : </b> 46,226 <br><b>Deaths : </b> 734 <br><b>Active : </b> 5,511 <br>\", \"<b>Country : </b>  Romania<br><b>Longitude :</b> 24.9668<br><b>Latitude :</b> 45.9432<br><b>Confirmed : </b> 1,066,111 <br><b>Recoverd : </b> 1,013,666 <br><b>Deaths : </b> 28,966 <br><b>Active : </b> 120,307 <br>\", \"<b>Country : </b>  Estonia<br><b>Longitude :</b> 25.0136<br><b>Latitude :</b> 58.5953<br><b>Confirmed : </b> 125,126 <br><b>Recoverd : </b> 115,908 <br><b>Deaths : </b> 1,201 <br><b>Active : </b> 28,715 <br>\", \"<b>Country : </b>  Bulgaria<br><b>Longitude :</b> 25.4858<br><b>Latitude :</b> 42.7339<br><b>Confirmed : </b> 410,202 <br><b>Recoverd : </b> 348,392 <br><b>Deaths : </b> 16,929 <br><b>Active : </b> 95,442 <br>\", \"<b>Country : </b>  Finland<br><b>Longitude :</b> 25.748151<br><b>Latitude :</b> 61.92411<br><b>Confirmed : </b> 88,723 <br><b>Recoverd : </b> 46,000 <br><b>Deaths : </b> 922 <br><b>Active : </b> 41,801 <br>\", \"<b>Country : </b>  Zambia<br><b>Longitude :</b> 27.849332<br><b>Latitude :</b> -13.133897<br><b>Confirmed : </b> 92,092 <br><b>Recoverd : </b> 90,428 <br><b>Deaths : </b> 1,257 <br><b>Active : </b> 10,900 <br>\", \"<b>Country : </b>  Belarus<br><b>Longitude :</b> 27.9534<br><b>Latitude :</b> 53.7098<br><b>Confirmed : </b> 368,888 <br><b>Recoverd : </b> 359,687 <br><b>Deaths : </b> 2,632 <br><b>Active : </b> 25,477 <br>\", \"<b>Country : </b>  Lesotho<br><b>Longitude :</b> 28.2336<br><b>Latitude :</b> -29.61<br><b>Confirmed : </b> 10,773 <br><b>Recoverd : </b> 6,427 <br><b>Deaths : </b> 319 <br><b>Active : </b> 7,101 <br>\", \"<b>Country : </b>  Moldova<br><b>Longitude :</b> 28.3699<br><b>Latitude :</b> 47.4116<br><b>Confirmed : </b> 252,749 <br><b>Recoverd : </b> 243,534 <br><b>Deaths : </b> 5,952 <br><b>Active : </b> 22,962 <br>\", \"<b>Country : </b>  Zimbabwe<br><b>Longitude :</b> 29.154857<br><b>Latitude :</b> -19.015438<br><b>Confirmed : </b> 38,419 <br><b>Recoverd : </b> 36,063 <br><b>Deaths : </b> 1,576 <br><b>Active : </b> 10,326 <br>\", \"<b>Country : </b>  Rwanda<br><b>Longitude :</b> 29.8739<br><b>Latitude :</b> -1.9403<br><b>Confirmed : </b> 25,652 <br><b>Recoverd : </b> 24,153 <br><b>Deaths : </b> 338 <br><b>Active : </b> 5,121 <br>\", \"<b>Country : </b>  Burundi<br><b>Longitude :</b> 29.9189<br><b>Latitude :</b> -3.3731<br><b>Confirmed : </b> 4,177 <br><b>Recoverd : </b> 773 <br><b>Deaths : </b> 6 <br><b>Active : </b> 3,398 <br>\", \"<b>Country : </b>  Sudan<br><b>Longitude :</b> 30.2176<br><b>Latitude :</b> 12.8628<br><b>Confirmed : </b> 34,461 <br><b>Recoverd : </b> 27,247 <br><b>Deaths : </b> 2,365 <br><b>Active : </b> 12,776 <br>\", \"<b>Country : </b>  Egypt<br><b>Longitude :</b> 30.802497999999996<br><b>Latitude :</b> 26.820553000000004<br><b>Confirmed : </b> 237,410 <br><b>Recoverd : </b> 176,763 <br><b>Deaths : </b> 13,904 <br><b>Active : </b> 55,230 <br>\", \"<b>Country : </b>  Ukraine<br><b>Longitude :</b> 31.1656<br><b>Latitude :</b> 48.3794<br><b>Confirmed : </b> 2,175,151 <br><b>Recoverd : </b> 1,811,171 <br><b>Deaths : </b> 48,294 <br><b>Active : </b> 427,565 <br>\", \"<b>Country : </b>  South Sudan<br><b>Longitude :</b> 31.307<br><b>Latitude :</b> 6.877000000000001<br><b>Confirmed : </b> 10,637 <br><b>Recoverd : </b> 10,312 <br><b>Deaths : </b> 115 <br><b>Active : </b> 4,347 <br>\", \"<b>Country : </b>  Eswatini<br><b>Longitude :</b> 31.4659<br><b>Latitude :</b> -26.5225<br><b>Confirmed : </b> 18,480 <br><b>Recoverd : </b> 17,783 <br><b>Deaths : </b> 671 <br><b>Active : </b> 4,912 <br>\", \"<b>Country : </b>  Uganda<br><b>Longitude :</b> 32.290275<br><b>Latitude :</b> 1.373333<br><b>Confirmed : </b> 42,355 <br><b>Recoverd : </b> 41,924 <br><b>Deaths : </b> 346 <br><b>Active : </b> 25,385 <br>\", \"<b>Country : </b>  Cyprus<br><b>Longitude :</b> 33.4299<br><b>Latitude :</b> 35.1264<br><b>Confirmed : </b> 69,432 <br><b>Recoverd : </b> 39,061 <br><b>Deaths : </b> 336 <br><b>Active : </b> 47,663 <br>\", \"<b>Country : </b>  Malawi<br><b>Longitude :</b> 34.3015<br><b>Latitude :</b> -13.2543<br><b>Confirmed : </b> 34,171 <br><b>Recoverd : </b> 32,159 <br><b>Deaths : </b> 1,153 <br><b>Active : </b> 14,874 <br>\", \"<b>Country : </b>  Israel<br><b>Longitude :</b> 34.851612<br><b>Latitude :</b> 31.046051000000002<br><b>Confirmed : </b> 838,894 <br><b>Recoverd : </b> 831,576 <br><b>Deaths : </b> 6,377 <br><b>Active : </b> 85,014 <br>\", \"<b>Country : </b>  Tanzania<br><b>Longitude :</b> 34.888822<br><b>Latitude :</b> -6.369028<br><b>Confirmed : </b> 509 <br><b>Recoverd : </b> 183 <br><b>Deaths : </b> 21 <br><b>Active : </b> 305 <br>\", \"<b>Country : </b>  West Bank and Gaza<br><b>Longitude :</b> 35.2332<br><b>Latitude :</b> 31.9522<br><b>Confirmed : </b> 301,751 <br><b>Recoverd : </b> 286,385 <br><b>Deaths : </b> 3,358 <br><b>Active : </b> 33,275 <br>\", \"<b>Country : </b>  Turkey<br><b>Longitude :</b> 35.2433<br><b>Latitude :</b> 38.9637<br><b>Confirmed : </b> 5,031,332 <br><b>Recoverd : </b> 4,716,918 <br><b>Deaths : </b> 43,029 <br><b>Active : </b> 1,306,587 <br>\", \"<b>Country : </b>  Mozambique<br><b>Longitude :</b> 35.529562<br><b>Latitude :</b> -18.665695<br><b>Confirmed : </b> 70,212 <br><b>Recoverd : </b> 0 <br><b>Deaths : </b> 823 <br><b>Active : </b> 69,389 <br>\", \"<b>Country : </b>  Lebanon<br><b>Longitude :</b> 35.8623<br><b>Latitude :</b> 33.8547<br><b>Confirmed : </b> 532,839 <br><b>Recoverd : </b> 481,968 <br><b>Deaths : </b> 7,486 <br><b>Active : </b> 119,050 <br>\", \"<b>Country : </b>  Jordan<br><b>Longitude :</b> 36.51<br><b>Latitude :</b> 31.24<br><b>Confirmed : </b> 719,233 <br><b>Recoverd : </b> 703,577 <br><b>Deaths : </b> 9,076 <br><b>Active : </b> 137,385 <br>\", \"<b>Country : </b>  Kenya<br><b>Longitude :</b> 37.9062<br><b>Latitude :</b> -0.0236<br><b>Confirmed : </b> 163,554 <br><b>Recoverd : </b> 111,191 <br><b>Deaths : </b> 2,895 <br><b>Active : </b> 49,468 <br>\", \"<b>Country : </b>  Syria<br><b>Longitude :</b> 38.996815000000005<br><b>Latitude :</b> 34.802075<br><b>Confirmed : </b> 23,379 <br><b>Recoverd : </b> 0 <br><b>Deaths : </b> 1,657 <br><b>Active : </b> 21,722 <br>\", \"<b>Country : </b>  Eritrea<br><b>Longitude :</b> 39.7823<br><b>Latitude :</b> 15.1794<br><b>Confirmed : </b> 3,742 <br><b>Recoverd : </b> 3,602 <br><b>Deaths : </b> 12 <br><b>Active : </b> 810 <br>\", \"<b>Country : </b>  Ethiopia<br><b>Longitude :</b> 40.4897<br><b>Latitude :</b> 9.145<br><b>Confirmed : </b> 262,702 <br><b>Recoverd : </b> 210,030 <br><b>Deaths : </b> 3,888 <br><b>Active : </b> 59,781 <br>\", \"<b>Country : </b>  Djibouti<br><b>Longitude :</b> 42.5903<br><b>Latitude :</b> 11.8251<br><b>Confirmed : </b> 11,335 <br><b>Recoverd : </b> 11,041 <br><b>Deaths : </b> 149 <br><b>Active : </b> 2,390 <br>\", \"<b>Country : </b>  Comoros<br><b>Longitude :</b> 43.3333<br><b>Latitude :</b> -11.6455<br><b>Confirmed : </b> 3,854 <br><b>Recoverd : </b> 3,682 <br><b>Deaths : </b> 146 <br><b>Active : </b> 975 <br>\", \"<b>Country : </b>  Georgia<br><b>Longitude :</b> 43.3569<br><b>Latitude :</b> 42.3154<br><b>Confirmed : </b> 321,919 <br><b>Recoverd : </b> 300,989 <br><b>Deaths : </b> 4,281 <br><b>Active : </b> 31,021 <br>\", \"<b>Country : </b>  Iraq<br><b>Longitude :</b> 43.679291<br><b>Latitude :</b> 33.223191<br><b>Confirmed : </b> 1,112,725 <br><b>Recoverd : </b> 1,005,369 <br><b>Deaths : </b> 15,771 <br><b>Active : </b> 112,140 <br>\", \"<b>Country : </b>  Armenia<br><b>Longitude :</b> 45.0382<br><b>Latitude :</b> 40.0691<br><b>Confirmed : </b> 219,270 <br><b>Recoverd : </b> 204,578 <br><b>Deaths : </b> 4,234 <br><b>Active : </b> 40,976 <br>\", \"<b>Country : </b>  Saudi Arabia<br><b>Longitude :</b> 45.079162<br><b>Latitude :</b> 23.885942<br><b>Confirmed : </b> 426,384 <br><b>Recoverd : </b> 409,740 <br><b>Deaths : </b> 7,072 <br><b>Active : </b> 63,026 <br>\", \"<b>Country : </b>  France<br><b>Longitude :</b> 45.166244<br><b>Latitude :</b> -12.8275<br><b>Confirmed : </b> 20,134 <br><b>Recoverd : </b> 2,964 <br><b>Deaths : </b> 170 <br><b>Active : </b> 17,000 <br>\", \"<b>Country : </b>  Somalia<br><b>Longitude :</b> 46.199616<br><b>Latitude :</b> 5.152149<br><b>Confirmed : </b> 14,415 <br><b>Recoverd : </b> 6,191 <br><b>Deaths : </b> 747 <br><b>Active : </b> 7,477 <br>\", \"<b>Country : </b>  Madagascar<br><b>Longitude :</b> 46.869107<br><b>Latitude :</b> -18.766947000000002<br><b>Confirmed : </b> 39,012 <br><b>Recoverd : </b> 36,022 <br><b>Deaths : </b> 722 <br><b>Active : </b> 6,718 <br>\", \"<b>Country : </b>  Kuwait<br><b>Longitude :</b> 47.481766<br><b>Latitude :</b> 29.311659999999996<br><b>Confirmed : </b> 285,068 <br><b>Recoverd : </b> 269,633 <br><b>Deaths : </b> 1,645 <br><b>Active : </b> 15,831 <br>\", \"<b>Country : </b>  Azerbaijan<br><b>Longitude :</b> 47.5769<br><b>Latitude :</b> 40.1431<br><b>Confirmed : </b> 326,716 <br><b>Recoverd : </b> 306,119 <br><b>Deaths : </b> 4,680 <br><b>Active : </b> 62,427 <br>\", \"<b>Country : </b>  Yemen<br><b>Longitude :</b> 48.516388<br><b>Latitude :</b> 15.552726999999999<br><b>Confirmed : </b> 6,482 <br><b>Recoverd : </b> 2,992 <br><b>Deaths : </b> 1,271 <br><b>Active : </b> 2,504 <br>\", \"<b>Country : </b>  Bahrain<br><b>Longitude :</b> 50.55<br><b>Latitude :</b> 26.0275<br><b>Confirmed : </b> 189,356 <br><b>Recoverd : </b> 175,332 <br><b>Deaths : </b> 685 <br><b>Active : </b> 13,339 <br>\", \"<b>Country : </b>  Qatar<br><b>Longitude :</b> 51.1839<br><b>Latitude :</b> 25.3548<br><b>Confirmed : </b> 210,992 <br><b>Recoverd : </b> 201,530 <br><b>Deaths : </b> 508 <br><b>Active : </b> 35,634 <br>\", \"<b>Country : </b>  Iran<br><b>Longitude :</b> 53.68804599999999<br><b>Latitude :</b> 32.427908<br><b>Confirmed : </b> 2,654,811 <br><b>Recoverd : </b> 2,109,702 <br><b>Deaths : </b> 74,910 <br><b>Active : </b> 479,932 <br>\", \"<b>Country : </b>  United Arab Emirates<br><b>Longitude :</b> 53.847818000000004<br><b>Latitude :</b> 23.424076<br><b>Confirmed : </b> 536,017 <br><b>Recoverd : </b> 516,329 <br><b>Deaths : </b> 1,613 <br><b>Active : </b> 27,792 <br>\", \"<b>Country : </b>  Seychelles<br><b>Longitude :</b> 55.492<br><b>Latitude :</b> -4.6796<br><b>Confirmed : </b> 6,373 <br><b>Recoverd : </b> 5,277 <br><b>Deaths : </b> 28 <br><b>Active : </b> 1,068 <br>\", \"<b>Country : </b>  France<br><b>Longitude :</b> 55.5364<br><b>Latitude :</b> -21.1151<br><b>Confirmed : </b> 21,451 <br><b>Recoverd : </b> 19,848 <br><b>Deaths : </b> 150 <br><b>Active : </b> 2,155 <br>\", \"<b>Country : </b>  Oman<br><b>Longitude :</b> 55.923255000000005<br><b>Latitude :</b> 21.512583<br><b>Confirmed : </b> 201,350 <br><b>Recoverd : </b> 184,647 <br><b>Deaths : </b> 2,120 <br><b>Active : </b> 23,276 <br>\", \"<b>Country : </b>  Mauritius<br><b>Longitude :</b> 57.552152<br><b>Latitude :</b> -20.348404000000002<br><b>Confirmed : </b> 1,246 <br><b>Recoverd : </b> 1,123 <br><b>Deaths : </b> 17 <br><b>Active : </b> 448 <br>\", \"<b>Country : </b>  Uzbekistan<br><b>Longitude :</b> 64.585262<br><b>Latitude :</b> 41.377491<br><b>Confirmed : </b> 94,397 <br><b>Recoverd : </b> 90,053 <br><b>Deaths : </b> 662 <br><b>Active : </b> 9,549 <br>\", \"<b>Country : </b>  Kazakhstan<br><b>Longitude :</b> 66.9237<br><b>Latitude :</b> 48.0196<br><b>Confirmed : </b> 398,272 <br><b>Recoverd : </b> 351,768 <br><b>Deaths : </b> 3,371 <br><b>Active : </b> 46,234 <br>\", \"<b>Country : </b>  Afghanistan<br><b>Longitude :</b> 67.709953<br><b>Latitude :</b> 33.93911<br><b>Confirmed : </b> 61,842 <br><b>Recoverd : </b> 54,222 <br><b>Deaths : </b> 2,686 <br><b>Active : </b> 20,311 <br>\", \"<b>Country : </b>  Pakistan<br><b>Longitude :</b> 69.3451<br><b>Latitude :</b> 30.3753<br><b>Confirmed : </b> 858,026 <br><b>Recoverd : </b> 757,281 <br><b>Deaths : </b> 18,915 <br><b>Active : </b> 108,642 <br>\", \"<b>Country : </b>  Tajikistan<br><b>Longitude :</b> 71.2761<br><b>Latitude :</b> 38.861<br><b>Confirmed : </b> 13,308 <br><b>Recoverd : </b> 13,218 <br><b>Deaths : </b> 90 <br><b>Active : </b> 1,895 <br>\", \"<b>Country : </b>  Maldives<br><b>Longitude :</b> 73.2207<br><b>Latitude :</b> 3.2028<br><b>Confirmed : </b> 35,815 <br><b>Recoverd : </b> 26,299 <br><b>Deaths : </b> 84 <br><b>Active : </b> 9,432 <br>\", \"<b>Country : </b>  Kyrgyzstan<br><b>Longitude :</b> 74.766098<br><b>Latitude :</b> 41.20438<br><b>Confirmed : </b> 98,400 <br><b>Recoverd : </b> 91,559 <br><b>Deaths : </b> 1,655 <br><b>Active : </b> 13,002 <br>\", \"<b>Country : </b>  India<br><b>Longitude :</b> 78.96288<br><b>Latitude :</b> 20.593684<br><b>Confirmed : </b> 22,662,575 <br><b>Recoverd : </b> 18,671,222 <br><b>Deaths : </b> 246,116 <br><b>Active : </b> 3,745,237 <br>\", \"<b>Country : </b>  Sri Lanka<br><b>Longitude :</b> 80.77179699999999<br><b>Latitude :</b> 7.873054<br><b>Confirmed : </b> 125,906 <br><b>Recoverd : </b> 104,463 <br><b>Deaths : </b> 801 <br><b>Active : </b> 20,642 <br>\", \"<b>Country : </b>  Nepal<br><b>Longitude :</b> 84.25<br><b>Latitude :</b> 28.1667<br><b>Confirmed : </b> 394,667 <br><b>Recoverd : </b> 302,787 <br><b>Deaths : </b> 3,720 <br><b>Active : </b> 88,160 <br>\", \"<b>Country : </b>  China<br><b>Longitude :</b> 85.2401<br><b>Latitude :</b> 41.1129<br><b>Confirmed : </b> 980 <br><b>Recoverd : </b> 977 <br><b>Deaths : </b> 3 <br><b>Active : </b> 643 <br>\", \"<b>Country : </b>  China<br><b>Longitude :</b> 88.0924<br><b>Latitude :</b> 31.6927<br><b>Confirmed : </b> 1 <br><b>Recoverd : </b> 1 <br><b>Deaths : </b> 0 <br><b>Active : </b> 1 <br>\", \"<b>Country : </b>  Bangladesh<br><b>Longitude :</b> 90.3563<br><b>Latitude :</b> 23.685<br><b>Confirmed : </b> 773,513 <br><b>Recoverd : </b> 710,162 <br><b>Deaths : </b> 11,934 <br><b>Active : </b> 115,779 <br>\", \"<b>Country : </b>  Bhutan<br><b>Longitude :</b> 90.4336<br><b>Latitude :</b> 27.5142<br><b>Confirmed : </b> 1,221 <br><b>Recoverd : </b> 1,067 <br><b>Deaths : </b> 1 <br><b>Active : </b> 355 <br>\", \"<b>Country : </b>  Burma<br><b>Longitude :</b> 95.956<br><b>Latitude :</b> 21.9162<br><b>Confirmed : </b> 142,947 <br><b>Recoverd : </b> 132,013 <br><b>Deaths : </b> 3,210 <br><b>Active : </b> 19,859 <br>\", \"<b>Country : </b>  China<br><b>Longitude :</b> 95.9956<br><b>Latitude :</b> 35.7452<br><b>Confirmed : </b> 18 <br><b>Recoverd : </b> 18 <br><b>Deaths : </b> 0 <br><b>Active : </b> 15 <br>\", \"<b>Country : </b>  Thailand<br><b>Longitude :</b> 100.992541<br><b>Latitude :</b> 15.870032<br><b>Confirmed : </b> 83,375 <br><b>Recoverd : </b> 26,873 <br><b>Deaths : </b> 399 <br><b>Active : </b> 56,103 <br>\", \"<b>Country : </b>  China<br><b>Longitude :</b> 101.48700000000001<br><b>Latitude :</b> 24.974<br><b>Confirmed : </b> 348 <br><b>Recoverd : </b> 304 <br><b>Deaths : </b> 2 <br><b>Active : </b> 133 <br>\", \"<b>Country : </b>  Malaysia<br><b>Longitude :</b> 101.97576600000001<br><b>Latitude :</b> 4.210483999999999<br><b>Confirmed : </b> 440,677 <br><b>Recoverd : </b> 401,934 <br><b>Deaths : </b> 1,683 <br><b>Active : </b> 52,186 <br>\", \"<b>Country : </b>  Laos<br><b>Longitude :</b> 102.495496<br><b>Latitude :</b> 19.856270000000002<br><b>Confirmed : </b> 1,302 <br><b>Recoverd : </b> 232 <br><b>Deaths : </b> 1 <br><b>Active : </b> 1,083 <br>\", \"<b>Country : </b>  China<br><b>Longitude :</b> 102.7103<br><b>Latitude :</b> 30.6171<br><b>Confirmed : </b> 993 <br><b>Recoverd : </b> 959 <br><b>Deaths : </b> 3 <br><b>Active : </b> 350 <br>\", \"<b>Country : </b>  Singapore<br><b>Longitude :</b> 103.8333<br><b>Latitude :</b> 1.2833<br><b>Confirmed : </b> 61,359 <br><b>Recoverd : </b> 60,933 <br><b>Deaths : </b> 31 <br><b>Active : </b> 20,799 <br>\", \"<b>Country : </b>  Mongolia<br><b>Longitude :</b> 103.8467<br><b>Latitude :</b> 46.8625<br><b>Confirmed : </b> 45,459 <br><b>Recoverd : </b> 32,660 <br><b>Deaths : </b> 170 <br><b>Active : </b> 16,489 <br>\", \"<b>Country : </b>  China<br><b>Longitude :</b> 104.2861<br><b>Latitude :</b> 35.7518<br><b>Confirmed : </b> 193 <br><b>Recoverd : </b> 191 <br><b>Deaths : </b> 2 <br><b>Active : </b> 66 <br>\", \"<b>Country : </b>  Cambodia<br><b>Longitude :</b> 104.9167<br><b>Latitude :</b> 11.55<br><b>Confirmed : </b> 19,237 <br><b>Recoverd : </b> 7,641 <br><b>Deaths : </b> 120 <br><b>Active : </b> 11,476 <br>\", \"<b>Country : </b>  Russia<br><b>Longitude :</b> 105.31875600000001<br><b>Latitude :</b> 61.52401<br><b>Confirmed : </b> 4,824,621 <br><b>Recoverd : </b> 4,444,712 <br><b>Deaths : </b> 111,425 <br><b>Active : </b> 558,147 <br>\", \"<b>Country : </b>  China<br><b>Longitude :</b> 106.1655<br><b>Latitude :</b> 37.2692<br><b>Confirmed : </b> 76 <br><b>Recoverd : </b> 75 <br><b>Deaths : </b> 0 <br><b>Active : </b> 43 <br>\", \"<b>Country : </b>  China<br><b>Longitude :</b> 106.8748<br><b>Latitude :</b> 26.8154<br><b>Confirmed : </b> 147 <br><b>Recoverd : </b> 145 <br><b>Deaths : </b> 2 <br><b>Active : </b> 114 <br>\", \"<b>Country : </b>  China<br><b>Longitude :</b> 107.874<br><b>Latitude :</b> 30.0572<br><b>Confirmed : </b> 597 <br><b>Recoverd : </b> 585 <br><b>Deaths : </b> 6 <br><b>Active : </b> 423 <br>\", \"<b>Country : </b>  Vietnam<br><b>Longitude :</b> 108.277199<br><b>Latitude :</b> 14.058323999999999<br><b>Confirmed : </b> 3,412 <br><b>Recoverd : </b> 2,602 <br><b>Deaths : </b> 35 <br><b>Active : </b> 775 <br>\", \"<b>Country : </b>  China<br><b>Longitude :</b> 108.7881<br><b>Latitude :</b> 23.8298<br><b>Confirmed : </b> 275 <br><b>Recoverd : </b> 267 <br><b>Deaths : </b> 2 <br><b>Active : </b> 189 <br>\", \"<b>Country : </b>  China<br><b>Longitude :</b> 108.8701<br><b>Latitude :</b> 35.1917<br><b>Confirmed : </b> 594 <br><b>Recoverd : </b> 584 <br><b>Deaths : </b> 3 <br><b>Active : </b> 187 <br>\", \"<b>Country : </b>  China<br><b>Longitude :</b> 109.7453<br><b>Latitude :</b> 19.1959<br><b>Confirmed : </b> 188 <br><b>Recoverd : </b> 168 <br><b>Deaths : </b> 6 <br><b>Active : </b> 126 <br>\", \"<b>Country : </b>  China<br><b>Longitude :</b> 111.7088<br><b>Latitude :</b> 27.6104<br><b>Confirmed : </b> 1,045 <br><b>Recoverd : </b> 1,039 <br><b>Deaths : </b> 4 <br><b>Active : </b> 670 <br>\", \"<b>Country : </b>  China<br><b>Longitude :</b> 112.2707<br><b>Latitude :</b> 30.9756<br><b>Confirmed : </b> 68,158 <br><b>Recoverd : </b> 64,435 <br><b>Deaths : </b> 4,512 <br><b>Active : </b> 50,633 <br>\", \"<b>Country : </b>  China<br><b>Longitude :</b> 112.2922<br><b>Latitude :</b> 37.5777<br><b>Confirmed : </b> 251 <br><b>Recoverd : </b> 244 <br><b>Deaths : </b> 0 <br><b>Active : </b> 94 <br>\", \"<b>Country : </b>  China<br><b>Longitude :</b> 113.4244<br><b>Latitude :</b> 23.3417<br><b>Confirmed : </b> 2,372 <br><b>Recoverd : </b> 2,314 <br><b>Deaths : </b> 8 <br><b>Active : </b> 991 <br>\", \"<b>Country : </b>  China<br><b>Longitude :</b> 113.55<br><b>Latitude :</b> 22.1667<br><b>Confirmed : </b> 49 <br><b>Recoverd : </b> 49 <br><b>Deaths : </b> 0 <br><b>Active : </b> 35 <br>\", \"<b>Country : </b>  Indonesia<br><b>Longitude :</b> 113.9213<br><b>Latitude :</b> -0.7893<br><b>Confirmed : </b> 1,713,684 <br><b>Recoverd : </b> 1,568,277 <br><b>Deaths : </b> 47,012 <br><b>Active : </b> 176,672 <br>\", \"<b>Country : </b>  China<br><b>Longitude :</b> 113.9448<br><b>Latitude :</b> 44.0935<br><b>Confirmed : </b> 382 <br><b>Recoverd : </b> 378 <br><b>Deaths : </b> 1 <br><b>Active : </b> 106 <br>\", \"<b>Country : </b>  China<br><b>Longitude :</b> 114.2<br><b>Latitude :</b> 22.3<br><b>Confirmed : </b> 11,807 <br><b>Recoverd : </b> 11,493 <br><b>Deaths : </b> 210 <br><b>Active : </b> 1,517 <br>\", \"<b>Country : </b>  Brunei<br><b>Longitude :</b> 114.7277<br><b>Latitude :</b> 4.5353<br><b>Confirmed : </b> 230 <br><b>Recoverd : </b> 218 <br><b>Deaths : </b> 3 <br><b>Active : </b> 109 <br>\", \"<b>Country : </b>  China<br><b>Longitude :</b> 114.9042<br><b>Latitude :</b> 37.8957<br><b>Confirmed : </b> 1,312 <br><b>Recoverd : </b> 1,310 <br><b>Deaths : </b> 22 <br><b>Active : </b> 1,113 <br>\", \"<b>Country : </b>  China<br><b>Longitude :</b> 115.7221<br><b>Latitude :</b> 27.614<br><b>Confirmed : </b> 937 <br><b>Recoverd : </b> 936 <br><b>Deaths : </b> 1 <br><b>Active : </b> 712 <br>\", \"<b>Country : </b>  Australia<br><b>Longitude :</b> 115.8605<br><b>Latitude :</b> -31.9505<br><b>Confirmed : </b> 1,013 <br><b>Recoverd : </b> 986 <br><b>Deaths : </b> 9 <br><b>Active : </b> 358 <br>\", \"<b>Country : </b>  China<br><b>Longitude :</b> 116.1306<br><b>Latitude :</b> 39.549<br><b>Confirmed : </b> 1,317 <br><b>Recoverd : </b> 0 <br><b>Deaths : </b> 7 <br><b>Active : </b> 1,310 <br>\", \"<b>Country : </b>  China<br><b>Longitude :</b> 116.4142<br><b>Latitude :</b> 40.1824<br><b>Confirmed : </b> 1,057 <br><b>Recoverd : </b> 1,046 <br><b>Deaths : </b> 9 <br><b>Active : </b> 326 <br>\", \"<b>Country : </b>  China<br><b>Longitude :</b> 117.2264<br><b>Latitude :</b> 31.8257<br><b>Confirmed : </b> 994 <br><b>Recoverd : </b> 988 <br><b>Deaths : </b> 6 <br><b>Active : </b> 758 <br>\", \"<b>Country : </b>  China<br><b>Longitude :</b> 117.323<br><b>Latitude :</b> 39.3054<br><b>Confirmed : </b> 387 <br><b>Recoverd : </b> 378 <br><b>Deaths : </b> 3 <br><b>Active : </b> 99 <br>\", \"<b>Country : </b>  China<br><b>Longitude :</b> 117.9874<br><b>Latitude :</b> 26.0789<br><b>Confirmed : </b> 595 <br><b>Recoverd : </b> 569 <br><b>Deaths : </b> 1 <br><b>Active : </b> 222 <br>\", \"<b>Country : </b>  China<br><b>Longitude :</b> 118.1498<br><b>Latitude :</b> 36.3427<br><b>Confirmed : </b> 879 <br><b>Recoverd : </b> 869 <br><b>Deaths : </b> 7 <br><b>Active : </b> 464 <br>\", \"<b>Country : </b>  China<br><b>Longitude :</b> 119.455<br><b>Latitude :</b> 32.9711<br><b>Confirmed : </b> 720 <br><b>Recoverd : </b> 712 <br><b>Deaths : </b> 0 <br><b>Active : </b> 436 <br>\", \"<b>Country : </b>  China<br><b>Longitude :</b> 120.0934<br><b>Latitude :</b> 29.1832<br><b>Confirmed : </b> 1,346 <br><b>Recoverd : </b> 1,322 <br><b>Deaths : </b> 1 <br><b>Active : </b> 883 <br>\", \"<b>Country : </b>  Taiwan*<br><b>Longitude :</b> 121.0<br><b>Latitude :</b> 23.7<br><b>Confirmed : </b> 1,184 <br><b>Recoverd : </b> 1,089 <br><b>Deaths : </b> 12 <br><b>Active : </b> 314 <br>\", \"<b>Country : </b>  China<br><b>Longitude :</b> 121.4491<br><b>Latitude :</b> 31.201999999999998<br><b>Confirmed : </b> 2,016 <br><b>Recoverd : </b> 1,950 <br><b>Deaths : </b> 7 <br><b>Active : </b> 253 <br>\", \"<b>Country : </b>  Philippines<br><b>Longitude :</b> 121.77401699999999<br><b>Latitude :</b> 12.879721<br><b>Confirmed : </b> 1,101,990 <br><b>Recoverd : </b> 1,022,224 <br><b>Deaths : </b> 18,472 <br><b>Active : </b> 203,710 <br>\", \"<b>Country : </b>  China<br><b>Longitude :</b> 122.6085<br><b>Latitude :</b> 41.2956<br><b>Confirmed : </b> 408 <br><b>Recoverd : </b> 406 <br><b>Deaths : </b> 2 <br><b>Active : </b> 97 <br>\", \"<b>Country : </b>  Timor-Leste<br><b>Longitude :</b> 125.727539<br><b>Latitude :</b> -8.874217<br><b>Confirmed : </b> 3,227 <br><b>Recoverd : </b> 0 <br><b>Deaths : </b> 4 <br><b>Active : </b> 3,223 <br>\", \"<b>Country : </b>  China<br><b>Longitude :</b> 126.1923<br><b>Latitude :</b> 43.6661<br><b>Confirmed : </b> 573 <br><b>Recoverd : </b> 570 <br><b>Deaths : </b> 3 <br><b>Active : </b> 350 <br>\", \"<b>Country : </b>  China<br><b>Longitude :</b> 127.7615<br><b>Latitude :</b> 47.861999999999995<br><b>Confirmed : </b> 1,610 <br><b>Recoverd : </b> 1,597 <br><b>Deaths : </b> 13 <br><b>Active : </b> 527 <br>\", \"<b>Country : </b>  Korea, South<br><b>Longitude :</b> 127.766922<br><b>Latitude :</b> 35.907757000000004<br><b>Confirmed : </b> 127,772 <br><b>Recoverd : </b> 117,844 <br><b>Deaths : </b> 1,875 <br><b>Active : </b> 18,073 <br>\", \"<b>Country : </b>  Australia<br><b>Longitude :</b> 130.8456<br><b>Latitude :</b> -12.4634<br><b>Confirmed : </b> 167 <br><b>Recoverd : </b> 155 <br><b>Deaths : </b> 0 <br><b>Active : </b> 53 <br>\", \"<b>Country : </b>  Japan<br><b>Longitude :</b> 138.252924<br><b>Latitude :</b> 36.204824<br><b>Confirmed : </b> 642,146 <br><b>Recoverd : </b> 555,245 <br><b>Deaths : </b> 10,860 <br><b>Active : </b> 78,740 <br>\", \"<b>Country : </b>  Australia<br><b>Longitude :</b> 138.6007<br><b>Latitude :</b> -34.9285<br><b>Confirmed : </b> 740 <br><b>Recoverd : </b> 710 <br><b>Deaths : </b> 4 <br><b>Active : </b> 361 <br>\", \"<b>Country : </b>  Papua New Guinea<br><b>Longitude :</b> 143.95555<br><b>Latitude :</b> -6.314993<br><b>Confirmed : </b> 11,630 <br><b>Recoverd : </b> 10,312 <br><b>Deaths : </b> 121 <br><b>Active : </b> 9,015 <br>\", \"<b>Country : </b>  Australia<br><b>Longitude :</b> 144.9631<br><b>Latitude :</b> -37.8136<br><b>Confirmed : </b> 20,535 <br><b>Recoverd : </b> 19,692 <br><b>Deaths : </b> 820 <br><b>Active : </b> 8,490 <br>\", \"<b>Country : </b>  Australia<br><b>Longitude :</b> 147.3272<br><b>Latitude :</b> -42.8821<br><b>Confirmed : </b> 234 <br><b>Recoverd : </b> 221 <br><b>Deaths : </b> 13 <br><b>Active : </b> 122 <br>\", \"<b>Country : </b>  Australia<br><b>Longitude :</b> 149.0124<br><b>Latitude :</b> -35.4735<br><b>Confirmed : </b> 124 <br><b>Recoverd : </b> 121 <br><b>Deaths : </b> 3 <br><b>Active : </b> 76 <br>\", \"<b>Country : </b>  France<br><b>Longitude :</b> 149.4068<br><b>Latitude :</b> -17.6797<br><b>Confirmed : </b> 18,790 <br><b>Recoverd : </b> 18,617 <br><b>Deaths : </b> 141 <br><b>Active : </b> 13,775 <br>\", \"<b>Country : </b>  Micronesia<br><b>Longitude :</b> 150.5508<br><b>Latitude :</b> 7.4256<br><b>Confirmed : </b> 1 <br><b>Recoverd : </b> 1 <br><b>Deaths : </b> 0 <br><b>Active : </b> 1 <br>\", \"<b>Country : </b>  Australia<br><b>Longitude :</b> 151.2093<br><b>Latitude :</b> -33.8688<br><b>Confirmed : </b> 5,538 <br><b>Recoverd : </b> 2,997 <br><b>Deaths : </b> 54 <br><b>Active : </b> 5,484 <br>\", \"<b>Country : </b>  Australia<br><b>Longitude :</b> 153.0251<br><b>Latitude :</b> -27.4698<br><b>Confirmed : </b> 1,580 <br><b>Recoverd : </b> 1,552 <br><b>Deaths : </b> 7 <br><b>Active : </b> 895 <br>\", \"<b>Country : </b>  Solomon Islands<br><b>Longitude :</b> 160.1562<br><b>Latitude :</b> -9.6457<br><b>Confirmed : </b> 20 <br><b>Recoverd : </b> 20 <br><b>Deaths : </b> 0 <br><b>Active : </b> 12 <br>\", \"<b>Country : </b>  France<br><b>Longitude :</b> 165.618042<br><b>Latitude :</b> -20.904304999999997<br><b>Confirmed : </b> 124 <br><b>Recoverd : </b> 58 <br><b>Deaths : </b> 0 <br><b>Active : </b> 66 <br>\", \"<b>Country : </b>  Vanuatu<br><b>Longitude :</b> 166.9592<br><b>Latitude :</b> -15.3767<br><b>Confirmed : </b> 4 <br><b>Recoverd : </b> 3 <br><b>Deaths : </b> 1 <br><b>Active : </b> 2 <br>\", \"<b>Country : </b>  Marshall Islands<br><b>Longitude :</b> 171.1845<br><b>Latitude :</b> 7.1315<br><b>Confirmed : </b> 4 <br><b>Recoverd : </b> 4 <br><b>Deaths : </b> 0 <br><b>Active : </b> 3 <br>\", \"<b>Country : </b>  New Zealand<br><b>Longitude :</b> 174.886<br><b>Latitude :</b> -40.9006<br><b>Confirmed : </b> 2,644 <br><b>Recoverd : </b> 2,591 <br><b>Deaths : </b> 26 <br><b>Active : </b> 929 <br>\", \"<b>Country : </b>  Fiji<br><b>Longitude :</b> 178.065<br><b>Latitude :</b> -17.7134<br><b>Confirmed : </b> 139 <br><b>Recoverd : </b> 98 <br><b>Deaths : </b> 3 <br><b>Active : </b> 51 <br>\"], \"lat\": [-14.2938, -13.759, 64.2823, 53.7267, 64.8255, 53.9333, 52.9399, 23.6345, 40.0, 53.7609, 15.7835, 13.7942, 17.1899, 15.2, 51.2538, 12.865416, 9.7489, 70.2998, 19.3133, 8.538, -1.8312, 25.025885, 21.521757, 18.1096, -9.19, 4.5709, 52.9399, 18.9712, 21.694000000000003, -35.6751, 18.7357, 12.5211, 12.1696, 12.1784, 6.4238, 46.5653, 32.3078, 18.4207, 44.681999999999995, -38.4161, -16.2902, 46.5107, 18.2206, 18.0425, 18.0708, 17.9, 17.357822, 16.742498, 17.0608, 12.1165, 16.265, 15.415, 12.9843, 10.6918, 14.6415, 13.9094, 13.1939, -51.7963, 4.860416000000001, -23.4425, 53.1355, 46.8852, 3.9193, -32.5228, 3.9339, -14.235, 71.7069, 16.5388, 64.9631, 13.4432, 11.8037, 14.4974, -7.9467, 8.460555000000001, 21.0079, 9.9456, 6.4280550000000005, 39.3999, 53.1424, 31.7917, 61.8926, 7.54, 36.1408, 54.2361, 17.570692, 40.463667, 55.3781, 49.3723, 12.2383, 7.9465, 0.0, 0.0, 0.0, 8.6195, 42.5063, 28.0339, 46.2276, 9.3077, 50.8333, 52.1326, 49.8153, 0.1864, 43.7333, 17.607789, 46.8182, 60.472, 9.082, 56.2639, 33.886917, 47.14, 1.6508, 51.165690999999995, 3.8480000000000003, -0.8037, 41.9029, 43.9424, 41.87194, 35.9375, 47.5162, 46.1512, 45.1, 49.8175, -0.228, 26.3351, 43.9159, -11.2027, -22.9576, 60.128161, 15.4542, 51.9194, 42.708678000000006, 47.1625, 48.669, 41.1533, 42.602636, 6.6111, 44.0165, 41.6086, -4.0383, 39.0742, -30.5595, 55.1694, 56.8796, -22.3285, 45.9432, 58.5953, 42.7339, 61.92411, -13.133897, 53.7098, -29.61, 47.4116, -19.015438, -1.9403, -3.3731, 12.8628, 26.820553000000004, 48.3794, 6.877000000000001, -26.5225, 1.373333, 35.1264, -13.2543, 31.046051000000002, -6.369028, 31.9522, 38.9637, -18.665695, 33.8547, 31.24, -0.0236, 34.802075, 15.1794, 9.145, 11.8251, -11.6455, 42.3154, 33.223191, 40.0691, 23.885942, -12.8275, 5.152149, -18.766947000000002, 29.311659999999996, 40.1431, 15.552726999999999, 26.0275, 25.3548, 32.427908, 23.424076, -4.6796, -21.1151, 21.512583, -20.348404000000002, 41.377491, 48.0196, 33.93911, 30.3753, 38.861, 3.2028, 41.20438, 20.593684, 7.873054, 28.1667, 41.1129, 31.6927, 23.685, 27.5142, 21.9162, 35.7452, 15.870032, 24.974, 4.210483999999999, 19.856270000000002, 30.6171, 1.2833, 46.8625, 35.7518, 11.55, 61.52401, 37.2692, 26.8154, 30.0572, 14.058323999999999, 23.8298, 35.1917, 19.1959, 27.6104, 30.9756, 37.5777, 23.3417, 22.1667, -0.7893, 44.0935, 22.3, 4.5353, 37.8957, 27.614, -31.9505, 39.549, 40.1824, 31.8257, 39.3054, 26.0789, 36.3427, 32.9711, 29.1832, 23.7, 31.201999999999998, 12.879721, 41.2956, -8.874217, 43.6661, 47.861999999999995, 35.907757000000004, -12.4634, 36.204824, -34.9285, -6.314993, -37.8136, -42.8821, -35.4735, -17.6797, 7.4256, -33.8688, -27.4698, -9.6457, -20.904304999999997, -15.3767, 7.1315, -40.9006, -17.7134], \"lon\": [-178.1165, -172.1046, -135.0, -127.6476, -124.8457, -116.5765, -106.4509, -102.5528, -100.0, -98.8139, -90.2308, -88.8965, -88.4976, -86.2419, -85.3232, -85.207229, -83.7534, -83.1076, -81.2546, -80.7821, -78.1834, -78.035889, -77.78116700000001, -77.2975, -75.0152, -74.2973, -73.5491, -72.2852, -71.7979, -71.543, -70.1627, -69.9683, -68.99, -68.2385, -66.5897, -66.4619, -64.7505, -64.64, -63.7443, -63.6167, -63.5887, -63.4168, -63.0686, -63.0548, -63.0501, -62.8333, -62.782998, -62.187366000000004, -61.7964, -61.678999999999995, -61.551, -61.371, -61.2872, -61.2225, -61.0242, -60.9789, -59.5432, -59.5236, -58.93018000000001, -58.4438, -57.6604, -56.3159, -56.0278, -55.7658, -53.1258, -51.9253, -42.6043, -23.0418, -19.0208, -15.3101, -15.1804, -14.4524, -14.3559, -11.779889, -10.9408, -9.6966, -9.429499, -8.2245, -7.6921, -7.0926, -6.9118, -5.5471, -5.3536, -4.5481, -3.9961660000000006, -3.7492199999999998, -3.4360000000000004, -2.3644, -1.5616, -1.0232, 0.0, 0.0, 0.0, 0.8248, 1.5218, 1.6596, 2.2137, 2.3158, 4.469936, 5.2913, 6.1296, 6.6131, 7.4167, 8.081666, 8.2275, 8.4689, 8.6753, 9.5018, 9.537499, 9.55, 10.2679, 10.451526, 11.5021, 11.6094, 12.4534, 12.4578, 12.56738, 14.3754, 14.5501, 14.9955, 15.2, 15.472999999999999, 15.8277, 17.228331, 17.6791, 17.8739, 18.4904, 18.643501, 18.7322, 19.1451, 19.37439, 19.5033, 19.699, 20.1683, 20.902977, 20.9394, 21.0059, 21.7453, 21.7587, 21.8243, 22.9375, 23.8813, 24.6032, 24.6849, 24.9668, 25.0136, 25.4858, 25.748151, 27.849332, 27.9534, 28.2336, 28.3699, 29.154857, 29.8739, 29.9189, 30.2176, 30.802497999999996, 31.1656, 31.307, 31.4659, 32.290275, 33.4299, 34.3015, 34.851612, 34.888822, 35.2332, 35.2433, 35.529562, 35.8623, 36.51, 37.9062, 38.996815000000005, 39.7823, 40.4897, 42.5903, 43.3333, 43.3569, 43.679291, 45.0382, 45.079162, 45.166244, 46.199616, 46.869107, 47.481766, 47.5769, 48.516388, 50.55, 51.1839, 53.68804599999999, 53.847818000000004, 55.492, 55.5364, 55.923255000000005, 57.552152, 64.585262, 66.9237, 67.709953, 69.3451, 71.2761, 73.2207, 74.766098, 78.96288, 80.77179699999999, 84.25, 85.2401, 88.0924, 90.3563, 90.4336, 95.956, 95.9956, 100.992541, 101.48700000000001, 101.97576600000001, 102.495496, 102.7103, 103.8333, 103.8467, 104.2861, 104.9167, 105.31875600000001, 106.1655, 106.8748, 107.874, 108.277199, 108.7881, 108.8701, 109.7453, 111.7088, 112.2707, 112.2922, 113.4244, 113.55, 113.9213, 113.9448, 114.2, 114.7277, 114.9042, 115.7221, 115.8605, 116.1306, 116.4142, 117.2264, 117.323, 117.9874, 118.1498, 119.455, 120.0934, 121.0, 121.4491, 121.77401699999999, 122.6085, 125.727539, 126.1923, 127.7615, 127.766922, 130.8456, 138.252924, 138.6007, 143.95555, 144.9631, 147.3272, 149.0124, 149.4068, 150.5508, 151.2093, 153.0251, 160.1562, 165.618042, 166.9592, 171.1845, 174.886, 178.065], \"marker\": {\"color\": [445, 3, 82, 134341, 105, 208790, 43141, 2365792, 32707750, 41953, 235098, 70380, 12686, 219288, 499246, 6989, 265486, 565, 548, 367656, 400296, 10773, 115981, 46708, 1850290, 3002758, 358134, 13164, 2402, 1247469, 271548, 10770, 12235, 1581, 207870, 2002, 2434, 216, 3919, 3147740, 317547, 183, 99, 2260, 1773, 974, 45, 20, 1232, 160, 15429, 175, 1912, 13355, 11490, 4654, 3942, 63, 14362, 297789, 1138, 25, 11112, 220683, 20366, 15184790, 31, 26441, 6506, 5929, 3741, 40692, 4, 4068, 18667, 22633, 2114, 839582, 252809, 513864, 668, 46442, 4291, 1590, 14108, 3567408, 4434860, 4111, 13379, 92951, 13, 712, 9, 13154, 13423, 124104, 5727293, 7884, 1016609, 1560022, 68153, 2318, 2479, 5319, 670613, 116365, 165419, 259056, 320813, 2970, 7694, 3530887, 74946, 23432, 27, 5067, 4111210, 30447, 631076, 246082, 344494, 1645061, 11147, 179970, 200693, 28740, 50070, 1007792, 4877, 2833052, 98303, 791709, 385475, 131723, 105784, 6674, 700408, 154026, 30323, 362004, 1596595, 257827, 123963, 48417, 1066111, 125126, 410202, 88723, 92092, 368888, 10773, 252749, 38419, 25652, 4177, 34461, 237410, 2175151, 10637, 18480, 42355, 69432, 34171, 838894, 509, 301751, 5031332, 70212, 532839, 719233, 163554, 23379, 3742, 262702, 11335, 3854, 321919, 1112725, 219270, 426384, 20134, 14415, 39012, 285068, 326716, 6482, 189356, 210992, 2654811, 536017, 6373, 21451, 201350, 1246, 94397, 398272, 61842, 858026, 13308, 35815, 98400, 22662575, 125906, 394667, 980, 1, 773513, 1221, 142947, 18, 83375, 348, 440677, 1302, 993, 61359, 45459, 193, 19237, 4824621, 76, 147, 597, 3412, 275, 594, 188, 1045, 68158, 251, 2372, 49, 1713684, 382, 11807, 230, 1312, 937, 1013, 1317, 1057, 994, 387, 595, 879, 720, 1346, 1184, 2016, 1101990, 408, 3227, 573, 1610, 127772, 167, 642146, 740, 11630, 20535, 234, 124, 18790, 1, 5538, 1580, 20, 124, 4, 4, 2644, 139], \"colorscale\": [[0.0, \"#ff0000\"], [0.1111111111111111, \"#ffa700\"], [0.2222222222222222, \"#afff00\"], [0.3333333333333333, \"#08ff00\"], [0.4444444444444444, \"#00ff9f\"], [0.5555555555555556, \"#00b7ff\"], [0.6666666666666666, \"#0010ff\"], [0.7777777777777778, \"#9700ff\"], [0.8888888888888888, \"#ff00bf\"], [1.0, \"#ff0000\"]], \"opacity\": 0.3, \"size\": [0.2966666666666667, 0.002, 0.05466666666666667, 89.56066666666666, 0.07, 139.19333333333333, 28.760666666666665, 1577.1946666666668, 21805.166666666668, 27.968666666666667, 156.732, 46.92, 8.457333333333333, 146.192, 332.8306666666667, 4.6593333333333335, 176.99066666666667, 0.37666666666666665, 0.36533333333333334, 245.104, 266.864, 7.182, 77.32066666666667, 31.138666666666666, 1233.5266666666666, 2001.8386666666668, 238.756, 8.776, 1.6013333333333333, 831.646, 181.032, 7.18, 8.156666666666666, 1.054, 138.58, 1.3346666666666667, 1.6226666666666667, 0.144, 2.6126666666666667, 2098.4933333333333, 211.698, 0.122, 0.066, 1.5066666666666666, 1.182, 0.6493333333333333, 0.03, 0.013333333333333334, 0.8213333333333334, 0.10666666666666667, 10.286, 0.11666666666666667, 1.2746666666666666, 8.903333333333334, 7.66, 3.1026666666666665, 2.628, 0.042, 9.574666666666667, 198.526, 0.7586666666666667, 0.016666666666666666, 7.408, 147.122, 13.577333333333334, 10123.193333333333, 0.020666666666666667, 17.627333333333333, 4.3373333333333335, 3.9526666666666666, 2.494, 27.128, 0.0026666666666666666, 2.712, 12.444666666666667, 15.088666666666667, 1.4093333333333333, 559.7213333333333, 168.53933333333333, 342.576, 0.44533333333333336, 30.961333333333332, 2.8606666666666665, 1.06, 9.405333333333333, 2378.272, 2956.5733333333333, 2.740666666666667, 8.919333333333332, 61.967333333333336, 0.008666666666666666, 0.4746666666666667, 0.006, 8.769333333333334, 8.948666666666666, 82.736, 3818.195333333333, 5.256, 677.7393333333333, 1040.0146666666667, 45.43533333333333, 1.5453333333333332, 1.6526666666666667, 3.546, 447.07533333333333, 77.57666666666667, 110.27933333333333, 172.704, 213.87533333333334, 1.98, 5.129333333333333, 2353.924666666667, 49.964, 15.621333333333334, 0.018, 3.378, 2740.806666666667, 20.298, 420.71733333333333, 164.05466666666666, 229.66266666666667, 1096.7073333333333, 7.431333333333333, 119.98, 133.79533333333333, 19.16, 33.38, 671.8613333333333, 3.251333333333333, 1888.7013333333334, 65.53533333333333, 527.806, 256.98333333333335, 87.81533333333333, 70.52266666666667, 4.449333333333334, 466.9386666666667, 102.684, 20.215333333333334, 241.336, 1064.3966666666668, 171.88466666666667, 82.642, 32.278, 710.7406666666667, 83.41733333333333, 273.468, 59.148666666666664, 61.394666666666666, 245.92533333333333, 7.182, 168.49933333333334, 25.612666666666666, 17.101333333333333, 2.784666666666667, 22.974, 158.27333333333334, 1450.1006666666667, 7.091333333333333, 12.32, 28.236666666666668, 46.288, 22.780666666666665, 559.2626666666666, 0.3393333333333333, 201.16733333333335, 3354.2213333333334, 46.808, 355.226, 479.4886666666667, 109.036, 15.586, 2.494666666666667, 175.13466666666667, 7.556666666666667, 2.5693333333333332, 214.61266666666666, 741.8166666666667, 146.18, 284.256, 13.422666666666666, 9.61, 26.008, 190.04533333333333, 217.81066666666666, 4.3213333333333335, 126.23733333333334, 140.66133333333335, 1769.874, 357.3446666666667, 4.248666666666667, 14.300666666666666, 134.23333333333332, 0.8306666666666667, 62.931333333333335, 265.51466666666664, 41.228, 572.0173333333333, 8.872, 23.876666666666665, 65.6, 15108.383333333333, 83.93733333333333, 263.11133333333333, 0.6533333333333333, 0.0006666666666666666, 515.6753333333334, 0.814, 95.298, 0.012, 55.583333333333336, 0.232, 293.7846666666667, 0.868, 0.662, 40.906, 30.306, 0.12866666666666668, 12.824666666666667, 3216.414, 0.050666666666666665, 0.098, 0.398, 2.2746666666666666, 0.18333333333333332, 0.396, 0.12533333333333332, 0.6966666666666667, 45.43866666666667, 0.16733333333333333, 1.5813333333333333, 0.03266666666666666, 1142.456, 0.25466666666666665, 7.871333333333333, 0.15333333333333332, 0.8746666666666667, 0.6246666666666667, 0.6753333333333333, 0.878, 0.7046666666666667, 0.6626666666666666, 0.258, 0.39666666666666667, 0.586, 0.48, 0.8973333333333333, 0.7893333333333333, 1.344, 734.66, 0.272, 2.1513333333333335, 0.382, 1.0733333333333333, 85.18133333333333, 0.11133333333333334, 428.0973333333333, 0.49333333333333335, 7.753333333333333, 13.69, 0.156, 0.08266666666666667, 12.526666666666667, 0.0006666666666666666, 3.692, 1.0533333333333332, 0.013333333333333334, 0.08266666666666667, 0.0026666666666666666, 0.0026666666666666666, 1.7626666666666666, 0.09266666666666666], \"sizemode\": \"area\"}, \"mode\": \"markers\", \"type\": \"scattermapbox\"}],                        {\"mapbox\": {\"center\": {\"lat\": -0.02, \"lon\": 37}, \"style\": \"stamen-terrain\", \"zoom\": 1.3}, \"margin\": {\"b\": 0, \"l\": 0, \"r\": 0}, \"showlegend\": false, \"template\": {\"data\": {\"bar\": [{\"error_x\": {\"color\": \"#2a3f5f\"}, \"error_y\": {\"color\": \"#2a3f5f\"}, \"marker\": {\"line\": {\"color\": \"#E5ECF6\", \"width\": 0.5}}, \"type\": \"bar\"}], \"barpolar\": [{\"marker\": {\"line\": {\"color\": \"#E5ECF6\", \"width\": 0.5}}, \"type\": \"barpolar\"}], \"carpet\": [{\"aaxis\": {\"endlinecolor\": \"#2a3f5f\", \"gridcolor\": \"white\", \"linecolor\": \"white\", \"minorgridcolor\": \"white\", \"startlinecolor\": \"#2a3f5f\"}, \"baxis\": {\"endlinecolor\": \"#2a3f5f\", \"gridcolor\": \"white\", \"linecolor\": \"white\", \"minorgridcolor\": \"white\", \"startlinecolor\": \"#2a3f5f\"}, \"type\": \"carpet\"}], \"choropleth\": [{\"colorbar\": {\"outlinewidth\": 0, \"ticks\": \"\"}, \"type\": \"choropleth\"}], \"contour\": [{\"colorbar\": {\"outlinewidth\": 0, \"ticks\": \"\"}, \"colorscale\": [[0.0, \"#0d0887\"], [0.1111111111111111, \"#46039f\"], [0.2222222222222222, \"#7201a8\"], [0.3333333333333333, \"#9c179e\"], [0.4444444444444444, \"#bd3786\"], [0.5555555555555556, \"#d8576b\"], [0.6666666666666666, \"#ed7953\"], [0.7777777777777778, \"#fb9f3a\"], [0.8888888888888888, \"#fdca26\"], [1.0, \"#f0f921\"]], \"type\": \"contour\"}], \"contourcarpet\": [{\"colorbar\": {\"outlinewidth\": 0, \"ticks\": \"\"}, \"type\": \"contourcarpet\"}], \"heatmap\": [{\"colorbar\": {\"outlinewidth\": 0, \"ticks\": \"\"}, \"colorscale\": [[0.0, \"#0d0887\"], [0.1111111111111111, \"#46039f\"], [0.2222222222222222, \"#7201a8\"], [0.3333333333333333, \"#9c179e\"], [0.4444444444444444, \"#bd3786\"], [0.5555555555555556, \"#d8576b\"], [0.6666666666666666, \"#ed7953\"], [0.7777777777777778, \"#fb9f3a\"], [0.8888888888888888, \"#fdca26\"], [1.0, \"#f0f921\"]], \"type\": \"heatmap\"}], \"heatmapgl\": [{\"colorbar\": {\"outlinewidth\": 0, \"ticks\": \"\"}, \"colorscale\": [[0.0, \"#0d0887\"], [0.1111111111111111, \"#46039f\"], [0.2222222222222222, \"#7201a8\"], [0.3333333333333333, \"#9c179e\"], [0.4444444444444444, \"#bd3786\"], [0.5555555555555556, \"#d8576b\"], [0.6666666666666666, \"#ed7953\"], [0.7777777777777778, \"#fb9f3a\"], [0.8888888888888888, \"#fdca26\"], [1.0, \"#f0f921\"]], \"type\": \"heatmapgl\"}], \"histogram\": [{\"marker\": {\"colorbar\": {\"outlinewidth\": 0, \"ticks\": \"\"}}, \"type\": \"histogram\"}], \"histogram2d\": [{\"colorbar\": {\"outlinewidth\": 0, \"ticks\": \"\"}, \"colorscale\": [[0.0, \"#0d0887\"], [0.1111111111111111, \"#46039f\"], [0.2222222222222222, \"#7201a8\"], [0.3333333333333333, \"#9c179e\"], [0.4444444444444444, \"#bd3786\"], [0.5555555555555556, \"#d8576b\"], [0.6666666666666666, \"#ed7953\"], [0.7777777777777778, \"#fb9f3a\"], [0.8888888888888888, \"#fdca26\"], [1.0, \"#f0f921\"]], \"type\": \"histogram2d\"}], \"histogram2dcontour\": [{\"colorbar\": {\"outlinewidth\": 0, \"ticks\": \"\"}, \"colorscale\": [[0.0, \"#0d0887\"], [0.1111111111111111, \"#46039f\"], [0.2222222222222222, \"#7201a8\"], [0.3333333333333333, \"#9c179e\"], [0.4444444444444444, \"#bd3786\"], [0.5555555555555556, \"#d8576b\"], [0.6666666666666666, \"#ed7953\"], [0.7777777777777778, \"#fb9f3a\"], [0.8888888888888888, \"#fdca26\"], [1.0, \"#f0f921\"]], \"type\": \"histogram2dcontour\"}], \"mesh3d\": [{\"colorbar\": {\"outlinewidth\": 0, \"ticks\": \"\"}, \"type\": \"mesh3d\"}], \"parcoords\": [{\"line\": {\"colorbar\": {\"outlinewidth\": 0, \"ticks\": \"\"}}, \"type\": \"parcoords\"}], \"pie\": [{\"automargin\": true, \"type\": \"pie\"}], \"scatter\": [{\"marker\": {\"colorbar\": {\"outlinewidth\": 0, \"ticks\": \"\"}}, \"type\": \"scatter\"}], \"scatter3d\": [{\"line\": {\"colorbar\": {\"outlinewidth\": 0, \"ticks\": \"\"}}, \"marker\": {\"colorbar\": {\"outlinewidth\": 0, \"ticks\": \"\"}}, \"type\": \"scatter3d\"}], \"scattercarpet\": [{\"marker\": {\"colorbar\": {\"outlinewidth\": 0, \"ticks\": \"\"}}, \"type\": \"scattercarpet\"}], \"scattergeo\": [{\"marker\": {\"colorbar\": {\"outlinewidth\": 0, \"ticks\": \"\"}}, \"type\": \"scattergeo\"}], \"scattergl\": [{\"marker\": {\"colorbar\": {\"outlinewidth\": 0, \"ticks\": \"\"}}, \"type\": \"scattergl\"}], \"scattermapbox\": [{\"marker\": {\"colorbar\": {\"outlinewidth\": 0, \"ticks\": \"\"}}, \"type\": \"scattermapbox\"}], \"scatterpolar\": [{\"marker\": {\"colorbar\": {\"outlinewidth\": 0, \"ticks\": \"\"}}, \"type\": \"scatterpolar\"}], \"scatterpolargl\": [{\"marker\": {\"colorbar\": {\"outlinewidth\": 0, \"ticks\": \"\"}}, \"type\": \"scatterpolargl\"}], \"scatterternary\": [{\"marker\": {\"colorbar\": {\"outlinewidth\": 0, \"ticks\": \"\"}}, \"type\": \"scatterternary\"}], \"surface\": [{\"colorbar\": {\"outlinewidth\": 0, \"ticks\": \"\"}, \"colorscale\": [[0.0, \"#0d0887\"], [0.1111111111111111, \"#46039f\"], [0.2222222222222222, \"#7201a8\"], [0.3333333333333333, \"#9c179e\"], [0.4444444444444444, \"#bd3786\"], [0.5555555555555556, \"#d8576b\"], [0.6666666666666666, \"#ed7953\"], [0.7777777777777778, \"#fb9f3a\"], [0.8888888888888888, \"#fdca26\"], [1.0, \"#f0f921\"]], \"type\": \"surface\"}], \"table\": [{\"cells\": {\"fill\": {\"color\": \"#EBF0F8\"}, \"line\": {\"color\": \"white\"}}, \"header\": {\"fill\": {\"color\": \"#C8D4E3\"}, \"line\": {\"color\": \"white\"}}, \"type\": \"table\"}]}, \"layout\": {\"annotationdefaults\": {\"arrowcolor\": \"#2a3f5f\", \"arrowhead\": 0, \"arrowwidth\": 1}, \"autotypenumbers\": \"strict\", \"coloraxis\": {\"colorbar\": {\"outlinewidth\": 0, \"ticks\": \"\"}}, \"colorscale\": {\"diverging\": [[0, \"#8e0152\"], [0.1, \"#c51b7d\"], [0.2, \"#de77ae\"], [0.3, \"#f1b6da\"], [0.4, \"#fde0ef\"], [0.5, \"#f7f7f7\"], [0.6, \"#e6f5d0\"], [0.7, \"#b8e186\"], [0.8, \"#7fbc41\"], [0.9, \"#4d9221\"], [1, \"#276419\"]], \"sequential\": [[0.0, \"#0d0887\"], [0.1111111111111111, \"#46039f\"], [0.2222222222222222, \"#7201a8\"], [0.3333333333333333, \"#9c179e\"], [0.4444444444444444, \"#bd3786\"], [0.5555555555555556, \"#d8576b\"], [0.6666666666666666, \"#ed7953\"], [0.7777777777777778, \"#fb9f3a\"], [0.8888888888888888, \"#fdca26\"], [1.0, \"#f0f921\"]], \"sequentialminus\": [[0.0, \"#0d0887\"], [0.1111111111111111, \"#46039f\"], [0.2222222222222222, \"#7201a8\"], [0.3333333333333333, \"#9c179e\"], [0.4444444444444444, \"#bd3786\"], [0.5555555555555556, \"#d8576b\"], [0.6666666666666666, \"#ed7953\"], [0.7777777777777778, \"#fb9f3a\"], [0.8888888888888888, \"#fdca26\"], [1.0, \"#f0f921\"]]}, \"colorway\": [\"#636efa\", \"#EF553B\", \"#00cc96\", \"#ab63fa\", \"#FFA15A\", \"#19d3f3\", \"#FF6692\", \"#B6E880\", \"#FF97FF\", \"#FECB52\"], \"font\": {\"color\": \"#2a3f5f\"}, \"geo\": {\"bgcolor\": \"white\", \"lakecolor\": \"white\", \"landcolor\": \"#E5ECF6\", \"showlakes\": true, \"showland\": true, \"subunitcolor\": \"white\"}, \"hoverlabel\": {\"align\": \"left\"}, \"hovermode\": \"closest\", \"mapbox\": {\"style\": \"light\"}, \"paper_bgcolor\": \"white\", \"plot_bgcolor\": \"#E5ECF6\", \"polar\": {\"angularaxis\": {\"gridcolor\": \"white\", \"linecolor\": \"white\", \"ticks\": \"\"}, \"bgcolor\": \"#E5ECF6\", \"radialaxis\": {\"gridcolor\": \"white\", \"linecolor\": \"white\", \"ticks\": \"\"}}, \"scene\": {\"xaxis\": {\"backgroundcolor\": \"#E5ECF6\", \"gridcolor\": \"white\", \"gridwidth\": 2, \"linecolor\": \"white\", \"showbackground\": true, \"ticks\": \"\", \"zerolinecolor\": \"white\"}, \"yaxis\": {\"backgroundcolor\": \"#E5ECF6\", \"gridcolor\": \"white\", \"gridwidth\": 2, \"linecolor\": \"white\", \"showbackground\": true, \"ticks\": \"\", \"zerolinecolor\": \"white\"}, \"zaxis\": {\"backgroundcolor\": \"#E5ECF6\", \"gridcolor\": \"white\", \"gridwidth\": 2, \"linecolor\": \"white\", \"showbackground\": true, \"ticks\": \"\", \"zerolinecolor\": \"white\"}}, \"shapedefaults\": {\"line\": {\"color\": \"#2a3f5f\"}}, \"ternary\": {\"aaxis\": {\"gridcolor\": \"white\", \"linecolor\": \"white\", \"ticks\": \"\"}, \"baxis\": {\"gridcolor\": \"white\", \"linecolor\": \"white\", \"ticks\": \"\"}, \"bgcolor\": \"#E5ECF6\", \"caxis\": {\"gridcolor\": \"white\", \"linecolor\": \"white\", \"ticks\": \"\"}}, \"title\": {\"x\": 0.05}, \"xaxis\": {\"automargin\": true, \"gridcolor\": \"white\", \"linecolor\": \"white\", \"ticks\": \"\", \"title\": {\"standoff\": 15}, \"zerolinecolor\": \"white\", \"zerolinewidth\": 2}, \"yaxis\": {\"automargin\": true, \"gridcolor\": \"white\", \"linecolor\": \"white\", \"ticks\": \"\", \"title\": {\"standoff\": 15}, \"zerolinecolor\": \"white\", \"zerolinewidth\": 2}}}},                        {\"responsive\": true}                    ).then(function(){\n",
       "                            \n",
       "var gd = document.getElementById('4f2342bd-bf87-40c6-bb88-916611f7476e');\n",
       "var x = new MutationObserver(function (mutations, observer) {{\n",
       "        var display = window.getComputedStyle(gd).display;\n",
       "        if (!display || display === 'none') {{\n",
       "            console.log([gd, 'removed!']);\n",
       "            Plotly.purge(gd);\n",
       "            observer.disconnect();\n",
       "        }}\n",
       "}});\n",
       "\n",
       "// Listen for the removal of the full notebook cells\n",
       "var notebookContainer = gd.closest('#notebook-container');\n",
       "if (notebookContainer) {{\n",
       "    x.observe(notebookContainer, {childList: true});\n",
       "}}\n",
       "\n",
       "// Listen for the clearing of the current output cell\n",
       "var outputEl = gd.closest('.output');\n",
       "if (outputEl) {{\n",
       "    x.observe(outputEl, {childList: true});\n",
       "}}\n",
       "\n",
       "                        })                };                });            </script>        </div>"
      ]
     },
     "metadata": {},
     "output_type": "display_data"
    }
   ],
   "source": [
    "import plotly.graph_objects as go\n",
    "fig = go.Scattermapbox(\n",
    "    lon =df5['Long'],\n",
    "    lat = df5['Lat'],\n",
    "    mode = 'markers',\n",
    "    marker =go.scattermapbox.Marker(\n",
    "        size = df5['confirmed']/1500,\n",
    "        color =df5['confirmed'],\n",
    "        colorscale ='hsv',\n",
    "        sizemode = 'area',\n",
    "        opacity =0.3\n",
    "    ),\n",
    "\n",
    "    hoverinfo = 'text',\n",
    "    hovertext = \n",
    "    '<b>Country : </b>  '+ df5['Country'].astype(str) +'<br>'+\n",
    "    '<b>Longitude :</b> '+ df5['Long'].astype(str)+ '<br>'+\n",
    "    '<b>Latitude :</b> '+ df5['Lat'].astype(str)+ '<br>'+\n",
    "    '<b>Confirmed : </b> '+ [f'{x:,.0f} ' for x in df5['confirmed']] + '<br>'+\n",
    "    '<b>Recoverd : </b> '+ [f'{x:,.0f} ' for x in df5['recovery']] + '<br>'+\n",
    "    '<b>Deaths : </b> '+ [f'{x:,.0f} ' for x in df5['deaths']] + '<br>'+\n",
    "    '<b>Active : </b> '+ [f'{x:,.0f} ' for x in df5['active']] + '<br>'\n",
    "\n",
    ")\n",
    "fig = go.Figure(fig)\n",
    "\n",
    "fig.update_layout(\n",
    "    mapbox = {\n",
    "        'style': \"stamen-terrain\",\n",
    "        'center': {'lon': 37, 'lat': -.02 },\n",
    "        'zoom': 1.3\n",
    "    },\n",
    "    showlegend = False,\n",
    "    margin = {'r':0 , 'l':0 ,'b':0},\n",
    ")\n",
    "\n",
    "fig.show()"
   ]
  },
  {
   "cell_type": "code",
   "execution_count": 48,
   "metadata": {},
   "outputs": [],
   "source": [
    "# help(fig)"
   ]
  },
  {
   "cell_type": "code",
   "execution_count": 62,
   "metadata": {},
   "outputs": [
    {
     "data": {
      "application/vnd.plotly.v1+json": {
       "config": {
        "plotlyServerURL": "https://plot.ly"
       },
       "data": [
        {
         "hole": 0.7,
         "labels": [
          "confirmed",
          "deaths",
          "recovery",
          "active"
         ],
         "marker": {
          "colors": [
           "orange",
           "#dd1e15",
           "#e55467",
           "green"
          ]
         },
         "rotation": 45,
         "textfont": {
          "size": 15
         },
         "textinfo": "label+value+percent",
         "type": "pie",
         "values": [
          163554,
          2895,
          49468,
          111191
         ]
        }
       ],
       "layout": {
        "autosize": true,
        "template": {
         "data": {
          "bar": [
           {
            "error_x": {
             "color": "#2a3f5f"
            },
            "error_y": {
             "color": "#2a3f5f"
            },
            "marker": {
             "line": {
              "color": "#E5ECF6",
              "width": 0.5
             }
            },
            "type": "bar"
           }
          ],
          "barpolar": [
           {
            "marker": {
             "line": {
              "color": "#E5ECF6",
              "width": 0.5
             }
            },
            "type": "barpolar"
           }
          ],
          "carpet": [
           {
            "aaxis": {
             "endlinecolor": "#2a3f5f",
             "gridcolor": "white",
             "linecolor": "white",
             "minorgridcolor": "white",
             "startlinecolor": "#2a3f5f"
            },
            "baxis": {
             "endlinecolor": "#2a3f5f",
             "gridcolor": "white",
             "linecolor": "white",
             "minorgridcolor": "white",
             "startlinecolor": "#2a3f5f"
            },
            "type": "carpet"
           }
          ],
          "choropleth": [
           {
            "colorbar": {
             "outlinewidth": 0,
             "ticks": ""
            },
            "type": "choropleth"
           }
          ],
          "contour": [
           {
            "colorbar": {
             "outlinewidth": 0,
             "ticks": ""
            },
            "colorscale": [
             [
              0,
              "#0d0887"
             ],
             [
              0.1111111111111111,
              "#46039f"
             ],
             [
              0.2222222222222222,
              "#7201a8"
             ],
             [
              0.3333333333333333,
              "#9c179e"
             ],
             [
              0.4444444444444444,
              "#bd3786"
             ],
             [
              0.5555555555555556,
              "#d8576b"
             ],
             [
              0.6666666666666666,
              "#ed7953"
             ],
             [
              0.7777777777777778,
              "#fb9f3a"
             ],
             [
              0.8888888888888888,
              "#fdca26"
             ],
             [
              1,
              "#f0f921"
             ]
            ],
            "type": "contour"
           }
          ],
          "contourcarpet": [
           {
            "colorbar": {
             "outlinewidth": 0,
             "ticks": ""
            },
            "type": "contourcarpet"
           }
          ],
          "heatmap": [
           {
            "colorbar": {
             "outlinewidth": 0,
             "ticks": ""
            },
            "colorscale": [
             [
              0,
              "#0d0887"
             ],
             [
              0.1111111111111111,
              "#46039f"
             ],
             [
              0.2222222222222222,
              "#7201a8"
             ],
             [
              0.3333333333333333,
              "#9c179e"
             ],
             [
              0.4444444444444444,
              "#bd3786"
             ],
             [
              0.5555555555555556,
              "#d8576b"
             ],
             [
              0.6666666666666666,
              "#ed7953"
             ],
             [
              0.7777777777777778,
              "#fb9f3a"
             ],
             [
              0.8888888888888888,
              "#fdca26"
             ],
             [
              1,
              "#f0f921"
             ]
            ],
            "type": "heatmap"
           }
          ],
          "heatmapgl": [
           {
            "colorbar": {
             "outlinewidth": 0,
             "ticks": ""
            },
            "colorscale": [
             [
              0,
              "#0d0887"
             ],
             [
              0.1111111111111111,
              "#46039f"
             ],
             [
              0.2222222222222222,
              "#7201a8"
             ],
             [
              0.3333333333333333,
              "#9c179e"
             ],
             [
              0.4444444444444444,
              "#bd3786"
             ],
             [
              0.5555555555555556,
              "#d8576b"
             ],
             [
              0.6666666666666666,
              "#ed7953"
             ],
             [
              0.7777777777777778,
              "#fb9f3a"
             ],
             [
              0.8888888888888888,
              "#fdca26"
             ],
             [
              1,
              "#f0f921"
             ]
            ],
            "type": "heatmapgl"
           }
          ],
          "histogram": [
           {
            "marker": {
             "colorbar": {
              "outlinewidth": 0,
              "ticks": ""
             }
            },
            "type": "histogram"
           }
          ],
          "histogram2d": [
           {
            "colorbar": {
             "outlinewidth": 0,
             "ticks": ""
            },
            "colorscale": [
             [
              0,
              "#0d0887"
             ],
             [
              0.1111111111111111,
              "#46039f"
             ],
             [
              0.2222222222222222,
              "#7201a8"
             ],
             [
              0.3333333333333333,
              "#9c179e"
             ],
             [
              0.4444444444444444,
              "#bd3786"
             ],
             [
              0.5555555555555556,
              "#d8576b"
             ],
             [
              0.6666666666666666,
              "#ed7953"
             ],
             [
              0.7777777777777778,
              "#fb9f3a"
             ],
             [
              0.8888888888888888,
              "#fdca26"
             ],
             [
              1,
              "#f0f921"
             ]
            ],
            "type": "histogram2d"
           }
          ],
          "histogram2dcontour": [
           {
            "colorbar": {
             "outlinewidth": 0,
             "ticks": ""
            },
            "colorscale": [
             [
              0,
              "#0d0887"
             ],
             [
              0.1111111111111111,
              "#46039f"
             ],
             [
              0.2222222222222222,
              "#7201a8"
             ],
             [
              0.3333333333333333,
              "#9c179e"
             ],
             [
              0.4444444444444444,
              "#bd3786"
             ],
             [
              0.5555555555555556,
              "#d8576b"
             ],
             [
              0.6666666666666666,
              "#ed7953"
             ],
             [
              0.7777777777777778,
              "#fb9f3a"
             ],
             [
              0.8888888888888888,
              "#fdca26"
             ],
             [
              1,
              "#f0f921"
             ]
            ],
            "type": "histogram2dcontour"
           }
          ],
          "mesh3d": [
           {
            "colorbar": {
             "outlinewidth": 0,
             "ticks": ""
            },
            "type": "mesh3d"
           }
          ],
          "parcoords": [
           {
            "line": {
             "colorbar": {
              "outlinewidth": 0,
              "ticks": ""
             }
            },
            "type": "parcoords"
           }
          ],
          "pie": [
           {
            "automargin": true,
            "type": "pie"
           }
          ],
          "scatter": [
           {
            "marker": {
             "colorbar": {
              "outlinewidth": 0,
              "ticks": ""
             }
            },
            "type": "scatter"
           }
          ],
          "scatter3d": [
           {
            "line": {
             "colorbar": {
              "outlinewidth": 0,
              "ticks": ""
             }
            },
            "marker": {
             "colorbar": {
              "outlinewidth": 0,
              "ticks": ""
             }
            },
            "type": "scatter3d"
           }
          ],
          "scattercarpet": [
           {
            "marker": {
             "colorbar": {
              "outlinewidth": 0,
              "ticks": ""
             }
            },
            "type": "scattercarpet"
           }
          ],
          "scattergeo": [
           {
            "marker": {
             "colorbar": {
              "outlinewidth": 0,
              "ticks": ""
             }
            },
            "type": "scattergeo"
           }
          ],
          "scattergl": [
           {
            "marker": {
             "colorbar": {
              "outlinewidth": 0,
              "ticks": ""
             }
            },
            "type": "scattergl"
           }
          ],
          "scattermapbox": [
           {
            "marker": {
             "colorbar": {
              "outlinewidth": 0,
              "ticks": ""
             }
            },
            "type": "scattermapbox"
           }
          ],
          "scatterpolar": [
           {
            "marker": {
             "colorbar": {
              "outlinewidth": 0,
              "ticks": ""
             }
            },
            "type": "scatterpolar"
           }
          ],
          "scatterpolargl": [
           {
            "marker": {
             "colorbar": {
              "outlinewidth": 0,
              "ticks": ""
             }
            },
            "type": "scatterpolargl"
           }
          ],
          "scatterternary": [
           {
            "marker": {
             "colorbar": {
              "outlinewidth": 0,
              "ticks": ""
             }
            },
            "type": "scatterternary"
           }
          ],
          "surface": [
           {
            "colorbar": {
             "outlinewidth": 0,
             "ticks": ""
            },
            "colorscale": [
             [
              0,
              "#0d0887"
             ],
             [
              0.1111111111111111,
              "#46039f"
             ],
             [
              0.2222222222222222,
              "#7201a8"
             ],
             [
              0.3333333333333333,
              "#9c179e"
             ],
             [
              0.4444444444444444,
              "#bd3786"
             ],
             [
              0.5555555555555556,
              "#d8576b"
             ],
             [
              0.6666666666666666,
              "#ed7953"
             ],
             [
              0.7777777777777778,
              "#fb9f3a"
             ],
             [
              0.8888888888888888,
              "#fdca26"
             ],
             [
              1,
              "#f0f921"
             ]
            ],
            "type": "surface"
           }
          ],
          "table": [
           {
            "cells": {
             "fill": {
              "color": "#EBF0F8"
             },
             "line": {
              "color": "white"
             }
            },
            "header": {
             "fill": {
              "color": "#C8D4E3"
             },
             "line": {
              "color": "white"
             }
            },
            "type": "table"
           }
          ]
         },
         "layout": {
          "annotationdefaults": {
           "arrowcolor": "#2a3f5f",
           "arrowhead": 0,
           "arrowwidth": 1
          },
          "autotypenumbers": "strict",
          "coloraxis": {
           "colorbar": {
            "outlinewidth": 0,
            "ticks": ""
           }
          },
          "colorscale": {
           "diverging": [
            [
             0,
             "#8e0152"
            ],
            [
             0.1,
             "#c51b7d"
            ],
            [
             0.2,
             "#de77ae"
            ],
            [
             0.3,
             "#f1b6da"
            ],
            [
             0.4,
             "#fde0ef"
            ],
            [
             0.5,
             "#f7f7f7"
            ],
            [
             0.6,
             "#e6f5d0"
            ],
            [
             0.7,
             "#b8e186"
            ],
            [
             0.8,
             "#7fbc41"
            ],
            [
             0.9,
             "#4d9221"
            ],
            [
             1,
             "#276419"
            ]
           ],
           "sequential": [
            [
             0,
             "#0d0887"
            ],
            [
             0.1111111111111111,
             "#46039f"
            ],
            [
             0.2222222222222222,
             "#7201a8"
            ],
            [
             0.3333333333333333,
             "#9c179e"
            ],
            [
             0.4444444444444444,
             "#bd3786"
            ],
            [
             0.5555555555555556,
             "#d8576b"
            ],
            [
             0.6666666666666666,
             "#ed7953"
            ],
            [
             0.7777777777777778,
             "#fb9f3a"
            ],
            [
             0.8888888888888888,
             "#fdca26"
            ],
            [
             1,
             "#f0f921"
            ]
           ],
           "sequentialminus": [
            [
             0,
             "#0d0887"
            ],
            [
             0.1111111111111111,
             "#46039f"
            ],
            [
             0.2222222222222222,
             "#7201a8"
            ],
            [
             0.3333333333333333,
             "#9c179e"
            ],
            [
             0.4444444444444444,
             "#bd3786"
            ],
            [
             0.5555555555555556,
             "#d8576b"
            ],
            [
             0.6666666666666666,
             "#ed7953"
            ],
            [
             0.7777777777777778,
             "#fb9f3a"
            ],
            [
             0.8888888888888888,
             "#fdca26"
            ],
            [
             1,
             "#f0f921"
            ]
           ]
          },
          "colorway": [
           "#636efa",
           "#EF553B",
           "#00cc96",
           "#ab63fa",
           "#FFA15A",
           "#19d3f3",
           "#FF6692",
           "#B6E880",
           "#FF97FF",
           "#FECB52"
          ],
          "font": {
           "color": "#2a3f5f"
          },
          "geo": {
           "bgcolor": "white",
           "lakecolor": "white",
           "landcolor": "#E5ECF6",
           "showlakes": true,
           "showland": true,
           "subunitcolor": "white"
          },
          "hoverlabel": {
           "align": "left"
          },
          "hovermode": "closest",
          "mapbox": {
           "style": "light"
          },
          "paper_bgcolor": "white",
          "plot_bgcolor": "#E5ECF6",
          "polar": {
           "angularaxis": {
            "gridcolor": "white",
            "linecolor": "white",
            "ticks": ""
           },
           "bgcolor": "#E5ECF6",
           "radialaxis": {
            "gridcolor": "white",
            "linecolor": "white",
            "ticks": ""
           }
          },
          "scene": {
           "xaxis": {
            "backgroundcolor": "#E5ECF6",
            "gridcolor": "white",
            "gridwidth": 2,
            "linecolor": "white",
            "showbackground": true,
            "ticks": "",
            "zerolinecolor": "white"
           },
           "yaxis": {
            "backgroundcolor": "#E5ECF6",
            "gridcolor": "white",
            "gridwidth": 2,
            "linecolor": "white",
            "showbackground": true,
            "ticks": "",
            "zerolinecolor": "white"
           },
           "zaxis": {
            "backgroundcolor": "#E5ECF6",
            "gridcolor": "white",
            "gridwidth": 2,
            "linecolor": "white",
            "showbackground": true,
            "ticks": "",
            "zerolinecolor": "white"
           }
          },
          "shapedefaults": {
           "line": {
            "color": "#2a3f5f"
           }
          },
          "ternary": {
           "aaxis": {
            "gridcolor": "white",
            "linecolor": "white",
            "ticks": ""
           },
           "baxis": {
            "gridcolor": "white",
            "linecolor": "white",
            "ticks": ""
           },
           "bgcolor": "#E5ECF6",
           "caxis": {
            "gridcolor": "white",
            "linecolor": "white",
            "ticks": ""
           }
          },
          "title": {
           "x": 0.05
          },
          "xaxis": {
           "automargin": true,
           "gridcolor": "white",
           "linecolor": "white",
           "ticks": "",
           "title": {
            "standoff": 15
           },
           "zerolinecolor": "white",
           "zerolinewidth": 2
          },
          "yaxis": {
           "automargin": true,
           "gridcolor": "white",
           "linecolor": "white",
           "ticks": "",
           "title": {
            "standoff": 15
           },
           "zerolinecolor": "white",
           "zerolinewidth": 2
          }
         }
        }
       }
      },
      "image/png": "[encoded data removed]",
      "text/html": [
       "<div>                            <div id=\"b4e85a46-3a51-4689-87e6-833ffe501757\" class=\"plotly-graph-div\" style=\"height:525px; width:100%;\"></div>            <script type=\"text/javascript\">                require([\"plotly\"], function(Plotly) {                    window.PLOTLYENV=window.PLOTLYENV || {};                                    if (document.getElementById(\"b4e85a46-3a51-4689-87e6-833ffe501757\")) {                    Plotly.newPlot(                        \"b4e85a46-3a51-4689-87e6-833ffe501757\",                        [{\"hole\": 0.7, \"labels\": [\"confirmed\", \"deaths\", \"recovery\", \"active\"], \"marker\": {\"colors\": [\"orange\", \"#dd1e15\", \"#e55467\", \"green\"]}, \"rotation\": 45, \"textfont\": {\"size\": 15}, \"textinfo\": \"label+value+percent\", \"type\": \"pie\", \"values\": [163554, 2895, 49468.0, 111191.0]}],                        {\"template\": {\"data\": {\"bar\": [{\"error_x\": {\"color\": \"#2a3f5f\"}, \"error_y\": {\"color\": \"#2a3f5f\"}, \"marker\": {\"line\": {\"color\": \"#E5ECF6\", \"width\": 0.5}}, \"type\": \"bar\"}], \"barpolar\": [{\"marker\": {\"line\": {\"color\": \"#E5ECF6\", \"width\": 0.5}}, \"type\": \"barpolar\"}], \"carpet\": [{\"aaxis\": {\"endlinecolor\": \"#2a3f5f\", \"gridcolor\": \"white\", \"linecolor\": \"white\", \"minorgridcolor\": \"white\", \"startlinecolor\": \"#2a3f5f\"}, \"baxis\": {\"endlinecolor\": \"#2a3f5f\", \"gridcolor\": \"white\", \"linecolor\": \"white\", \"minorgridcolor\": \"white\", \"startlinecolor\": \"#2a3f5f\"}, \"type\": \"carpet\"}], \"choropleth\": [{\"colorbar\": {\"outlinewidth\": 0, \"ticks\": \"\"}, \"type\": \"choropleth\"}], \"contour\": [{\"colorbar\": {\"outlinewidth\": 0, \"ticks\": \"\"}, \"colorscale\": [[0.0, \"#0d0887\"], [0.1111111111111111, \"#46039f\"], [0.2222222222222222, \"#7201a8\"], [0.3333333333333333, \"#9c179e\"], [0.4444444444444444, \"#bd3786\"], [0.5555555555555556, \"#d8576b\"], [0.6666666666666666, \"#ed7953\"], [0.7777777777777778, \"#fb9f3a\"], [0.8888888888888888, \"#fdca26\"], [1.0, \"#f0f921\"]], \"type\": \"contour\"}], \"contourcarpet\": [{\"colorbar\": {\"outlinewidth\": 0, \"ticks\": \"\"}, \"type\": \"contourcarpet\"}], \"heatmap\": [{\"colorbar\": {\"outlinewidth\": 0, \"ticks\": \"\"}, \"colorscale\": [[0.0, \"#0d0887\"], [0.1111111111111111, \"#46039f\"], [0.2222222222222222, \"#7201a8\"], [0.3333333333333333, \"#9c179e\"], [0.4444444444444444, \"#bd3786\"], [0.5555555555555556, \"#d8576b\"], [0.6666666666666666, \"#ed7953\"], [0.7777777777777778, \"#fb9f3a\"], [0.8888888888888888, \"#fdca26\"], [1.0, \"#f0f921\"]], \"type\": \"heatmap\"}], \"heatmapgl\": [{\"colorbar\": {\"outlinewidth\": 0, \"ticks\": \"\"}, \"colorscale\": [[0.0, \"#0d0887\"], [0.1111111111111111, \"#46039f\"], [0.2222222222222222, \"#7201a8\"], [0.3333333333333333, \"#9c179e\"], [0.4444444444444444, \"#bd3786\"], [0.5555555555555556, \"#d8576b\"], [0.6666666666666666, \"#ed7953\"], [0.7777777777777778, \"#fb9f3a\"], [0.8888888888888888, \"#fdca26\"], [1.0, \"#f0f921\"]], \"type\": \"heatmapgl\"}], \"histogram\": [{\"marker\": {\"colorbar\": {\"outlinewidth\": 0, \"ticks\": \"\"}}, \"type\": \"histogram\"}], \"histogram2d\": [{\"colorbar\": {\"outlinewidth\": 0, \"ticks\": \"\"}, \"colorscale\": [[0.0, \"#0d0887\"], [0.1111111111111111, \"#46039f\"], [0.2222222222222222, \"#7201a8\"], [0.3333333333333333, \"#9c179e\"], [0.4444444444444444, \"#bd3786\"], [0.5555555555555556, \"#d8576b\"], [0.6666666666666666, \"#ed7953\"], [0.7777777777777778, \"#fb9f3a\"], [0.8888888888888888, \"#fdca26\"], [1.0, \"#f0f921\"]], \"type\": \"histogram2d\"}], \"histogram2dcontour\": [{\"colorbar\": {\"outlinewidth\": 0, \"ticks\": \"\"}, \"colorscale\": [[0.0, \"#0d0887\"], [0.1111111111111111, \"#46039f\"], [0.2222222222222222, \"#7201a8\"], [0.3333333333333333, \"#9c179e\"], [0.4444444444444444, \"#bd3786\"], [0.5555555555555556, \"#d8576b\"], [0.6666666666666666, \"#ed7953\"], [0.7777777777777778, \"#fb9f3a\"], [0.8888888888888888, \"#fdca26\"], [1.0, \"#f0f921\"]], \"type\": \"histogram2dcontour\"}], \"mesh3d\": [{\"colorbar\": {\"outlinewidth\": 0, \"ticks\": \"\"}, \"type\": \"mesh3d\"}], \"parcoords\": [{\"line\": {\"colorbar\": {\"outlinewidth\": 0, \"ticks\": \"\"}}, \"type\": \"parcoords\"}], \"pie\": [{\"automargin\": true, \"type\": \"pie\"}], \"scatter\": [{\"marker\": {\"colorbar\": {\"outlinewidth\": 0, \"ticks\": \"\"}}, \"type\": \"scatter\"}], \"scatter3d\": [{\"line\": {\"colorbar\": {\"outlinewidth\": 0, \"ticks\": \"\"}}, \"marker\": {\"colorbar\": {\"outlinewidth\": 0, \"ticks\": \"\"}}, \"type\": \"scatter3d\"}], \"scattercarpet\": [{\"marker\": {\"colorbar\": {\"outlinewidth\": 0, \"ticks\": \"\"}}, \"type\": \"scattercarpet\"}], \"scattergeo\": [{\"marker\": {\"colorbar\": {\"outlinewidth\": 0, \"ticks\": \"\"}}, \"type\": \"scattergeo\"}], \"scattergl\": [{\"marker\": {\"colorbar\": {\"outlinewidth\": 0, \"ticks\": \"\"}}, \"type\": \"scattergl\"}], \"scattermapbox\": [{\"marker\": {\"colorbar\": {\"outlinewidth\": 0, \"ticks\": \"\"}}, \"type\": \"scattermapbox\"}], \"scatterpolar\": [{\"marker\": {\"colorbar\": {\"outlinewidth\": 0, \"ticks\": \"\"}}, \"type\": \"scatterpolar\"}], \"scatterpolargl\": [{\"marker\": {\"colorbar\": {\"outlinewidth\": 0, \"ticks\": \"\"}}, \"type\": \"scatterpolargl\"}], \"scatterternary\": [{\"marker\": {\"colorbar\": {\"outlinewidth\": 0, \"ticks\": \"\"}}, \"type\": \"scatterternary\"}], \"surface\": [{\"colorbar\": {\"outlinewidth\": 0, \"ticks\": \"\"}, \"colorscale\": [[0.0, \"#0d0887\"], [0.1111111111111111, \"#46039f\"], [0.2222222222222222, \"#7201a8\"], [0.3333333333333333, \"#9c179e\"], [0.4444444444444444, \"#bd3786\"], [0.5555555555555556, \"#d8576b\"], [0.6666666666666666, \"#ed7953\"], [0.7777777777777778, \"#fb9f3a\"], [0.8888888888888888, \"#fdca26\"], [1.0, \"#f0f921\"]], \"type\": \"surface\"}], \"table\": [{\"cells\": {\"fill\": {\"color\": \"#EBF0F8\"}, \"line\": {\"color\": \"white\"}}, \"header\": {\"fill\": {\"color\": \"#C8D4E3\"}, \"line\": {\"color\": \"white\"}}, \"type\": \"table\"}]}, \"layout\": {\"annotationdefaults\": {\"arrowcolor\": \"#2a3f5f\", \"arrowhead\": 0, \"arrowwidth\": 1}, \"autotypenumbers\": \"strict\", \"coloraxis\": {\"colorbar\": {\"outlinewidth\": 0, \"ticks\": \"\"}}, \"colorscale\": {\"diverging\": [[0, \"#8e0152\"], [0.1, \"#c51b7d\"], [0.2, \"#de77ae\"], [0.3, \"#f1b6da\"], [0.4, \"#fde0ef\"], [0.5, \"#f7f7f7\"], [0.6, \"#e6f5d0\"], [0.7, \"#b8e186\"], [0.8, \"#7fbc41\"], [0.9, \"#4d9221\"], [1, \"#276419\"]], \"sequential\": [[0.0, \"#0d0887\"], [0.1111111111111111, \"#46039f\"], [0.2222222222222222, \"#7201a8\"], [0.3333333333333333, \"#9c179e\"], [0.4444444444444444, \"#bd3786\"], [0.5555555555555556, \"#d8576b\"], [0.6666666666666666, \"#ed7953\"], [0.7777777777777778, \"#fb9f3a\"], [0.8888888888888888, \"#fdca26\"], [1.0, \"#f0f921\"]], \"sequentialminus\": [[0.0, \"#0d0887\"], [0.1111111111111111, \"#46039f\"], [0.2222222222222222, \"#7201a8\"], [0.3333333333333333, \"#9c179e\"], [0.4444444444444444, \"#bd3786\"], [0.5555555555555556, \"#d8576b\"], [0.6666666666666666, \"#ed7953\"], [0.7777777777777778, \"#fb9f3a\"], [0.8888888888888888, \"#fdca26\"], [1.0, \"#f0f921\"]]}, \"colorway\": [\"#636efa\", \"#EF553B\", \"#00cc96\", \"#ab63fa\", \"#FFA15A\", \"#19d3f3\", \"#FF6692\", \"#B6E880\", \"#FF97FF\", \"#FECB52\"], \"font\": {\"color\": \"#2a3f5f\"}, \"geo\": {\"bgcolor\": \"white\", \"lakecolor\": \"white\", \"landcolor\": \"#E5ECF6\", \"showlakes\": true, \"showland\": true, \"subunitcolor\": \"white\"}, \"hoverlabel\": {\"align\": \"left\"}, \"hovermode\": \"closest\", \"mapbox\": {\"style\": \"light\"}, \"paper_bgcolor\": \"white\", \"plot_bgcolor\": \"#E5ECF6\", \"polar\": {\"angularaxis\": {\"gridcolor\": \"white\", \"linecolor\": \"white\", \"ticks\": \"\"}, \"bgcolor\": \"#E5ECF6\", \"radialaxis\": {\"gridcolor\": \"white\", \"linecolor\": \"white\", \"ticks\": \"\"}}, \"scene\": {\"xaxis\": {\"backgroundcolor\": \"#E5ECF6\", \"gridcolor\": \"white\", \"gridwidth\": 2, \"linecolor\": \"white\", \"showbackground\": true, \"ticks\": \"\", \"zerolinecolor\": \"white\"}, \"yaxis\": {\"backgroundcolor\": \"#E5ECF6\", \"gridcolor\": \"white\", \"gridwidth\": 2, \"linecolor\": \"white\", \"showbackground\": true, \"ticks\": \"\", \"zerolinecolor\": \"white\"}, \"zaxis\": {\"backgroundcolor\": \"#E5ECF6\", \"gridcolor\": \"white\", \"gridwidth\": 2, \"linecolor\": \"white\", \"showbackground\": true, \"ticks\": \"\", \"zerolinecolor\": \"white\"}}, \"shapedefaults\": {\"line\": {\"color\": \"#2a3f5f\"}}, \"ternary\": {\"aaxis\": {\"gridcolor\": \"white\", \"linecolor\": \"white\", \"ticks\": \"\"}, \"baxis\": {\"gridcolor\": \"white\", \"linecolor\": \"white\", \"ticks\": \"\"}, \"bgcolor\": \"#E5ECF6\", \"caxis\": {\"gridcolor\": \"white\", \"linecolor\": \"white\", \"ticks\": \"\"}}, \"title\": {\"x\": 0.05}, \"xaxis\": {\"automargin\": true, \"gridcolor\": \"white\", \"linecolor\": \"white\", \"ticks\": \"\", \"title\": {\"standoff\": 15}, \"zerolinecolor\": \"white\", \"zerolinewidth\": 2}, \"yaxis\": {\"automargin\": true, \"gridcolor\": \"white\", \"linecolor\": \"white\", \"ticks\": \"\", \"title\": {\"standoff\": 15}, \"zerolinecolor\": \"white\", \"zerolinewidth\": 2}}}},                        {\"responsive\": true}                    ).then(function(){\n",
       "                            \n",
       "var gd = document.getElementById('b4e85a46-3a51-4689-87e6-833ffe501757');\n",
       "var x = new MutationObserver(function (mutations, observer) {{\n",
       "        var display = window.getComputedStyle(gd).display;\n",
       "        if (!display || display === 'none') {{\n",
       "            console.log([gd, 'removed!']);\n",
       "            Plotly.purge(gd);\n",
       "            observer.disconnect();\n",
       "        }}\n",
       "}});\n",
       "\n",
       "// Listen for the removal of the full notebook cells\n",
       "var notebookContainer = gd.closest('#notebook-container');\n",
       "if (notebookContainer) {{\n",
       "    x.observe(notebookContainer, {childList: true});\n",
       "}}\n",
       "\n",
       "// Listen for the clearing of the current output cell\n",
       "var outputEl = gd.closest('.output');\n",
       "if (outputEl) {{\n",
       "    x.observe(outputEl, {childList: true});\n",
       "}}\n",
       "\n",
       "                        })                };                });            </script>        </div>"
      ]
     },
     "metadata": {},
     "output_type": "display_data"
    }
   ],
   "source": [
    "w_countries = \"Kenya\"\n",
    "\n",
    "new_case = df2[df2['Country'] == w_countries]['confirmed'].iloc[-1]\n",
    "new_death = df2[df2['Country'] == w_countries]['deaths'].iloc[-1]\n",
    "new_active = df2[df2['Country'] == w_countries]['active'].iloc[-1]\n",
    "new_recover = df2[df2['Country'] == w_countries]['recovery'].iloc[-1]\n",
    "\n",
    "\n",
    "fig = go.Figure(\n",
    "        go.Pie(\n",
    "        labels = ['confirmed' , 'deaths' , 'recovery' , 'active'],\n",
    "        values = [new_case , new_death , new_active, new_recover],\n",
    "        marker = dict(colors =['orange' , '#dd1e15' , '#e55467' , 'green']),\n",
    "        textinfo='label+value+percent',\n",
    "        textfont = dict(size =15),\n",
    "        hole =.7,\n",
    "        rotation =45,\n",
    "        #insidetextorientation ='radial',\n",
    "    )\n",
    ")\n",
    "\n",
    "fig.show()"
   ]
  },
  {
   "cell_type": "code",
   "execution_count": 99,
   "metadata": {},
   "outputs": [
    {
     "data": {
      "application/vnd.plotly.v1+json": {
       "config": {
        "plotlyServerURL": "https://plot.ly"
       },
       "data": [
        {
         "hoverinfo": "text",
         "hovertext": [
          "<b>Date  </b> 2021-04-09  <br><b>Daily Cases </b>  1,091  <br><b>Country  </b>  Kenya  <br>",
          "<b>Date  </b> 2021-04-10  <br><b>Daily Cases </b>  1,030  <br><b>Country  </b>  Kenya  <br>",
          "<b>Date  </b> 2021-04-11  <br><b>Daily Cases </b>  486  <br><b>Country  </b>  Kenya  <br>",
          "<b>Date  </b> 2021-04-12  <br><b>Daily Cases </b>  486  <br><b>Country  </b>  Kenya  <br>",
          "<b>Date  </b> 2021-04-13  <br><b>Daily Cases </b>  991  <br><b>Country  </b>  Kenya  <br>",
          "<b>Date  </b> 2021-04-14  <br><b>Daily Cases </b>  981  <br><b>Country  </b>  Kenya  <br>",
          "<b>Date  </b> 2021-04-15  <br><b>Daily Cases </b>  1,091  <br><b>Country  </b>  Kenya  <br>",
          "<b>Date  </b> 2021-04-16  <br><b>Daily Cases </b>  1,041  <br><b>Country  </b>  Kenya  <br>",
          "<b>Date  </b> 2021-04-17  <br><b>Daily Cases </b>  1,027  <br><b>Country  </b>  Kenya  <br>",
          "<b>Date  </b> 2021-04-18  <br><b>Daily Cases </b>  366  <br><b>Country  </b>  Kenya  <br>",
          "<b>Date  </b> 2021-04-19  <br><b>Daily Cases </b>  241  <br><b>Country  </b>  Kenya  <br>",
          "<b>Date  </b> 2021-04-20  <br><b>Daily Cases </b>  629  <br><b>Country  </b>  Kenya  <br>",
          "<b>Date  </b> 2021-04-21  <br><b>Daily Cases </b>  965  <br><b>Country  </b>  Kenya  <br>",
          "<b>Date  </b> 2021-04-22  <br><b>Daily Cases </b>  904  <br><b>Country  </b>  Kenya  <br>",
          "<b>Date  </b> 2021-04-23  <br><b>Daily Cases </b>  773  <br><b>Country  </b>  Kenya  <br>",
          "<b>Date  </b> 2021-04-24  <br><b>Daily Cases </b>  1,153  <br><b>Country  </b>  Kenya  <br>",
          "<b>Date  </b> 2021-04-25  <br><b>Daily Cases </b>  469  <br><b>Country  </b>  Kenya  <br>",
          "<b>Date  </b> 2021-04-26  <br><b>Daily Cases </b>  194  <br><b>Country  </b>  Kenya  <br>",
          "<b>Date  </b> 2021-04-27  <br><b>Daily Cases </b>  511  <br><b>Country  </b>  Kenya  <br>",
          "<b>Date  </b> 2021-04-28  <br><b>Daily Cases </b>  834  <br><b>Country  </b>  Kenya  <br>",
          "<b>Date  </b> 2021-04-29  <br><b>Daily Cases </b>  495  <br><b>Country  </b>  Kenya  <br>",
          "<b>Date  </b> 2021-04-30  <br><b>Daily Cases </b>  497  <br><b>Country  </b>  Kenya  <br>",
          "<b>Date  </b> 2021-05-01  <br><b>Daily Cases </b>  735  <br><b>Country  </b>  Kenya  <br>",
          "<b>Date  </b> 2021-05-02  <br><b>Daily Cases </b>  369  <br><b>Country  </b>  Kenya  <br>",
          "<b>Date  </b> 2021-05-03  <br><b>Daily Cases </b>  137  <br><b>Country  </b>  Kenya  <br>",
          "<b>Date  </b> 2021-05-04  <br><b>Daily Cases </b>  345  <br><b>Country  </b>  Kenya  <br>",
          "<b>Date  </b> 2021-05-05  <br><b>Daily Cases </b>  489  <br><b>Country  </b>  Kenya  <br>",
          "<b>Date  </b> 2021-05-06  <br><b>Daily Cases </b>  705  <br><b>Country  </b>  Kenya  <br>",
          "<b>Date  </b> 2021-05-07  <br><b>Daily Cases </b>  568  <br><b>Country  </b>  Kenya  <br>",
          "<b>Date  </b> 2021-05-08  <br><b>Daily Cases </b>  572  <br><b>Country  </b>  Kenya  <br>",
          "<b>Date  </b> 2021-05-09  <br><b>Daily Cases </b>  316  <br><b>Country  </b>  Kenya  <br>"
         ],
         "marker": {
          "color": "#e55467"
         },
         "name": "Daily cases",
         "type": "bar",
         "x": [
          "2021-04-09T00:00:00",
          "2021-04-10T00:00:00",
          "2021-04-11T00:00:00",
          "2021-04-12T00:00:00",
          "2021-04-13T00:00:00",
          "2021-04-14T00:00:00",
          "2021-04-15T00:00:00",
          "2021-04-16T00:00:00",
          "2021-04-17T00:00:00",
          "2021-04-18T00:00:00",
          "2021-04-19T00:00:00",
          "2021-04-20T00:00:00",
          "2021-04-21T00:00:00",
          "2021-04-22T00:00:00",
          "2021-04-23T00:00:00",
          "2021-04-24T00:00:00",
          "2021-04-25T00:00:00",
          "2021-04-26T00:00:00",
          "2021-04-27T00:00:00",
          "2021-04-28T00:00:00",
          "2021-04-29T00:00:00",
          "2021-04-30T00:00:00",
          "2021-05-01T00:00:00",
          "2021-05-02T00:00:00",
          "2021-05-03T00:00:00",
          "2021-05-04T00:00:00",
          "2021-05-05T00:00:00",
          "2021-05-06T00:00:00",
          "2021-05-07T00:00:00",
          "2021-05-08T00:00:00",
          "2021-05-09T00:00:00"
         ],
         "y": [
          1091,
          1030,
          486,
          486,
          991,
          981,
          1091,
          1041,
          1027,
          366,
          241,
          629,
          965,
          904,
          773,
          1153,
          469,
          194,
          511,
          834,
          495,
          497,
          735,
          369,
          137,
          345,
          489,
          705,
          568,
          572,
          316
         ]
        },
        {
         "hoverinfo": "text",
         "hovertext": [
          "<b>Date  </b> 2021-04-09  <br><b>Rolling_avg for Last 7 days </b>  1,037  <br>",
          "<b>Date  </b> 2021-04-10  <br><b>Rolling_avg for Last 7 days </b>  1,015  <br>",
          "<b>Date  </b> 2021-04-11  <br><b>Rolling_avg for Last 7 days </b>  955  <br>",
          "<b>Date  </b> 2021-04-12  <br><b>Rolling_avg for Last 7 days </b>  958  <br>",
          "<b>Date  </b> 2021-04-13  <br><b>Rolling_avg for Last 7 days </b>  1,044  <br>",
          "<b>Date  </b> 2021-04-14  <br><b>Rolling_avg for Last 7 days </b>  966  <br>",
          "<b>Date  </b> 2021-04-15  <br><b>Rolling_avg for Last 7 days </b>  879  <br>",
          "<b>Date  </b> 2021-04-16  <br><b>Rolling_avg for Last 7 days </b>  872  <br>",
          "<b>Date  </b> 2021-04-17  <br><b>Rolling_avg for Last 7 days </b>  872  <br>",
          "<b>Date  </b> 2021-04-18  <br><b>Rolling_avg for Last 7 days </b>  855  <br>",
          "<b>Date  </b> 2021-04-19  <br><b>Rolling_avg for Last 7 days </b>  820  <br>",
          "<b>Date  </b> 2021-04-20  <br><b>Rolling_avg for Last 7 days </b>  768  <br>",
          "<b>Date  </b> 2021-04-21  <br><b>Rolling_avg for Last 7 days </b>  766  <br>",
          "<b>Date  </b> 2021-04-22  <br><b>Rolling_avg for Last 7 days </b>  739  <br>",
          "<b>Date  </b> 2021-04-23  <br><b>Rolling_avg for Last 7 days </b>  701  <br>",
          "<b>Date  </b> 2021-04-24  <br><b>Rolling_avg for Last 7 days </b>  719  <br>",
          "<b>Date  </b> 2021-04-25  <br><b>Rolling_avg for Last 7 days </b>  733  <br>",
          "<b>Date  </b> 2021-04-26  <br><b>Rolling_avg for Last 7 days </b>  727  <br>",
          "<b>Date  </b> 2021-04-27  <br><b>Rolling_avg for Last 7 days </b>  710  <br>",
          "<b>Date  </b> 2021-04-28  <br><b>Rolling_avg for Last 7 days </b>  691  <br>",
          "<b>Date  </b> 2021-04-29  <br><b>Rolling_avg for Last 7 days </b>  633  <br>",
          "<b>Date  </b> 2021-04-30  <br><b>Rolling_avg for Last 7 days </b>  593  <br>",
          "<b>Date  </b> 2021-05-01  <br><b>Rolling_avg for Last 7 days </b>  534  <br>",
          "<b>Date  </b> 2021-05-02  <br><b>Rolling_avg for Last 7 days </b>  519  <br>",
          "<b>Date  </b> 2021-05-03  <br><b>Rolling_avg for Last 7 days </b>  511  <br>",
          "<b>Date  </b> 2021-05-04  <br><b>Rolling_avg for Last 7 days </b>  487  <br>",
          "<b>Date  </b> 2021-05-05  <br><b>Rolling_avg for Last 7 days </b>  438  <br>",
          "<b>Date  </b> 2021-05-06  <br><b>Rolling_avg for Last 7 days </b>  468  <br>",
          "<b>Date  </b> 2021-05-07  <br><b>Rolling_avg for Last 7 days </b>  478  <br>",
          "<b>Date  </b> 2021-05-08  <br><b>Rolling_avg for Last 7 days </b>  455  <br>",
          "<b>Date  </b> 2021-05-09  <br><b>Rolling_avg for Last 7 days </b>  447  <br>"
         ],
         "line": {
          "color": "#fff",
          "width": 3
         },
         "marker": {
          "color": "green"
         },
         "mode": "lines",
         "name": "Rolling Avg of the last 7 days ",
         "type": "scatter",
         "x": [
          "2021-04-09T00:00:00",
          "2021-04-10T00:00:00",
          "2021-04-11T00:00:00",
          "2021-04-12T00:00:00",
          "2021-04-13T00:00:00",
          "2021-04-14T00:00:00",
          "2021-04-15T00:00:00",
          "2021-04-16T00:00:00",
          "2021-04-17T00:00:00",
          "2021-04-18T00:00:00",
          "2021-04-19T00:00:00",
          "2021-04-20T00:00:00",
          "2021-04-21T00:00:00",
          "2021-04-22T00:00:00",
          "2021-04-23T00:00:00",
          "2021-04-24T00:00:00",
          "2021-04-25T00:00:00",
          "2021-04-26T00:00:00",
          "2021-04-27T00:00:00",
          "2021-04-28T00:00:00",
          "2021-04-29T00:00:00",
          "2021-04-30T00:00:00",
          "2021-05-01T00:00:00",
          "2021-05-02T00:00:00",
          "2021-05-03T00:00:00",
          "2021-05-04T00:00:00",
          "2021-05-05T00:00:00",
          "2021-05-06T00:00:00",
          "2021-05-07T00:00:00",
          "2021-05-08T00:00:00",
          "2021-05-09T00:00:00"
         ],
         "y": [
          1037.2857142857142,
          1015.2857142857143,
          954.5714285714286,
          958.2857142857143,
          1043.5714285714287,
          966.1428571428571,
          879.4285714285714,
          872.2857142857143,
          871.8571428571429,
          854.7142857142857,
          819.7142857142857,
          768,
          765.7142857142857,
          739,
          700.7142857142857,
          718.7142857142857,
          733.4285714285714,
          726.7142857142857,
          709.8571428571429,
          691.1428571428571,
          632.7142857142857,
          593.2857142857143,
          533.5714285714286,
          519.2857142857143,
          511.14285714285717,
          487.42857142857144,
          438.14285714285717,
          468.14285714285717,
          478.2857142857143,
          455,
          447.42857142857144
         ]
        }
       ],
       "layout": {
        "barmode": "stack",
        "font": {
         "color": "#fff",
         "size": 14
        },
        "height": 520,
        "hovermode": "x",
        "legend": {
         "bgcolor": "red",
         "orientation": "h",
         "x": 0.5,
         "xanchor": "center",
         "y": -0.3
        },
        "paper_bgcolor": "#1f2c56",
        "plot_bgcolor": "rgba(23,36,100,.8)",
        "template": {
         "data": {
          "bar": [
           {
            "error_x": {
             "color": "#2a3f5f"
            },
            "error_y": {
             "color": "#2a3f5f"
            },
            "marker": {
             "line": {
              "color": "#E5ECF6",
              "width": 0.5
             }
            },
            "type": "bar"
           }
          ],
          "barpolar": [
           {
            "marker": {
             "line": {
              "color": "#E5ECF6",
              "width": 0.5
             }
            },
            "type": "barpolar"
           }
          ],
          "carpet": [
           {
            "aaxis": {
             "endlinecolor": "#2a3f5f",
             "gridcolor": "white",
             "linecolor": "white",
             "minorgridcolor": "white",
             "startlinecolor": "#2a3f5f"
            },
            "baxis": {
             "endlinecolor": "#2a3f5f",
             "gridcolor": "white",
             "linecolor": "white",
             "minorgridcolor": "white",
             "startlinecolor": "#2a3f5f"
            },
            "type": "carpet"
           }
          ],
          "choropleth": [
           {
            "colorbar": {
             "outlinewidth": 0,
             "ticks": ""
            },
            "type": "choropleth"
           }
          ],
          "contour": [
           {
            "colorbar": {
             "outlinewidth": 0,
             "ticks": ""
            },
            "colorscale": [
             [
              0,
              "#0d0887"
             ],
             [
              0.1111111111111111,
              "#46039f"
             ],
             [
              0.2222222222222222,
              "#7201a8"
             ],
             [
              0.3333333333333333,
              "#9c179e"
             ],
             [
              0.4444444444444444,
              "#bd3786"
             ],
             [
              0.5555555555555556,
              "#d8576b"
             ],
             [
              0.6666666666666666,
              "#ed7953"
             ],
             [
              0.7777777777777778,
              "#fb9f3a"
             ],
             [
              0.8888888888888888,
              "#fdca26"
             ],
             [
              1,
              "#f0f921"
             ]
            ],
            "type": "contour"
           }
          ],
          "contourcarpet": [
           {
            "colorbar": {
             "outlinewidth": 0,
             "ticks": ""
            },
            "type": "contourcarpet"
           }
          ],
          "heatmap": [
           {
            "colorbar": {
             "outlinewidth": 0,
             "ticks": ""
            },
            "colorscale": [
             [
              0,
              "#0d0887"
             ],
             [
              0.1111111111111111,
              "#46039f"
             ],
             [
              0.2222222222222222,
              "#7201a8"
             ],
             [
              0.3333333333333333,
              "#9c179e"
             ],
             [
              0.4444444444444444,
              "#bd3786"
             ],
             [
              0.5555555555555556,
              "#d8576b"
             ],
             [
              0.6666666666666666,
              "#ed7953"
             ],
             [
              0.7777777777777778,
              "#fb9f3a"
             ],
             [
              0.8888888888888888,
              "#fdca26"
             ],
             [
              1,
              "#f0f921"
             ]
            ],
            "type": "heatmap"
           }
          ],
          "heatmapgl": [
           {
            "colorbar": {
             "outlinewidth": 0,
             "ticks": ""
            },
            "colorscale": [
             [
              0,
              "#0d0887"
             ],
             [
              0.1111111111111111,
              "#46039f"
             ],
             [
              0.2222222222222222,
              "#7201a8"
             ],
             [
              0.3333333333333333,
              "#9c179e"
             ],
             [
              0.4444444444444444,
              "#bd3786"
             ],
             [
              0.5555555555555556,
              "#d8576b"
             ],
             [
              0.6666666666666666,
              "#ed7953"
             ],
             [
              0.7777777777777778,
              "#fb9f3a"
             ],
             [
              0.8888888888888888,
              "#fdca26"
             ],
             [
              1,
              "#f0f921"
             ]
            ],
            "type": "heatmapgl"
           }
          ],
          "histogram": [
           {
            "marker": {
             "colorbar": {
              "outlinewidth": 0,
              "ticks": ""
             }
            },
            "type": "histogram"
           }
          ],
          "histogram2d": [
           {
            "colorbar": {
             "outlinewidth": 0,
             "ticks": ""
            },
            "colorscale": [
             [
              0,
              "#0d0887"
             ],
             [
              0.1111111111111111,
              "#46039f"
             ],
             [
              0.2222222222222222,
              "#7201a8"
             ],
             [
              0.3333333333333333,
              "#9c179e"
             ],
             [
              0.4444444444444444,
              "#bd3786"
             ],
             [
              0.5555555555555556,
              "#d8576b"
             ],
             [
              0.6666666666666666,
              "#ed7953"
             ],
             [
              0.7777777777777778,
              "#fb9f3a"
             ],
             [
              0.8888888888888888,
              "#fdca26"
             ],
             [
              1,
              "#f0f921"
             ]
            ],
            "type": "histogram2d"
           }
          ],
          "histogram2dcontour": [
           {
            "colorbar": {
             "outlinewidth": 0,
             "ticks": ""
            },
            "colorscale": [
             [
              0,
              "#0d0887"
             ],
             [
              0.1111111111111111,
              "#46039f"
             ],
             [
              0.2222222222222222,
              "#7201a8"
             ],
             [
              0.3333333333333333,
              "#9c179e"
             ],
             [
              0.4444444444444444,
              "#bd3786"
             ],
             [
              0.5555555555555556,
              "#d8576b"
             ],
             [
              0.6666666666666666,
              "#ed7953"
             ],
             [
              0.7777777777777778,
              "#fb9f3a"
             ],
             [
              0.8888888888888888,
              "#fdca26"
             ],
             [
              1,
              "#f0f921"
             ]
            ],
            "type": "histogram2dcontour"
           }
          ],
          "mesh3d": [
           {
            "colorbar": {
             "outlinewidth": 0,
             "ticks": ""
            },
            "type": "mesh3d"
           }
          ],
          "parcoords": [
           {
            "line": {
             "colorbar": {
              "outlinewidth": 0,
              "ticks": ""
             }
            },
            "type": "parcoords"
           }
          ],
          "pie": [
           {
            "automargin": true,
            "type": "pie"
           }
          ],
          "scatter": [
           {
            "marker": {
             "colorbar": {
              "outlinewidth": 0,
              "ticks": ""
             }
            },
            "type": "scatter"
           }
          ],
          "scatter3d": [
           {
            "line": {
             "colorbar": {
              "outlinewidth": 0,
              "ticks": ""
             }
            },
            "marker": {
             "colorbar": {
              "outlinewidth": 0,
              "ticks": ""
             }
            },
            "type": "scatter3d"
           }
          ],
          "scattercarpet": [
           {
            "marker": {
             "colorbar": {
              "outlinewidth": 0,
              "ticks": ""
             }
            },
            "type": "scattercarpet"
           }
          ],
          "scattergeo": [
           {
            "marker": {
             "colorbar": {
              "outlinewidth": 0,
              "ticks": ""
             }
            },
            "type": "scattergeo"
           }
          ],
          "scattergl": [
           {
            "marker": {
             "colorbar": {
              "outlinewidth": 0,
              "ticks": ""
             }
            },
            "type": "scattergl"
           }
          ],
          "scattermapbox": [
           {
            "marker": {
             "colorbar": {
              "outlinewidth": 0,
              "ticks": ""
             }
            },
            "type": "scattermapbox"
           }
          ],
          "scatterpolar": [
           {
            "marker": {
             "colorbar": {
              "outlinewidth": 0,
              "ticks": ""
             }
            },
            "type": "scatterpolar"
           }
          ],
          "scatterpolargl": [
           {
            "marker": {
             "colorbar": {
              "outlinewidth": 0,
              "ticks": ""
             }
            },
            "type": "scatterpolargl"
           }
          ],
          "scatterternary": [
           {
            "marker": {
             "colorbar": {
              "outlinewidth": 0,
              "ticks": ""
             }
            },
            "type": "scatterternary"
           }
          ],
          "surface": [
           {
            "colorbar": {
             "outlinewidth": 0,
             "ticks": ""
            },
            "colorscale": [
             [
              0,
              "#0d0887"
             ],
             [
              0.1111111111111111,
              "#46039f"
             ],
             [
              0.2222222222222222,
              "#7201a8"
             ],
             [
              0.3333333333333333,
              "#9c179e"
             ],
             [
              0.4444444444444444,
              "#bd3786"
             ],
             [
              0.5555555555555556,
              "#d8576b"
             ],
             [
              0.6666666666666666,
              "#ed7953"
             ],
             [
              0.7777777777777778,
              "#fb9f3a"
             ],
             [
              0.8888888888888888,
              "#fdca26"
             ],
             [
              1,
              "#f0f921"
             ]
            ],
            "type": "surface"
           }
          ],
          "table": [
           {
            "cells": {
             "fill": {
              "color": "#EBF0F8"
             },
             "line": {
              "color": "white"
             }
            },
            "header": {
             "fill": {
              "color": "#C8D4E3"
             },
             "line": {
              "color": "white"
             }
            },
            "type": "table"
           }
          ]
         },
         "layout": {
          "annotationdefaults": {
           "arrowcolor": "#2a3f5f",
           "arrowhead": 0,
           "arrowwidth": 1
          },
          "autotypenumbers": "strict",
          "coloraxis": {
           "colorbar": {
            "outlinewidth": 0,
            "ticks": ""
           }
          },
          "colorscale": {
           "diverging": [
            [
             0,
             "#8e0152"
            ],
            [
             0.1,
             "#c51b7d"
            ],
            [
             0.2,
             "#de77ae"
            ],
            [
             0.3,
             "#f1b6da"
            ],
            [
             0.4,
             "#fde0ef"
            ],
            [
             0.5,
             "#f7f7f7"
            ],
            [
             0.6,
             "#e6f5d0"
            ],
            [
             0.7,
             "#b8e186"
            ],
            [
             0.8,
             "#7fbc41"
            ],
            [
             0.9,
             "#4d9221"
            ],
            [
             1,
             "#276419"
            ]
           ],
           "sequential": [
            [
             0,
             "#0d0887"
            ],
            [
             0.1111111111111111,
             "#46039f"
            ],
            [
             0.2222222222222222,
             "#7201a8"
            ],
            [
             0.3333333333333333,
             "#9c179e"
            ],
            [
             0.4444444444444444,
             "#bd3786"
            ],
            [
             0.5555555555555556,
             "#d8576b"
            ],
            [
             0.6666666666666666,
             "#ed7953"
            ],
            [
             0.7777777777777778,
             "#fb9f3a"
            ],
            [
             0.8888888888888888,
             "#fdca26"
            ],
            [
             1,
             "#f0f921"
            ]
           ],
           "sequentialminus": [
            [
             0,
             "#0d0887"
            ],
            [
             0.1111111111111111,
             "#46039f"
            ],
            [
             0.2222222222222222,
             "#7201a8"
            ],
            [
             0.3333333333333333,
             "#9c179e"
            ],
            [
             0.4444444444444444,
             "#bd3786"
            ],
            [
             0.5555555555555556,
             "#d8576b"
            ],
            [
             0.6666666666666666,
             "#ed7953"
            ],
            [
             0.7777777777777778,
             "#fb9f3a"
            ],
            [
             0.8888888888888888,
             "#fdca26"
            ],
            [
             1,
             "#f0f921"
            ]
           ]
          },
          "colorway": [
           "#636efa",
           "#EF553B",
           "#00cc96",
           "#ab63fa",
           "#FFA15A",
           "#19d3f3",
           "#FF6692",
           "#B6E880",
           "#FF97FF",
           "#FECB52"
          ],
          "font": {
           "color": "#2a3f5f"
          },
          "geo": {
           "bgcolor": "white",
           "lakecolor": "white",
           "landcolor": "#E5ECF6",
           "showlakes": true,
           "showland": true,
           "subunitcolor": "white"
          },
          "hoverlabel": {
           "align": "left"
          },
          "hovermode": "closest",
          "mapbox": {
           "style": "light"
          },
          "paper_bgcolor": "white",
          "plot_bgcolor": "#E5ECF6",
          "polar": {
           "angularaxis": {
            "gridcolor": "white",
            "linecolor": "white",
            "ticks": ""
           },
           "bgcolor": "#E5ECF6",
           "radialaxis": {
            "gridcolor": "white",
            "linecolor": "white",
            "ticks": ""
           }
          },
          "scene": {
           "xaxis": {
            "backgroundcolor": "#E5ECF6",
            "gridcolor": "white",
            "gridwidth": 2,
            "linecolor": "white",
            "showbackground": true,
            "ticks": "",
            "zerolinecolor": "white"
           },
           "yaxis": {
            "backgroundcolor": "#E5ECF6",
            "gridcolor": "white",
            "gridwidth": 2,
            "linecolor": "white",
            "showbackground": true,
            "ticks": "",
            "zerolinecolor": "white"
           },
           "zaxis": {
            "backgroundcolor": "#E5ECF6",
            "gridcolor": "white",
            "gridwidth": 2,
            "linecolor": "white",
            "showbackground": true,
            "ticks": "",
            "zerolinecolor": "white"
           }
          },
          "shapedefaults": {
           "line": {
            "color": "#2a3f5f"
           }
          },
          "ternary": {
           "aaxis": {
            "gridcolor": "white",
            "linecolor": "white",
            "ticks": ""
           },
           "baxis": {
            "gridcolor": "white",
            "linecolor": "white",
            "ticks": ""
           },
           "bgcolor": "#E5ECF6",
           "caxis": {
            "gridcolor": "white",
            "linecolor": "white",
            "ticks": ""
           }
          },
          "title": {
           "x": 0.05
          },
          "xaxis": {
           "automargin": true,
           "gridcolor": "white",
           "linecolor": "white",
           "ticks": "",
           "title": {
            "standoff": 15
           },
           "zerolinecolor": "white",
           "zerolinewidth": 2
          },
          "yaxis": {
           "automargin": true,
           "gridcolor": "white",
           "linecolor": "white",
           "ticks": "",
           "title": {
            "standoff": 15
           },
           "zerolinecolor": "white",
           "zerolinewidth": 2
          }
         }
        },
        "title": {
         "font": {
          "color": "#fff",
          "size": 23
         },
         "text": "Last 31 days cases in   Kenya",
         "x": 0.5,
         "xanchor": "center",
         "y": 0.93,
         "yanchor": "top"
        },
        "width": 1200,
        "xaxis": {
         "autorange": true,
         "color": "#fff",
         "linecolor": "blue",
         "linewidth": 2,
         "range": [
          "2021-04-08 12:00",
          "2021-05-09 12:00"
         ],
         "showgrid": true,
         "showline": true,
         "showticklabels": true,
         "tickfont": {
          "color": "#fff",
          "size": 14
         },
         "ticks": "outside",
         "title": {
          "text": "<b>Date</b>"
         },
         "type": "date"
        },
        "yaxis": {
         "autorange": true,
         "color": "#fff",
         "linecolor": "blue",
         "linewidth": 2,
         "range": [
          0,
          1213.6842105263158
         ],
         "showgrid": true,
         "showline": true,
         "showticklabels": true,
         "tickfont": {
          "color": "#fff",
          "size": 14
         },
         "ticks": "outside",
         "title": {
          "text": "<b>daily cases</b>"
         },
         "type": "linear"
        }
       }
      },
      "image/png": "[encoded data removed]",
      "text/html": [
       "<div>                            <div id=\"94f96a36-1d8b-40e3-88cb-9c57c5991789\" class=\"plotly-graph-div\" style=\"height:520px; width:1200px;\"></div>            <script type=\"text/javascript\">                require([\"plotly\"], function(Plotly) {                    window.PLOTLYENV=window.PLOTLYENV || {};                                    if (document.getElementById(\"94f96a36-1d8b-40e3-88cb-9c57c5991789\")) {                    Plotly.newPlot(                        \"94f96a36-1d8b-40e3-88cb-9c57c5991789\",                        [{\"hoverinfo\": \"text\", \"hovertext\": [\"<b>Date  </b> 2021-04-09  <br><b>Daily Cases </b>  1,091  <br><b>Country  </b>  Kenya  <br>\", \"<b>Date  </b> 2021-04-10  <br><b>Daily Cases </b>  1,030  <br><b>Country  </b>  Kenya  <br>\", \"<b>Date  </b> 2021-04-11  <br><b>Daily Cases </b>  486  <br><b>Country  </b>  Kenya  <br>\", \"<b>Date  </b> 2021-04-12  <br><b>Daily Cases </b>  486  <br><b>Country  </b>  Kenya  <br>\", \"<b>Date  </b> 2021-04-13  <br><b>Daily Cases </b>  991  <br><b>Country  </b>  Kenya  <br>\", \"<b>Date  </b> 2021-04-14  <br><b>Daily Cases </b>  981  <br><b>Country  </b>  Kenya  <br>\", \"<b>Date  </b> 2021-04-15  <br><b>Daily Cases </b>  1,091  <br><b>Country  </b>  Kenya  <br>\", \"<b>Date  </b> 2021-04-16  <br><b>Daily Cases </b>  1,041  <br><b>Country  </b>  Kenya  <br>\", \"<b>Date  </b> 2021-04-17  <br><b>Daily Cases </b>  1,027  <br><b>Country  </b>  Kenya  <br>\", \"<b>Date  </b> 2021-04-18  <br><b>Daily Cases </b>  366  <br><b>Country  </b>  Kenya  <br>\", \"<b>Date  </b> 2021-04-19  <br><b>Daily Cases </b>  241  <br><b>Country  </b>  Kenya  <br>\", \"<b>Date  </b> 2021-04-20  <br><b>Daily Cases </b>  629  <br><b>Country  </b>  Kenya  <br>\", \"<b>Date  </b> 2021-04-21  <br><b>Daily Cases </b>  965  <br><b>Country  </b>  Kenya  <br>\", \"<b>Date  </b> 2021-04-22  <br><b>Daily Cases </b>  904  <br><b>Country  </b>  Kenya  <br>\", \"<b>Date  </b> 2021-04-23  <br><b>Daily Cases </b>  773  <br><b>Country  </b>  Kenya  <br>\", \"<b>Date  </b> 2021-04-24  <br><b>Daily Cases </b>  1,153  <br><b>Country  </b>  Kenya  <br>\", \"<b>Date  </b> 2021-04-25  <br><b>Daily Cases </b>  469  <br><b>Country  </b>  Kenya  <br>\", \"<b>Date  </b> 2021-04-26  <br><b>Daily Cases </b>  194  <br><b>Country  </b>  Kenya  <br>\", \"<b>Date  </b> 2021-04-27  <br><b>Daily Cases </b>  511  <br><b>Country  </b>  Kenya  <br>\", \"<b>Date  </b> 2021-04-28  <br><b>Daily Cases </b>  834  <br><b>Country  </b>  Kenya  <br>\", \"<b>Date  </b> 2021-04-29  <br><b>Daily Cases </b>  495  <br><b>Country  </b>  Kenya  <br>\", \"<b>Date  </b> 2021-04-30  <br><b>Daily Cases </b>  497  <br><b>Country  </b>  Kenya  <br>\", \"<b>Date  </b> 2021-05-01  <br><b>Daily Cases </b>  735  <br><b>Country  </b>  Kenya  <br>\", \"<b>Date  </b> 2021-05-02  <br><b>Daily Cases </b>  369  <br><b>Country  </b>  Kenya  <br>\", \"<b>Date  </b> 2021-05-03  <br><b>Daily Cases </b>  137  <br><b>Country  </b>  Kenya  <br>\", \"<b>Date  </b> 2021-05-04  <br><b>Daily Cases </b>  345  <br><b>Country  </b>  Kenya  <br>\", \"<b>Date  </b> 2021-05-05  <br><b>Daily Cases </b>  489  <br><b>Country  </b>  Kenya  <br>\", \"<b>Date  </b> 2021-05-06  <br><b>Daily Cases </b>  705  <br><b>Country  </b>  Kenya  <br>\", \"<b>Date  </b> 2021-05-07  <br><b>Daily Cases </b>  568  <br><b>Country  </b>  Kenya  <br>\", \"<b>Date  </b> 2021-05-08  <br><b>Daily Cases </b>  572  <br><b>Country  </b>  Kenya  <br>\", \"<b>Date  </b> 2021-05-09  <br><b>Daily Cases </b>  316  <br><b>Country  </b>  Kenya  <br>\"], \"marker\": {\"color\": \"#e55467\"}, \"name\": \"Daily cases\", \"type\": \"bar\", \"x\": [\"2021-04-09T00:00:00\", \"2021-04-10T00:00:00\", \"2021-04-11T00:00:00\", \"2021-04-12T00:00:00\", \"2021-04-13T00:00:00\", \"2021-04-14T00:00:00\", \"2021-04-15T00:00:00\", \"2021-04-16T00:00:00\", \"2021-04-17T00:00:00\", \"2021-04-18T00:00:00\", \"2021-04-19T00:00:00\", \"2021-04-20T00:00:00\", \"2021-04-21T00:00:00\", \"2021-04-22T00:00:00\", \"2021-04-23T00:00:00\", \"2021-04-24T00:00:00\", \"2021-04-25T00:00:00\", \"2021-04-26T00:00:00\", \"2021-04-27T00:00:00\", \"2021-04-28T00:00:00\", \"2021-04-29T00:00:00\", \"2021-04-30T00:00:00\", \"2021-05-01T00:00:00\", \"2021-05-02T00:00:00\", \"2021-05-03T00:00:00\", \"2021-05-04T00:00:00\", \"2021-05-05T00:00:00\", \"2021-05-06T00:00:00\", \"2021-05-07T00:00:00\", \"2021-05-08T00:00:00\", \"2021-05-09T00:00:00\"], \"y\": [1091.0, 1030.0, 486.0, 486.0, 991.0, 981.0, 1091.0, 1041.0, 1027.0, 366.0, 241.0, 629.0, 965.0, 904.0, 773.0, 1153.0, 469.0, 194.0, 511.0, 834.0, 495.0, 497.0, 735.0, 369.0, 137.0, 345.0, 489.0, 705.0, 568.0, 572.0, 316.0]}, {\"hoverinfo\": \"text\", \"hovertext\": [\"<b>Date  </b> 2021-04-09  <br><b>Rolling_avg for Last 7 days </b>  1,037  <br>\", \"<b>Date  </b> 2021-04-10  <br><b>Rolling_avg for Last 7 days </b>  1,015  <br>\", \"<b>Date  </b> 2021-04-11  <br><b>Rolling_avg for Last 7 days </b>  955  <br>\", \"<b>Date  </b> 2021-04-12  <br><b>Rolling_avg for Last 7 days </b>  958  <br>\", \"<b>Date  </b> 2021-04-13  <br><b>Rolling_avg for Last 7 days </b>  1,044  <br>\", \"<b>Date  </b> 2021-04-14  <br><b>Rolling_avg for Last 7 days </b>  966  <br>\", \"<b>Date  </b> 2021-04-15  <br><b>Rolling_avg for Last 7 days </b>  879  <br>\", \"<b>Date  </b> 2021-04-16  <br><b>Rolling_avg for Last 7 days </b>  872  <br>\", \"<b>Date  </b> 2021-04-17  <br><b>Rolling_avg for Last 7 days </b>  872  <br>\", \"<b>Date  </b> 2021-04-18  <br><b>Rolling_avg for Last 7 days </b>  855  <br>\", \"<b>Date  </b> 2021-04-19  <br><b>Rolling_avg for Last 7 days </b>  820  <br>\", \"<b>Date  </b> 2021-04-20  <br><b>Rolling_avg for Last 7 days </b>  768  <br>\", \"<b>Date  </b> 2021-04-21  <br><b>Rolling_avg for Last 7 days </b>  766  <br>\", \"<b>Date  </b> 2021-04-22  <br><b>Rolling_avg for Last 7 days </b>  739  <br>\", \"<b>Date  </b> 2021-04-23  <br><b>Rolling_avg for Last 7 days </b>  701  <br>\", \"<b>Date  </b> 2021-04-24  <br><b>Rolling_avg for Last 7 days </b>  719  <br>\", \"<b>Date  </b> 2021-04-25  <br><b>Rolling_avg for Last 7 days </b>  733  <br>\", \"<b>Date  </b> 2021-04-26  <br><b>Rolling_avg for Last 7 days </b>  727  <br>\", \"<b>Date  </b> 2021-04-27  <br><b>Rolling_avg for Last 7 days </b>  710  <br>\", \"<b>Date  </b> 2021-04-28  <br><b>Rolling_avg for Last 7 days </b>  691  <br>\", \"<b>Date  </b> 2021-04-29  <br><b>Rolling_avg for Last 7 days </b>  633  <br>\", \"<b>Date  </b> 2021-04-30  <br><b>Rolling_avg for Last 7 days </b>  593  <br>\", \"<b>Date  </b> 2021-05-01  <br><b>Rolling_avg for Last 7 days </b>  534  <br>\", \"<b>Date  </b> 2021-05-02  <br><b>Rolling_avg for Last 7 days </b>  519  <br>\", \"<b>Date  </b> 2021-05-03  <br><b>Rolling_avg for Last 7 days </b>  511  <br>\", \"<b>Date  </b> 2021-05-04  <br><b>Rolling_avg for Last 7 days </b>  487  <br>\", \"<b>Date  </b> 2021-05-05  <br><b>Rolling_avg for Last 7 days </b>  438  <br>\", \"<b>Date  </b> 2021-05-06  <br><b>Rolling_avg for Last 7 days </b>  468  <br>\", \"<b>Date  </b> 2021-05-07  <br><b>Rolling_avg for Last 7 days </b>  478  <br>\", \"<b>Date  </b> 2021-05-08  <br><b>Rolling_avg for Last 7 days </b>  455  <br>\", \"<b>Date  </b> 2021-05-09  <br><b>Rolling_avg for Last 7 days </b>  447  <br>\"], \"line\": {\"color\": \"#fff\", \"width\": 3}, \"marker\": {\"color\": \"green\"}, \"mode\": \"lines\", \"name\": \"Rolling Avg of the last 7 days \", \"type\": \"scatter\", \"x\": [\"2021-04-09T00:00:00\", \"2021-04-10T00:00:00\", \"2021-04-11T00:00:00\", \"2021-04-12T00:00:00\", \"2021-04-13T00:00:00\", \"2021-04-14T00:00:00\", \"2021-04-15T00:00:00\", \"2021-04-16T00:00:00\", \"2021-04-17T00:00:00\", \"2021-04-18T00:00:00\", \"2021-04-19T00:00:00\", \"2021-04-20T00:00:00\", \"2021-04-21T00:00:00\", \"2021-04-22T00:00:00\", \"2021-04-23T00:00:00\", \"2021-04-24T00:00:00\", \"2021-04-25T00:00:00\", \"2021-04-26T00:00:00\", \"2021-04-27T00:00:00\", \"2021-04-28T00:00:00\", \"2021-04-29T00:00:00\", \"2021-04-30T00:00:00\", \"2021-05-01T00:00:00\", \"2021-05-02T00:00:00\", \"2021-05-03T00:00:00\", \"2021-05-04T00:00:00\", \"2021-05-05T00:00:00\", \"2021-05-06T00:00:00\", \"2021-05-07T00:00:00\", \"2021-05-08T00:00:00\", \"2021-05-09T00:00:00\"], \"y\": [1037.2857142857142, 1015.2857142857143, 954.5714285714286, 958.2857142857143, 1043.5714285714287, 966.1428571428571, 879.4285714285714, 872.2857142857143, 871.8571428571429, 854.7142857142857, 819.7142857142857, 768.0, 765.7142857142857, 739.0, 700.7142857142857, 718.7142857142857, 733.4285714285714, 726.7142857142857, 709.8571428571429, 691.1428571428571, 632.7142857142857, 593.2857142857143, 533.5714285714286, 519.2857142857143, 511.14285714285717, 487.42857142857144, 438.14285714285717, 468.14285714285717, 478.2857142857143, 455.0, 447.42857142857144]}],                        {\"barmode\": \"stack\", \"font\": {\"color\": \"#fff\", \"size\": 14}, \"height\": 520, \"hovermode\": \"x\", \"legend\": {\"bgcolor\": \"red\", \"orientation\": \"h\", \"x\": 0.5, \"xanchor\": \"center\", \"y\": -0.3}, \"paper_bgcolor\": \"#1f2c56\", \"plot_bgcolor\": \"rgba(23,36,100,.8)\", \"template\": {\"data\": {\"bar\": [{\"error_x\": {\"color\": \"#2a3f5f\"}, \"error_y\": {\"color\": \"#2a3f5f\"}, \"marker\": {\"line\": {\"color\": \"#E5ECF6\", \"width\": 0.5}}, \"type\": \"bar\"}], \"barpolar\": [{\"marker\": {\"line\": {\"color\": \"#E5ECF6\", \"width\": 0.5}}, \"type\": \"barpolar\"}], \"carpet\": [{\"aaxis\": {\"endlinecolor\": \"#2a3f5f\", \"gridcolor\": \"white\", \"linecolor\": \"white\", \"minorgridcolor\": \"white\", \"startlinecolor\": \"#2a3f5f\"}, \"baxis\": {\"endlinecolor\": \"#2a3f5f\", \"gridcolor\": \"white\", \"linecolor\": \"white\", \"minorgridcolor\": \"white\", \"startlinecolor\": \"#2a3f5f\"}, \"type\": \"carpet\"}], \"choropleth\": [{\"colorbar\": {\"outlinewidth\": 0, \"ticks\": \"\"}, \"type\": \"choropleth\"}], \"contour\": [{\"colorbar\": {\"outlinewidth\": 0, \"ticks\": \"\"}, \"colorscale\": [[0.0, \"#0d0887\"], [0.1111111111111111, \"#46039f\"], [0.2222222222222222, \"#7201a8\"], [0.3333333333333333, \"#9c179e\"], [0.4444444444444444, \"#bd3786\"], [0.5555555555555556, \"#d8576b\"], [0.6666666666666666, \"#ed7953\"], [0.7777777777777778, \"#fb9f3a\"], [0.8888888888888888, \"#fdca26\"], [1.0, \"#f0f921\"]], \"type\": \"contour\"}], \"contourcarpet\": [{\"colorbar\": {\"outlinewidth\": 0, \"ticks\": \"\"}, \"type\": \"contourcarpet\"}], \"heatmap\": [{\"colorbar\": {\"outlinewidth\": 0, \"ticks\": \"\"}, \"colorscale\": [[0.0, \"#0d0887\"], [0.1111111111111111, \"#46039f\"], [0.2222222222222222, \"#7201a8\"], [0.3333333333333333, \"#9c179e\"], [0.4444444444444444, \"#bd3786\"], [0.5555555555555556, \"#d8576b\"], [0.6666666666666666, \"#ed7953\"], [0.7777777777777778, \"#fb9f3a\"], [0.8888888888888888, \"#fdca26\"], [1.0, \"#f0f921\"]], \"type\": \"heatmap\"}], \"heatmapgl\": [{\"colorbar\": {\"outlinewidth\": 0, \"ticks\": \"\"}, \"colorscale\": [[0.0, \"#0d0887\"], [0.1111111111111111, \"#46039f\"], [0.2222222222222222, \"#7201a8\"], [0.3333333333333333, \"#9c179e\"], [0.4444444444444444, \"#bd3786\"], [0.5555555555555556, \"#d8576b\"], [0.6666666666666666, \"#ed7953\"], [0.7777777777777778, \"#fb9f3a\"], [0.8888888888888888, \"#fdca26\"], [1.0, \"#f0f921\"]], \"type\": \"heatmapgl\"}], \"histogram\": [{\"marker\": {\"colorbar\": {\"outlinewidth\": 0, \"ticks\": \"\"}}, \"type\": \"histogram\"}], \"histogram2d\": [{\"colorbar\": {\"outlinewidth\": 0, \"ticks\": \"\"}, \"colorscale\": [[0.0, \"#0d0887\"], [0.1111111111111111, \"#46039f\"], [0.2222222222222222, \"#7201a8\"], [0.3333333333333333, \"#9c179e\"], [0.4444444444444444, \"#bd3786\"], [0.5555555555555556, \"#d8576b\"], [0.6666666666666666, \"#ed7953\"], [0.7777777777777778, \"#fb9f3a\"], [0.8888888888888888, \"#fdca26\"], [1.0, \"#f0f921\"]], \"type\": \"histogram2d\"}], \"histogram2dcontour\": [{\"colorbar\": {\"outlinewidth\": 0, \"ticks\": \"\"}, \"colorscale\": [[0.0, \"#0d0887\"], [0.1111111111111111, \"#46039f\"], [0.2222222222222222, \"#7201a8\"], [0.3333333333333333, \"#9c179e\"], [0.4444444444444444, \"#bd3786\"], [0.5555555555555556, \"#d8576b\"], [0.6666666666666666, \"#ed7953\"], [0.7777777777777778, \"#fb9f3a\"], [0.8888888888888888, \"#fdca26\"], [1.0, \"#f0f921\"]], \"type\": \"histogram2dcontour\"}], \"mesh3d\": [{\"colorbar\": {\"outlinewidth\": 0, \"ticks\": \"\"}, \"type\": \"mesh3d\"}], \"parcoords\": [{\"line\": {\"colorbar\": {\"outlinewidth\": 0, \"ticks\": \"\"}}, \"type\": \"parcoords\"}], \"pie\": [{\"automargin\": true, \"type\": \"pie\"}], \"scatter\": [{\"marker\": {\"colorbar\": {\"outlinewidth\": 0, \"ticks\": \"\"}}, \"type\": \"scatter\"}], \"scatter3d\": [{\"line\": {\"colorbar\": {\"outlinewidth\": 0, \"ticks\": \"\"}}, \"marker\": {\"colorbar\": {\"outlinewidth\": 0, \"ticks\": \"\"}}, \"type\": \"scatter3d\"}], \"scattercarpet\": [{\"marker\": {\"colorbar\": {\"outlinewidth\": 0, \"ticks\": \"\"}}, \"type\": \"scattercarpet\"}], \"scattergeo\": [{\"marker\": {\"colorbar\": {\"outlinewidth\": 0, \"ticks\": \"\"}}, \"type\": \"scattergeo\"}], \"scattergl\": [{\"marker\": {\"colorbar\": {\"outlinewidth\": 0, \"ticks\": \"\"}}, \"type\": \"scattergl\"}], \"scattermapbox\": [{\"marker\": {\"colorbar\": {\"outlinewidth\": 0, \"ticks\": \"\"}}, \"type\": \"scattermapbox\"}], \"scatterpolar\": [{\"marker\": {\"colorbar\": {\"outlinewidth\": 0, \"ticks\": \"\"}}, \"type\": \"scatterpolar\"}], \"scatterpolargl\": [{\"marker\": {\"colorbar\": {\"outlinewidth\": 0, \"ticks\": \"\"}}, \"type\": \"scatterpolargl\"}], \"scatterternary\": [{\"marker\": {\"colorbar\": {\"outlinewidth\": 0, \"ticks\": \"\"}}, \"type\": \"scatterternary\"}], \"surface\": [{\"colorbar\": {\"outlinewidth\": 0, \"ticks\": \"\"}, \"colorscale\": [[0.0, \"#0d0887\"], [0.1111111111111111, \"#46039f\"], [0.2222222222222222, \"#7201a8\"], [0.3333333333333333, \"#9c179e\"], [0.4444444444444444, \"#bd3786\"], [0.5555555555555556, \"#d8576b\"], [0.6666666666666666, \"#ed7953\"], [0.7777777777777778, \"#fb9f3a\"], [0.8888888888888888, \"#fdca26\"], [1.0, \"#f0f921\"]], \"type\": \"surface\"}], \"table\": [{\"cells\": {\"fill\": {\"color\": \"#EBF0F8\"}, \"line\": {\"color\": \"white\"}}, \"header\": {\"fill\": {\"color\": \"#C8D4E3\"}, \"line\": {\"color\": \"white\"}}, \"type\": \"table\"}]}, \"layout\": {\"annotationdefaults\": {\"arrowcolor\": \"#2a3f5f\", \"arrowhead\": 0, \"arrowwidth\": 1}, \"autotypenumbers\": \"strict\", \"coloraxis\": {\"colorbar\": {\"outlinewidth\": 0, \"ticks\": \"\"}}, \"colorscale\": {\"diverging\": [[0, \"#8e0152\"], [0.1, \"#c51b7d\"], [0.2, \"#de77ae\"], [0.3, \"#f1b6da\"], [0.4, \"#fde0ef\"], [0.5, \"#f7f7f7\"], [0.6, \"#e6f5d0\"], [0.7, \"#b8e186\"], [0.8, \"#7fbc41\"], [0.9, \"#4d9221\"], [1, \"#276419\"]], \"sequential\": [[0.0, \"#0d0887\"], [0.1111111111111111, \"#46039f\"], [0.2222222222222222, \"#7201a8\"], [0.3333333333333333, \"#9c179e\"], [0.4444444444444444, \"#bd3786\"], [0.5555555555555556, \"#d8576b\"], [0.6666666666666666, \"#ed7953\"], [0.7777777777777778, \"#fb9f3a\"], [0.8888888888888888, \"#fdca26\"], [1.0, \"#f0f921\"]], \"sequentialminus\": [[0.0, \"#0d0887\"], [0.1111111111111111, \"#46039f\"], [0.2222222222222222, \"#7201a8\"], [0.3333333333333333, \"#9c179e\"], [0.4444444444444444, \"#bd3786\"], [0.5555555555555556, \"#d8576b\"], [0.6666666666666666, \"#ed7953\"], [0.7777777777777778, \"#fb9f3a\"], [0.8888888888888888, \"#fdca26\"], [1.0, \"#f0f921\"]]}, \"colorway\": [\"#636efa\", \"#EF553B\", \"#00cc96\", \"#ab63fa\", \"#FFA15A\", \"#19d3f3\", \"#FF6692\", \"#B6E880\", \"#FF97FF\", \"#FECB52\"], \"font\": {\"color\": \"#2a3f5f\"}, \"geo\": {\"bgcolor\": \"white\", \"lakecolor\": \"white\", \"landcolor\": \"#E5ECF6\", \"showlakes\": true, \"showland\": true, \"subunitcolor\": \"white\"}, \"hoverlabel\": {\"align\": \"left\"}, \"hovermode\": \"closest\", \"mapbox\": {\"style\": \"light\"}, \"paper_bgcolor\": \"white\", \"plot_bgcolor\": \"#E5ECF6\", \"polar\": {\"angularaxis\": {\"gridcolor\": \"white\", \"linecolor\": \"white\", \"ticks\": \"\"}, \"bgcolor\": \"#E5ECF6\", \"radialaxis\": {\"gridcolor\": \"white\", \"linecolor\": \"white\", \"ticks\": \"\"}}, \"scene\": {\"xaxis\": {\"backgroundcolor\": \"#E5ECF6\", \"gridcolor\": \"white\", \"gridwidth\": 2, \"linecolor\": \"white\", \"showbackground\": true, \"ticks\": \"\", \"zerolinecolor\": \"white\"}, \"yaxis\": {\"backgroundcolor\": \"#E5ECF6\", \"gridcolor\": \"white\", \"gridwidth\": 2, \"linecolor\": \"white\", \"showbackground\": true, \"ticks\": \"\", \"zerolinecolor\": \"white\"}, \"zaxis\": {\"backgroundcolor\": \"#E5ECF6\", \"gridcolor\": \"white\", \"gridwidth\": 2, \"linecolor\": \"white\", \"showbackground\": true, \"ticks\": \"\", \"zerolinecolor\": \"white\"}}, \"shapedefaults\": {\"line\": {\"color\": \"#2a3f5f\"}}, \"ternary\": {\"aaxis\": {\"gridcolor\": \"white\", \"linecolor\": \"white\", \"ticks\": \"\"}, \"baxis\": {\"gridcolor\": \"white\", \"linecolor\": \"white\", \"ticks\": \"\"}, \"bgcolor\": \"#E5ECF6\", \"caxis\": {\"gridcolor\": \"white\", \"linecolor\": \"white\", \"ticks\": \"\"}}, \"title\": {\"x\": 0.05}, \"xaxis\": {\"automargin\": true, \"gridcolor\": \"white\", \"linecolor\": \"white\", \"ticks\": \"\", \"title\": {\"standoff\": 15}, \"zerolinecolor\": \"white\", \"zerolinewidth\": 2}, \"yaxis\": {\"automargin\": true, \"gridcolor\": \"white\", \"linecolor\": \"white\", \"ticks\": \"\", \"title\": {\"standoff\": 15}, \"zerolinecolor\": \"white\", \"zerolinewidth\": 2}}}, \"title\": {\"font\": {\"color\": \"#fff\", \"size\": 23}, \"text\": \"Last 31 days cases in   Kenya\", \"x\": 0.5, \"xanchor\": \"center\", \"y\": 0.93, \"yanchor\": \"top\"}, \"width\": 1200, \"xaxis\": {\"color\": \"#fff\", \"linecolor\": \"blue\", \"linewidth\": 2, \"showgrid\": true, \"showline\": true, \"showticklabels\": true, \"tickfont\": {\"color\": \"#fff\", \"size\": 14}, \"ticks\": \"outside\", \"title\": {\"text\": \"<b>Date</b>\"}}, \"yaxis\": {\"color\": \"#fff\", \"linecolor\": \"blue\", \"linewidth\": 2, \"showgrid\": true, \"showline\": true, \"showticklabels\": true, \"tickfont\": {\"color\": \"#fff\", \"size\": 14}, \"ticks\": \"outside\", \"title\": {\"text\": \"<b>daily cases</b>\"}}},                        {\"responsive\": true}                    ).then(function(){\n",
       "                            \n",
       "var gd = document.getElementById('94f96a36-1d8b-40e3-88cb-9c57c5991789');\n",
       "var x = new MutationObserver(function (mutations, observer) {{\n",
       "        var display = window.getComputedStyle(gd).display;\n",
       "        if (!display || display === 'none') {{\n",
       "            console.log([gd, 'removed!']);\n",
       "            Plotly.purge(gd);\n",
       "            observer.disconnect();\n",
       "        }}\n",
       "}});\n",
       "\n",
       "// Listen for the removal of the full notebook cells\n",
       "var notebookContainer = gd.closest('#notebook-container');\n",
       "if (notebookContainer) {{\n",
       "    x.observe(notebookContainer, {childList: true});\n",
       "}}\n",
       "\n",
       "// Listen for the clearing of the current output cell\n",
       "var outputEl = gd.closest('.output');\n",
       "if (outputEl) {{\n",
       "    x.observe(outputEl, {childList: true});\n",
       "}}\n",
       "\n",
       "                        })                };                });            </script>        </div>"
      ]
     },
     "metadata": {},
     "output_type": "display_data"
    }
   ],
   "source": [
    "df3 = df[df['Country'] == w_countries][['Country' , 'date' ,'confirmed']].reset_index()\n",
    "df3['daily_shift'] = df3['confirmed']- df3['confirmed'].shift(1)\n",
    "df3['rolling_avg'] = df3['daily_shift'].rolling(window =7).mean()\n",
    "fig = go.Figure(\n",
    "    [\n",
    "                go.Bar(\n",
    "                x = df3[df3['Country'] ==  w_countries]['date'].tail(31),\n",
    "                y = df3[df3['Country'] == w_countries]['daily_shift'].tail(31),\n",
    "                name = \"Daily cases\",\n",
    "                marker =dict(\n",
    "                    color ='#e55467',\n",
    "                ),\n",
    "                hoverinfo='text',\n",
    "                hovertext =\n",
    "                '<b>Date  </b> ' + df3[df3['Country'] == w_countries]['date'].tail(31).astype(str) + '  <br>' +\n",
    "                '<b>Daily Cases </b>  ' + [f'{x:,.0f}' for x in df3[df3['Country'] == w_countries]['daily_shift'].tail(31) ] + '  <br>' +\n",
    "                '<b>Country  </b>  ' + df3[df3['Country'] == w_countries]['Country'].tail(31).astype(str)  + '  <br>'\n",
    "            ) ,\n",
    "                go.Scatter(\n",
    "                x = df3[df3['Country'] == w_countries]['date'].tail(31),\n",
    "                y = df3[df3['Country'] == w_countries]['rolling_avg'].tail(31),\n",
    "                mode = 'lines',\n",
    "                name = 'Rolling Avg of the last 7 days ',\n",
    "                line = dict(width=3 , color =\"#fff\"),\n",
    "                marker=dict(color =\"green\"),\n",
    "                hoverinfo='text',\n",
    "                hovertext=\n",
    "                '<b>Date  </b> ' + df3[df3['Country'] == w_countries]['date'].tail(31).astype(str) + '  <br>' +\n",
    "                '<b>Rolling_avg for Last 7 days </b>  ' + [f'{x:,.0f}' for x in df3[df3['Country'] == w_countries]['rolling_avg'].tail(31) ] + '  <br>' \n",
    "            )\n",
    "    ]\n",
    "\n",
    "\n",
    ")\n",
    "fig.update_layout(\n",
    "            width = 1200,\n",
    "            height = 520,\n",
    "            barmode = 'stack',\n",
    "            plot_bgcolor ='rgba(23,36,100,.8)',\n",
    "            paper_bgcolor ='#1f2c56',\n",
    "            title={\n",
    "                'text':f\"Last 31 days cases in   {w_countries}\",\n",
    "                'y':0.93,\n",
    "                'x':0.5,\n",
    "                'xanchor':'center',\n",
    "                'yanchor':'top',\n",
    "            },\n",
    "            titlefont={\n",
    "                'color':'#fff',\n",
    "                'size':23,\n",
    "\n",
    "            },\n",
    "            hovermode='x',\n",
    "            xaxis = dict(\n",
    "                title = '<b>Date</b>',\n",
    "                color ='#fff',\n",
    "                showline =True,\n",
    "                showgrid = True,\n",
    "                ticks='outside',\n",
    "                showticklabels = True,\n",
    "                linewidth=2,\n",
    "                linecolor ='blue',\n",
    "                tickfont=dict(\n",
    "                    size =14,\n",
    "                    color ='#fff',\n",
    "                )\n",
    "            ),\n",
    "\n",
    "            yaxis = dict(\n",
    "                title = '<b>daily cases</b>',\n",
    "                color ='#fff',\n",
    "                showline =True,\n",
    "                showgrid = True,\n",
    "                ticks='outside',\n",
    "                showticklabels =True,\n",
    "                linewidth=2,\n",
    "                linecolor ='blue',\n",
    "                tickfont=dict(\n",
    "                    size =14,\n",
    "                    color ='#fff',\n",
    "                )\n",
    "            ),\n",
    "\n",
    "            legend={\n",
    "                'orientation':'h',\n",
    "                'bgcolor':'red',\n",
    "                'xanchor':'center',\n",
    "                'x':0.5,'y':-0.3,\n",
    "            },\n",
    "            font= dict(\n",
    "                size =14,\n",
    "                color ='#fff',\n",
    "            ),\n",
    ")\n",
    "fig.show()"
   ]
  },
  {
   "cell_type": "code",
   "execution_count": 71,
   "metadata": {},
   "outputs": [
    {
     "data": {
      "text/plain": [
       "0          NaN\n",
       "1      25088.0\n",
       "2     -44522.0\n",
       "3     -12061.0\n",
       "4      88813.0\n",
       "        ...   \n",
       "323   -35686.0\n",
       "324     2079.0\n",
       "325    -1159.0\n",
       "326    77282.0\n",
       "327   -73130.0\n",
       "Name: confirmed, Length: 328, dtype: float64"
      ]
     },
     "execution_count": 71,
     "metadata": {},
     "output_type": "execute_result"
    }
   ],
   "source": [
    "x = df3['confirmed'].shift(1)\n",
    "df3['confirmed']"
   ]
  },
  {
   "cell_type": "code",
   "execution_count": 84,
   "metadata": {},
   "outputs": [],
   "source": [
    "x = df3[df3['Country'] ==  w_countries]['date'].tail(31),\n",
    "y = df3[df3['Country'] == w_countries]['daily_shift'].tail(31),"
   ]
  },
  {
   "cell_type": "code",
   "execution_count": 91,
   "metadata": {},
   "outputs": [
    {
     "data": {
      "text/html": [
       "<div>\n",
       "<style scoped>\n",
       "    .dataframe tbody tr th:only-of-type {\n",
       "        vertical-align: middle;\n",
       "    }\n",
       "\n",
       "    .dataframe tbody tr th {\n",
       "        vertical-align: top;\n",
       "    }\n",
       "\n",
       "    .dataframe thead th {\n",
       "        text-align: right;\n",
       "    }\n",
       "</style>\n",
       "<table border=\"1\" class=\"dataframe\">\n",
       "  <thead>\n",
       "    <tr style=\"text-align: right;\">\n",
       "      <th></th>\n",
       "      <th>index</th>\n",
       "      <th>Country</th>\n",
       "      <th>date</th>\n",
       "      <th>confirmed</th>\n",
       "      <th>daily_shift</th>\n",
       "      <th>rolling_avg</th>\n",
       "    </tr>\n",
       "  </thead>\n",
       "  <tbody>\n",
       "    <tr>\n",
       "      <th>0</th>\n",
       "      <td>160</td>\n",
       "      <td>Afghanistan</td>\n",
       "      <td>2020-06-30</td>\n",
       "      <td>31507</td>\n",
       "      <td>NaN</td>\n",
       "      <td>NaN</td>\n",
       "    </tr>\n",
       "    <tr>\n",
       "      <th>1</th>\n",
       "      <td>437</td>\n",
       "      <td>Afghanistan</td>\n",
       "      <td>2021-04-03</td>\n",
       "      <td>56595</td>\n",
       "      <td>25088.0</td>\n",
       "      <td>NaN</td>\n",
       "    </tr>\n",
       "    <tr>\n",
       "      <th>2</th>\n",
       "      <td>714</td>\n",
       "      <td>Albania</td>\n",
       "      <td>2020-09-18</td>\n",
       "      <td>12073</td>\n",
       "      <td>-44522.0</td>\n",
       "      <td>NaN</td>\n",
       "    </tr>\n",
       "    <tr>\n",
       "      <th>3</th>\n",
       "      <td>991</td>\n",
       "      <td>Algeria</td>\n",
       "      <td>2020-03-05</td>\n",
       "      <td>12</td>\n",
       "      <td>-12061.0</td>\n",
       "      <td>NaN</td>\n",
       "    </tr>\n",
       "    <tr>\n",
       "      <th>4</th>\n",
       "      <td>1268</td>\n",
       "      <td>Algeria</td>\n",
       "      <td>2020-12-07</td>\n",
       "      <td>88825</td>\n",
       "      <td>88813.0</td>\n",
       "      <td>NaN</td>\n",
       "    </tr>\n",
       "    <tr>\n",
       "      <th>...</th>\n",
       "      <td>...</td>\n",
       "      <td>...</td>\n",
       "      <td>...</td>\n",
       "      <td>...</td>\n",
       "      <td>...</td>\n",
       "      <td>...</td>\n",
       "    </tr>\n",
       "    <tr>\n",
       "      <th>323</th>\n",
       "      <td>89631</td>\n",
       "      <td>Yemen</td>\n",
       "      <td>2020-03-07</td>\n",
       "      <td>0</td>\n",
       "      <td>-35686.0</td>\n",
       "      <td>0.000000</td>\n",
       "    </tr>\n",
       "    <tr>\n",
       "      <th>324</th>\n",
       "      <td>89908</td>\n",
       "      <td>Yemen</td>\n",
       "      <td>2020-12-09</td>\n",
       "      <td>2079</td>\n",
       "      <td>2079.0</td>\n",
       "      <td>297.000000</td>\n",
       "    </tr>\n",
       "    <tr>\n",
       "      <th>325</th>\n",
       "      <td>90185</td>\n",
       "      <td>Zambia</td>\n",
       "      <td>2020-05-26</td>\n",
       "      <td>920</td>\n",
       "      <td>-1159.0</td>\n",
       "      <td>104.428571</td>\n",
       "    </tr>\n",
       "    <tr>\n",
       "      <th>326</th>\n",
       "      <td>90462</td>\n",
       "      <td>Zambia</td>\n",
       "      <td>2021-02-27</td>\n",
       "      <td>78202</td>\n",
       "      <td>77282.0</td>\n",
       "      <td>-5807.714286</td>\n",
       "    </tr>\n",
       "    <tr>\n",
       "      <th>327</th>\n",
       "      <td>90739</td>\n",
       "      <td>Zimbabwe</td>\n",
       "      <td>2020-08-14</td>\n",
       "      <td>5072</td>\n",
       "      <td>-73130.0</td>\n",
       "      <td>673.857143</td>\n",
       "    </tr>\n",
       "  </tbody>\n",
       "</table>\n",
       "<p>328 rows × 6 columns</p>\n",
       "</div>"
      ],
      "text/plain": [
       "     index      Country       date  confirmed  daily_shift  rolling_avg\n",
       "0      160  Afghanistan 2020-06-30      31507          NaN          NaN\n",
       "1      437  Afghanistan 2021-04-03      56595      25088.0          NaN\n",
       "2      714      Albania 2020-09-18      12073     -44522.0          NaN\n",
       "3      991      Algeria 2020-03-05         12     -12061.0          NaN\n",
       "4     1268      Algeria 2020-12-07      88825      88813.0          NaN\n",
       "..     ...          ...        ...        ...          ...          ...\n",
       "323  89631        Yemen 2020-03-07          0     -35686.0     0.000000\n",
       "324  89908        Yemen 2020-12-09       2079       2079.0   297.000000\n",
       "325  90185       Zambia 2020-05-26        920      -1159.0   104.428571\n",
       "326  90462       Zambia 2021-02-27      78202      77282.0 -5807.714286\n",
       "327  90739     Zimbabwe 2020-08-14       5072     -73130.0   673.857143\n",
       "\n",
       "[328 rows x 6 columns]"
      ]
     },
     "execution_count": 91,
     "metadata": {},
     "output_type": "execute_result"
    }
   ],
   "source": [
    "# df[df['Country'] ==  w_countries].tail(31)['date']\n",
    "df3"
   ]
  },
  {
   "cell_type": "code",
   "execution_count": 106,
   "metadata": {},
   "outputs": [
    {
     "data": {
      "application/vnd.plotly.v1+json": {
       "config": {
        "plotlyServerURL": "https://plot.ly"
       },
       "data": [
        {
         "delta": {
          "font": {
           "size": 15
          },
          "position": "right",
          "reference": 572,
          "relative": false,
          "valueformat": ".9"
         },
         "mode": "number+delta",
         "number": {
          "font": {
           "size": 20
          },
          "valueformat": "."
         },
         "type": "indicator",
         "value": 316
        }
       ],
       "layout": {
        "autosize": true,
        "font": {
         "color": "orange"
        },
        "paper_bgcolor": "#1f2c56",
        "plot_bgcolor": "#1f2c57",
        "template": {
         "data": {
          "bar": [
           {
            "error_x": {
             "color": "#2a3f5f"
            },
            "error_y": {
             "color": "#2a3f5f"
            },
            "marker": {
             "line": {
              "color": "#E5ECF6",
              "width": 0.5
             }
            },
            "type": "bar"
           }
          ],
          "barpolar": [
           {
            "marker": {
             "line": {
              "color": "#E5ECF6",
              "width": 0.5
             }
            },
            "type": "barpolar"
           }
          ],
          "carpet": [
           {
            "aaxis": {
             "endlinecolor": "#2a3f5f",
             "gridcolor": "white",
             "linecolor": "white",
             "minorgridcolor": "white",
             "startlinecolor": "#2a3f5f"
            },
            "baxis": {
             "endlinecolor": "#2a3f5f",
             "gridcolor": "white",
             "linecolor": "white",
             "minorgridcolor": "white",
             "startlinecolor": "#2a3f5f"
            },
            "type": "carpet"
           }
          ],
          "choropleth": [
           {
            "colorbar": {
             "outlinewidth": 0,
             "ticks": ""
            },
            "type": "choropleth"
           }
          ],
          "contour": [
           {
            "colorbar": {
             "outlinewidth": 0,
             "ticks": ""
            },
            "colorscale": [
             [
              0,
              "#0d0887"
             ],
             [
              0.1111111111111111,
              "#46039f"
             ],
             [
              0.2222222222222222,
              "#7201a8"
             ],
             [
              0.3333333333333333,
              "#9c179e"
             ],
             [
              0.4444444444444444,
              "#bd3786"
             ],
             [
              0.5555555555555556,
              "#d8576b"
             ],
             [
              0.6666666666666666,
              "#ed7953"
             ],
             [
              0.7777777777777778,
              "#fb9f3a"
             ],
             [
              0.8888888888888888,
              "#fdca26"
             ],
             [
              1,
              "#f0f921"
             ]
            ],
            "type": "contour"
           }
          ],
          "contourcarpet": [
           {
            "colorbar": {
             "outlinewidth": 0,
             "ticks": ""
            },
            "type": "contourcarpet"
           }
          ],
          "heatmap": [
           {
            "colorbar": {
             "outlinewidth": 0,
             "ticks": ""
            },
            "colorscale": [
             [
              0,
              "#0d0887"
             ],
             [
              0.1111111111111111,
              "#46039f"
             ],
             [
              0.2222222222222222,
              "#7201a8"
             ],
             [
              0.3333333333333333,
              "#9c179e"
             ],
             [
              0.4444444444444444,
              "#bd3786"
             ],
             [
              0.5555555555555556,
              "#d8576b"
             ],
             [
              0.6666666666666666,
              "#ed7953"
             ],
             [
              0.7777777777777778,
              "#fb9f3a"
             ],
             [
              0.8888888888888888,
              "#fdca26"
             ],
             [
              1,
              "#f0f921"
             ]
            ],
            "type": "heatmap"
           }
          ],
          "heatmapgl": [
           {
            "colorbar": {
             "outlinewidth": 0,
             "ticks": ""
            },
            "colorscale": [
             [
              0,
              "#0d0887"
             ],
             [
              0.1111111111111111,
              "#46039f"
             ],
             [
              0.2222222222222222,
              "#7201a8"
             ],
             [
              0.3333333333333333,
              "#9c179e"
             ],
             [
              0.4444444444444444,
              "#bd3786"
             ],
             [
              0.5555555555555556,
              "#d8576b"
             ],
             [
              0.6666666666666666,
              "#ed7953"
             ],
             [
              0.7777777777777778,
              "#fb9f3a"
             ],
             [
              0.8888888888888888,
              "#fdca26"
             ],
             [
              1,
              "#f0f921"
             ]
            ],
            "type": "heatmapgl"
           }
          ],
          "histogram": [
           {
            "marker": {
             "colorbar": {
              "outlinewidth": 0,
              "ticks": ""
             }
            },
            "type": "histogram"
           }
          ],
          "histogram2d": [
           {
            "colorbar": {
             "outlinewidth": 0,
             "ticks": ""
            },
            "colorscale": [
             [
              0,
              "#0d0887"
             ],
             [
              0.1111111111111111,
              "#46039f"
             ],
             [
              0.2222222222222222,
              "#7201a8"
             ],
             [
              0.3333333333333333,
              "#9c179e"
             ],
             [
              0.4444444444444444,
              "#bd3786"
             ],
             [
              0.5555555555555556,
              "#d8576b"
             ],
             [
              0.6666666666666666,
              "#ed7953"
             ],
             [
              0.7777777777777778,
              "#fb9f3a"
             ],
             [
              0.8888888888888888,
              "#fdca26"
             ],
             [
              1,
              "#f0f921"
             ]
            ],
            "type": "histogram2d"
           }
          ],
          "histogram2dcontour": [
           {
            "colorbar": {
             "outlinewidth": 0,
             "ticks": ""
            },
            "colorscale": [
             [
              0,
              "#0d0887"
             ],
             [
              0.1111111111111111,
              "#46039f"
             ],
             [
              0.2222222222222222,
              "#7201a8"
             ],
             [
              0.3333333333333333,
              "#9c179e"
             ],
             [
              0.4444444444444444,
              "#bd3786"
             ],
             [
              0.5555555555555556,
              "#d8576b"
             ],
             [
              0.6666666666666666,
              "#ed7953"
             ],
             [
              0.7777777777777778,
              "#fb9f3a"
             ],
             [
              0.8888888888888888,
              "#fdca26"
             ],
             [
              1,
              "#f0f921"
             ]
            ],
            "type": "histogram2dcontour"
           }
          ],
          "mesh3d": [
           {
            "colorbar": {
             "outlinewidth": 0,
             "ticks": ""
            },
            "type": "mesh3d"
           }
          ],
          "parcoords": [
           {
            "line": {
             "colorbar": {
              "outlinewidth": 0,
              "ticks": ""
             }
            },
            "type": "parcoords"
           }
          ],
          "pie": [
           {
            "automargin": true,
            "type": "pie"
           }
          ],
          "scatter": [
           {
            "marker": {
             "colorbar": {
              "outlinewidth": 0,
              "ticks": ""
             }
            },
            "type": "scatter"
           }
          ],
          "scatter3d": [
           {
            "line": {
             "colorbar": {
              "outlinewidth": 0,
              "ticks": ""
             }
            },
            "marker": {
             "colorbar": {
              "outlinewidth": 0,
              "ticks": ""
             }
            },
            "type": "scatter3d"
           }
          ],
          "scattercarpet": [
           {
            "marker": {
             "colorbar": {
              "outlinewidth": 0,
              "ticks": ""
             }
            },
            "type": "scattercarpet"
           }
          ],
          "scattergeo": [
           {
            "marker": {
             "colorbar": {
              "outlinewidth": 0,
              "ticks": ""
             }
            },
            "type": "scattergeo"
           }
          ],
          "scattergl": [
           {
            "marker": {
             "colorbar": {
              "outlinewidth": 0,
              "ticks": ""
             }
            },
            "type": "scattergl"
           }
          ],
          "scattermapbox": [
           {
            "marker": {
             "colorbar": {
              "outlinewidth": 0,
              "ticks": ""
             }
            },
            "type": "scattermapbox"
           }
          ],
          "scatterpolar": [
           {
            "marker": {
             "colorbar": {
              "outlinewidth": 0,
              "ticks": ""
             }
            },
            "type": "scatterpolar"
           }
          ],
          "scatterpolargl": [
           {
            "marker": {
             "colorbar": {
              "outlinewidth": 0,
              "ticks": ""
             }
            },
            "type": "scatterpolargl"
           }
          ],
          "scatterternary": [
           {
            "marker": {
             "colorbar": {
              "outlinewidth": 0,
              "ticks": ""
             }
            },
            "type": "scatterternary"
           }
          ],
          "surface": [
           {
            "colorbar": {
             "outlinewidth": 0,
             "ticks": ""
            },
            "colorscale": [
             [
              0,
              "#0d0887"
             ],
             [
              0.1111111111111111,
              "#46039f"
             ],
             [
              0.2222222222222222,
              "#7201a8"
             ],
             [
              0.3333333333333333,
              "#9c179e"
             ],
             [
              0.4444444444444444,
              "#bd3786"
             ],
             [
              0.5555555555555556,
              "#d8576b"
             ],
             [
              0.6666666666666666,
              "#ed7953"
             ],
             [
              0.7777777777777778,
              "#fb9f3a"
             ],
             [
              0.8888888888888888,
              "#fdca26"
             ],
             [
              1,
              "#f0f921"
             ]
            ],
            "type": "surface"
           }
          ],
          "table": [
           {
            "cells": {
             "fill": {
              "color": "#EBF0F8"
             },
             "line": {
              "color": "white"
             }
            },
            "header": {
             "fill": {
              "color": "#C8D4E3"
             },
             "line": {
              "color": "white"
             }
            },
            "type": "table"
           }
          ]
         },
         "layout": {
          "annotationdefaults": {
           "arrowcolor": "#2a3f5f",
           "arrowhead": 0,
           "arrowwidth": 1
          },
          "autotypenumbers": "strict",
          "coloraxis": {
           "colorbar": {
            "outlinewidth": 0,
            "ticks": ""
           }
          },
          "colorscale": {
           "diverging": [
            [
             0,
             "#8e0152"
            ],
            [
             0.1,
             "#c51b7d"
            ],
            [
             0.2,
             "#de77ae"
            ],
            [
             0.3,
             "#f1b6da"
            ],
            [
             0.4,
             "#fde0ef"
            ],
            [
             0.5,
             "#f7f7f7"
            ],
            [
             0.6,
             "#e6f5d0"
            ],
            [
             0.7,
             "#b8e186"
            ],
            [
             0.8,
             "#7fbc41"
            ],
            [
             0.9,
             "#4d9221"
            ],
            [
             1,
             "#276419"
            ]
           ],
           "sequential": [
            [
             0,
             "#0d0887"
            ],
            [
             0.1111111111111111,
             "#46039f"
            ],
            [
             0.2222222222222222,
             "#7201a8"
            ],
            [
             0.3333333333333333,
             "#9c179e"
            ],
            [
             0.4444444444444444,
             "#bd3786"
            ],
            [
             0.5555555555555556,
             "#d8576b"
            ],
            [
             0.6666666666666666,
             "#ed7953"
            ],
            [
             0.7777777777777778,
             "#fb9f3a"
            ],
            [
             0.8888888888888888,
             "#fdca26"
            ],
            [
             1,
             "#f0f921"
            ]
           ],
           "sequentialminus": [
            [
             0,
             "#0d0887"
            ],
            [
             0.1111111111111111,
             "#46039f"
            ],
            [
             0.2222222222222222,
             "#7201a8"
            ],
            [
             0.3333333333333333,
             "#9c179e"
            ],
            [
             0.4444444444444444,
             "#bd3786"
            ],
            [
             0.5555555555555556,
             "#d8576b"
            ],
            [
             0.6666666666666666,
             "#ed7953"
            ],
            [
             0.7777777777777778,
             "#fb9f3a"
            ],
            [
             0.8888888888888888,
             "#fdca26"
            ],
            [
             1,
             "#f0f921"
            ]
           ]
          },
          "colorway": [
           "#636efa",
           "#EF553B",
           "#00cc96",
           "#ab63fa",
           "#FFA15A",
           "#19d3f3",
           "#FF6692",
           "#B6E880",
           "#FF97FF",
           "#FECB52"
          ],
          "font": {
           "color": "#2a3f5f"
          },
          "geo": {
           "bgcolor": "white",
           "lakecolor": "white",
           "landcolor": "#E5ECF6",
           "showlakes": true,
           "showland": true,
           "subunitcolor": "white"
          },
          "hoverlabel": {
           "align": "left"
          },
          "hovermode": "closest",
          "mapbox": {
           "style": "light"
          },
          "paper_bgcolor": "white",
          "plot_bgcolor": "#E5ECF6",
          "polar": {
           "angularaxis": {
            "gridcolor": "white",
            "linecolor": "white",
            "ticks": ""
           },
           "bgcolor": "#E5ECF6",
           "radialaxis": {
            "gridcolor": "white",
            "linecolor": "white",
            "ticks": ""
           }
          },
          "scene": {
           "xaxis": {
            "backgroundcolor": "#E5ECF6",
            "gridcolor": "white",
            "gridwidth": 2,
            "linecolor": "white",
            "showbackground": true,
            "ticks": "",
            "zerolinecolor": "white"
           },
           "yaxis": {
            "backgroundcolor": "#E5ECF6",
            "gridcolor": "white",
            "gridwidth": 2,
            "linecolor": "white",
            "showbackground": true,
            "ticks": "",
            "zerolinecolor": "white"
           },
           "zaxis": {
            "backgroundcolor": "#E5ECF6",
            "gridcolor": "white",
            "gridwidth": 2,
            "linecolor": "white",
            "showbackground": true,
            "ticks": "",
            "zerolinecolor": "white"
           }
          },
          "shapedefaults": {
           "line": {
            "color": "#2a3f5f"
           }
          },
          "ternary": {
           "aaxis": {
            "gridcolor": "white",
            "linecolor": "white",
            "ticks": ""
           },
           "baxis": {
            "gridcolor": "white",
            "linecolor": "white",
            "ticks": ""
           },
           "bgcolor": "#E5ECF6",
           "caxis": {
            "gridcolor": "white",
            "linecolor": "white",
            "ticks": ""
           }
          },
          "title": {
           "x": 0.05
          },
          "xaxis": {
           "automargin": true,
           "gridcolor": "white",
           "linecolor": "white",
           "ticks": "",
           "title": {
            "standoff": 15
           },
           "zerolinecolor": "white",
           "zerolinewidth": 2
          },
          "yaxis": {
           "automargin": true,
           "gridcolor": "white",
           "linecolor": "white",
           "ticks": "",
           "title": {
            "standoff": 15
           },
           "zerolinecolor": "white",
           "zerolinewidth": 2
          }
         }
        },
        "title": {
         "text": "New Confirmed",
         "x": 0.5,
         "xanchor": "center",
         "y": 1,
         "yanchor": "top"
        }
       }
      },
      "image/png": "[encoded data removed]",
      "text/html": [
       "<div>                            <div id=\"72ec6b48-2eef-4521-b09e-c2e6e959958f\" class=\"plotly-graph-div\" style=\"height:525px; width:100%;\"></div>            <script type=\"text/javascript\">                require([\"plotly\"], function(Plotly) {                    window.PLOTLYENV=window.PLOTLYENV || {};                                    if (document.getElementById(\"72ec6b48-2eef-4521-b09e-c2e6e959958f\")) {                    Plotly.newPlot(                        \"72ec6b48-2eef-4521-b09e-c2e6e959958f\",                        [{\"delta\": {\"font\": {\"size\": 15}, \"position\": \"right\", \"reference\": 572, \"relative\": false, \"valueformat\": \".9\"}, \"mode\": \"number+delta\", \"number\": {\"font\": {\"size\": 20}, \"valueformat\": \".\"}, \"type\": \"indicator\", \"value\": 316}],                        {\"font\": {\"color\": \"orange\"}, \"paper_bgcolor\": \"#1f2c56\", \"plot_bgcolor\": \"#1f2c57\", \"template\": {\"data\": {\"bar\": [{\"error_x\": {\"color\": \"#2a3f5f\"}, \"error_y\": {\"color\": \"#2a3f5f\"}, \"marker\": {\"line\": {\"color\": \"#E5ECF6\", \"width\": 0.5}}, \"type\": \"bar\"}], \"barpolar\": [{\"marker\": {\"line\": {\"color\": \"#E5ECF6\", \"width\": 0.5}}, \"type\": \"barpolar\"}], \"carpet\": [{\"aaxis\": {\"endlinecolor\": \"#2a3f5f\", \"gridcolor\": \"white\", \"linecolor\": \"white\", \"minorgridcolor\": \"white\", \"startlinecolor\": \"#2a3f5f\"}, \"baxis\": {\"endlinecolor\": \"#2a3f5f\", \"gridcolor\": \"white\", \"linecolor\": \"white\", \"minorgridcolor\": \"white\", \"startlinecolor\": \"#2a3f5f\"}, \"type\": \"carpet\"}], \"choropleth\": [{\"colorbar\": {\"outlinewidth\": 0, \"ticks\": \"\"}, \"type\": \"choropleth\"}], \"contour\": [{\"colorbar\": {\"outlinewidth\": 0, \"ticks\": \"\"}, \"colorscale\": [[0.0, \"#0d0887\"], [0.1111111111111111, \"#46039f\"], [0.2222222222222222, \"#7201a8\"], [0.3333333333333333, \"#9c179e\"], [0.4444444444444444, \"#bd3786\"], [0.5555555555555556, \"#d8576b\"], [0.6666666666666666, \"#ed7953\"], [0.7777777777777778, \"#fb9f3a\"], [0.8888888888888888, \"#fdca26\"], [1.0, \"#f0f921\"]], \"type\": \"contour\"}], \"contourcarpet\": [{\"colorbar\": {\"outlinewidth\": 0, \"ticks\": \"\"}, \"type\": \"contourcarpet\"}], \"heatmap\": [{\"colorbar\": {\"outlinewidth\": 0, \"ticks\": \"\"}, \"colorscale\": [[0.0, \"#0d0887\"], [0.1111111111111111, \"#46039f\"], [0.2222222222222222, \"#7201a8\"], [0.3333333333333333, \"#9c179e\"], [0.4444444444444444, \"#bd3786\"], [0.5555555555555556, \"#d8576b\"], [0.6666666666666666, \"#ed7953\"], [0.7777777777777778, \"#fb9f3a\"], [0.8888888888888888, \"#fdca26\"], [1.0, \"#f0f921\"]], \"type\": \"heatmap\"}], \"heatmapgl\": [{\"colorbar\": {\"outlinewidth\": 0, \"ticks\": \"\"}, \"colorscale\": [[0.0, \"#0d0887\"], [0.1111111111111111, \"#46039f\"], [0.2222222222222222, \"#7201a8\"], [0.3333333333333333, \"#9c179e\"], [0.4444444444444444, \"#bd3786\"], [0.5555555555555556, \"#d8576b\"], [0.6666666666666666, \"#ed7953\"], [0.7777777777777778, \"#fb9f3a\"], [0.8888888888888888, \"#fdca26\"], [1.0, \"#f0f921\"]], \"type\": \"heatmapgl\"}], \"histogram\": [{\"marker\": {\"colorbar\": {\"outlinewidth\": 0, \"ticks\": \"\"}}, \"type\": \"histogram\"}], \"histogram2d\": [{\"colorbar\": {\"outlinewidth\": 0, \"ticks\": \"\"}, \"colorscale\": [[0.0, \"#0d0887\"], [0.1111111111111111, \"#46039f\"], [0.2222222222222222, \"#7201a8\"], [0.3333333333333333, \"#9c179e\"], [0.4444444444444444, \"#bd3786\"], [0.5555555555555556, \"#d8576b\"], [0.6666666666666666, \"#ed7953\"], [0.7777777777777778, \"#fb9f3a\"], [0.8888888888888888, \"#fdca26\"], [1.0, \"#f0f921\"]], \"type\": \"histogram2d\"}], \"histogram2dcontour\": [{\"colorbar\": {\"outlinewidth\": 0, \"ticks\": \"\"}, \"colorscale\": [[0.0, \"#0d0887\"], [0.1111111111111111, \"#46039f\"], [0.2222222222222222, \"#7201a8\"], [0.3333333333333333, \"#9c179e\"], [0.4444444444444444, \"#bd3786\"], [0.5555555555555556, \"#d8576b\"], [0.6666666666666666, \"#ed7953\"], [0.7777777777777778, \"#fb9f3a\"], [0.8888888888888888, \"#fdca26\"], [1.0, \"#f0f921\"]], \"type\": \"histogram2dcontour\"}], \"mesh3d\": [{\"colorbar\": {\"outlinewidth\": 0, \"ticks\": \"\"}, \"type\": \"mesh3d\"}], \"parcoords\": [{\"line\": {\"colorbar\": {\"outlinewidth\": 0, \"ticks\": \"\"}}, \"type\": \"parcoords\"}], \"pie\": [{\"automargin\": true, \"type\": \"pie\"}], \"scatter\": [{\"marker\": {\"colorbar\": {\"outlinewidth\": 0, \"ticks\": \"\"}}, \"type\": \"scatter\"}], \"scatter3d\": [{\"line\": {\"colorbar\": {\"outlinewidth\": 0, \"ticks\": \"\"}}, \"marker\": {\"colorbar\": {\"outlinewidth\": 0, \"ticks\": \"\"}}, \"type\": \"scatter3d\"}], \"scattercarpet\": [{\"marker\": {\"colorbar\": {\"outlinewidth\": 0, \"ticks\": \"\"}}, \"type\": \"scattercarpet\"}], \"scattergeo\": [{\"marker\": {\"colorbar\": {\"outlinewidth\": 0, \"ticks\": \"\"}}, \"type\": \"scattergeo\"}], \"scattergl\": [{\"marker\": {\"colorbar\": {\"outlinewidth\": 0, \"ticks\": \"\"}}, \"type\": \"scattergl\"}], \"scattermapbox\": [{\"marker\": {\"colorbar\": {\"outlinewidth\": 0, \"ticks\": \"\"}}, \"type\": \"scattermapbox\"}], \"scatterpolar\": [{\"marker\": {\"colorbar\": {\"outlinewidth\": 0, \"ticks\": \"\"}}, \"type\": \"scatterpolar\"}], \"scatterpolargl\": [{\"marker\": {\"colorbar\": {\"outlinewidth\": 0, \"ticks\": \"\"}}, \"type\": \"scatterpolargl\"}], \"scatterternary\": [{\"marker\": {\"colorbar\": {\"outlinewidth\": 0, \"ticks\": \"\"}}, \"type\": \"scatterternary\"}], \"surface\": [{\"colorbar\": {\"outlinewidth\": 0, \"ticks\": \"\"}, \"colorscale\": [[0.0, \"#0d0887\"], [0.1111111111111111, \"#46039f\"], [0.2222222222222222, \"#7201a8\"], [0.3333333333333333, \"#9c179e\"], [0.4444444444444444, \"#bd3786\"], [0.5555555555555556, \"#d8576b\"], [0.6666666666666666, \"#ed7953\"], [0.7777777777777778, \"#fb9f3a\"], [0.8888888888888888, \"#fdca26\"], [1.0, \"#f0f921\"]], \"type\": \"surface\"}], \"table\": [{\"cells\": {\"fill\": {\"color\": \"#EBF0F8\"}, \"line\": {\"color\": \"white\"}}, \"header\": {\"fill\": {\"color\": \"#C8D4E3\"}, \"line\": {\"color\": \"white\"}}, \"type\": \"table\"}]}, \"layout\": {\"annotationdefaults\": {\"arrowcolor\": \"#2a3f5f\", \"arrowhead\": 0, \"arrowwidth\": 1}, \"autotypenumbers\": \"strict\", \"coloraxis\": {\"colorbar\": {\"outlinewidth\": 0, \"ticks\": \"\"}}, \"colorscale\": {\"diverging\": [[0, \"#8e0152\"], [0.1, \"#c51b7d\"], [0.2, \"#de77ae\"], [0.3, \"#f1b6da\"], [0.4, \"#fde0ef\"], [0.5, \"#f7f7f7\"], [0.6, \"#e6f5d0\"], [0.7, \"#b8e186\"], [0.8, \"#7fbc41\"], [0.9, \"#4d9221\"], [1, \"#276419\"]], \"sequential\": [[0.0, \"#0d0887\"], [0.1111111111111111, \"#46039f\"], [0.2222222222222222, \"#7201a8\"], [0.3333333333333333, \"#9c179e\"], [0.4444444444444444, \"#bd3786\"], [0.5555555555555556, \"#d8576b\"], [0.6666666666666666, \"#ed7953\"], [0.7777777777777778, \"#fb9f3a\"], [0.8888888888888888, \"#fdca26\"], [1.0, \"#f0f921\"]], \"sequentialminus\": [[0.0, \"#0d0887\"], [0.1111111111111111, \"#46039f\"], [0.2222222222222222, \"#7201a8\"], [0.3333333333333333, \"#9c179e\"], [0.4444444444444444, \"#bd3786\"], [0.5555555555555556, \"#d8576b\"], [0.6666666666666666, \"#ed7953\"], [0.7777777777777778, \"#fb9f3a\"], [0.8888888888888888, \"#fdca26\"], [1.0, \"#f0f921\"]]}, \"colorway\": [\"#636efa\", \"#EF553B\", \"#00cc96\", \"#ab63fa\", \"#FFA15A\", \"#19d3f3\", \"#FF6692\", \"#B6E880\", \"#FF97FF\", \"#FECB52\"], \"font\": {\"color\": \"#2a3f5f\"}, \"geo\": {\"bgcolor\": \"white\", \"lakecolor\": \"white\", \"landcolor\": \"#E5ECF6\", \"showlakes\": true, \"showland\": true, \"subunitcolor\": \"white\"}, \"hoverlabel\": {\"align\": \"left\"}, \"hovermode\": \"closest\", \"mapbox\": {\"style\": \"light\"}, \"paper_bgcolor\": \"white\", \"plot_bgcolor\": \"#E5ECF6\", \"polar\": {\"angularaxis\": {\"gridcolor\": \"white\", \"linecolor\": \"white\", \"ticks\": \"\"}, \"bgcolor\": \"#E5ECF6\", \"radialaxis\": {\"gridcolor\": \"white\", \"linecolor\": \"white\", \"ticks\": \"\"}}, \"scene\": {\"xaxis\": {\"backgroundcolor\": \"#E5ECF6\", \"gridcolor\": \"white\", \"gridwidth\": 2, \"linecolor\": \"white\", \"showbackground\": true, \"ticks\": \"\", \"zerolinecolor\": \"white\"}, \"yaxis\": {\"backgroundcolor\": \"#E5ECF6\", \"gridcolor\": \"white\", \"gridwidth\": 2, \"linecolor\": \"white\", \"showbackground\": true, \"ticks\": \"\", \"zerolinecolor\": \"white\"}, \"zaxis\": {\"backgroundcolor\": \"#E5ECF6\", \"gridcolor\": \"white\", \"gridwidth\": 2, \"linecolor\": \"white\", \"showbackground\": true, \"ticks\": \"\", \"zerolinecolor\": \"white\"}}, \"shapedefaults\": {\"line\": {\"color\": \"#2a3f5f\"}}, \"ternary\": {\"aaxis\": {\"gridcolor\": \"white\", \"linecolor\": \"white\", \"ticks\": \"\"}, \"baxis\": {\"gridcolor\": \"white\", \"linecolor\": \"white\", \"ticks\": \"\"}, \"bgcolor\": \"#E5ECF6\", \"caxis\": {\"gridcolor\": \"white\", \"linecolor\": \"white\", \"ticks\": \"\"}}, \"title\": {\"x\": 0.05}, \"xaxis\": {\"automargin\": true, \"gridcolor\": \"white\", \"linecolor\": \"white\", \"ticks\": \"\", \"title\": {\"standoff\": 15}, \"zerolinecolor\": \"white\", \"zerolinewidth\": 2}, \"yaxis\": {\"automargin\": true, \"gridcolor\": \"white\", \"linecolor\": \"white\", \"ticks\": \"\", \"title\": {\"standoff\": 15}, \"zerolinecolor\": \"white\", \"zerolinewidth\": 2}}}, \"title\": {\"text\": \"New Confirmed\", \"x\": 0.5, \"xanchor\": \"center\", \"y\": 1, \"yanchor\": \"top\"}},                        {\"responsive\": true}                    ).then(function(){\n",
       "                            \n",
       "var gd = document.getElementById('72ec6b48-2eef-4521-b09e-c2e6e959958f');\n",
       "var x = new MutationObserver(function (mutations, observer) {{\n",
       "        var display = window.getComputedStyle(gd).display;\n",
       "        if (!display || display === 'none') {{\n",
       "            console.log([gd, 'removed!']);\n",
       "            Plotly.purge(gd);\n",
       "            observer.disconnect();\n",
       "        }}\n",
       "}});\n",
       "\n",
       "// Listen for the removal of the full notebook cells\n",
       "var notebookContainer = gd.closest('#notebook-container');\n",
       "if (notebookContainer) {{\n",
       "    x.observe(notebookContainer, {childList: true});\n",
       "}}\n",
       "\n",
       "// Listen for the clearing of the current output cell\n",
       "var outputEl = gd.closest('.output');\n",
       "if (outputEl) {{\n",
       "    x.observe(outputEl, {childList: true});\n",
       "}}\n",
       "\n",
       "                        })                };                });            </script>        </div>"
      ]
     },
     "metadata": {},
     "output_type": "display_data"
    }
   ],
   "source": [
    "value_cases = df2[df2['Country'] == w_countries]['confirmed'].iloc[-1] - df2[df2['Country'] == w_countries]['confirmed'].iloc[-2]\n",
    "change_cases = df2[df2['Country'] == w_countries]['confirmed'].iloc[-2] - df2[df2['Country'] == w_countries]['confirmed'].iloc[-3]\n",
    "\n",
    "fig = go.Figure(\n",
    "    go.Indicator(\n",
    "            mode= 'number+ delta',\n",
    "            value = value_cases,\n",
    "            delta ={\n",
    "                'reference':change_cases,\n",
    "                'position':'right',\n",
    "                'valueformat':'.9',\n",
    "                'relative':False,\n",
    "                'font':{'size':15}\n",
    "            },\n",
    "            number={'valueformat': '.' , 'font':{'size':20},},\n",
    "            # domain={'v':[0,1] , 'x':[0,1]}\n",
    "            )\n",
    ")\n",
    "fig.update_layout(\n",
    "                title={\n",
    "                'text':'New Confirmed',\n",
    "                'y':1,\n",
    "                'x':0.5,\n",
    "                'xanchor':'center',\n",
    "                'yanchor':'top',\n",
    "            },\n",
    "            font=dict(color ='orange'),\n",
    "            paper_bgcolor='#1f2c56',\n",
    "            plot_bgcolor='#1f2c57',\n",
    "#             height=500,\n",
    "#             width =200\n",
    ")\n",
    "\n",
    "fig.show()"
   ]
  },
  {
   "cell_type": "code",
   "execution_count": null,
   "metadata": {},
   "outputs": [],
   "source": []
  }
 ],
 "metadata": {
  "kernelspec": {
   "display_name": "Python 3",
   "language": "python",
   "name": "python3"
  },
  "language_info": {
   "codemirror_mode": {
    "name": "ipython",
    "version": 3
   },
   "file_extension": ".py",
   "mimetype": "text/x-python",
   "name": "python",
   "nbconvert_exporter": "python",
   "pygments_lexer": "ipython3",
   "version": "3.8.5"
  }
 },
 "nbformat": 4,
 "nbformat_minor": 4
}
